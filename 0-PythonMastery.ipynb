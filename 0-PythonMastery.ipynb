{
 "metadata": {
  "name": "",
  "signature": "sha256:77ab2017d481fc14c21ec7c143ee8155e2f23e1d3b91f2b76b91ba87d386e8ba"
 },
 "nbformat": 3,
 "nbformat_minor": 0,
 "worksheets": [
  {
   "cells": [
    {
     "cell_type": "markdown",
     "metadata": {},
     "source": [
      "Python Mastery\n",
      "==============\n",
      "\n",
      "*Dec 8-11, 2014*\n",
      "\n",
      "**Copyrighted David Beazley and Continuum Analytics**\n",
      "\n",
      "<center><img src=\"http://ijstokes-public.s3.amazonaws.com/img/continuum-logo-color.png\"></center>\n",
      "\n",
      "Taught by:\n",
      "\n",
      "* Ian Stokes-Rees [ijstokes@continuum.io](mailto:ijstokes@continuum.io)\n",
      "    * Twitter: [@ijstokes](http://twitter.com/ijstokes)\n",
      "    * About.Me: [http://about.me/ijstokes](http://about.me/ijstokes)\n",
      "    * LinkedIn: [http://linkedin.com/in/ijstokes](http://linkedin.com/in/ijstokes)\n",
      "\n",
      "Course Website: \n",
      " [http://j.mp/python-mastery-isr19](http://j.mp/python-mastery-isr19)\n",
      " \n",
      "GitHub Version:\n",
      " [https://github.com/ijstokes/python-mastery-isr19.git](https://github.com/ijstokes/python-mastery-isr19.git)"
     ]
    },
    {
     "cell_type": "markdown",
     "metadata": {},
     "source": [
      "Python Versions\n",
      "===============\n",
      "`MAJOR.MINOR.MICRO`\n",
      "\n",
      "E.g. `2.7.8`\n",
      "\n",
      "* Major version: significant change to language structure (grammar and reserved words), and implementation\n",
      "\n",
      "* Minor version: attempt to be forwards and backwards compatible, but introduce new *Standard Library* modules or updates to existing modules.\n",
      "    * forwards/backwrads compatibility is not guaranteed\n",
      "    * always give 2 minor versions advance notice of language changes\n",
      "    \n",
      "* Micro version: only bug fixes -- no language or API changes"
     ]
    },
    {
     "cell_type": "markdown",
     "metadata": {},
     "source": [
      "Great Python Tools\n",
      "==================\n",
      "* <a href=\"http://ipython.org\">IPython</a>\n",
      "    * command line: `ipython`\n",
      "    * web view: `ipython notebook`\n",
      "* <a href=\"https://code.google.com/p/spyderlib/\">Spyder</a> Python IDE\n",
      "    * included with Anaconda*\n",
      "* <a href=\"https://www.jetbrains.com/pycharm/\">PyCharm</a> Python IDE\n",
      "    * free community edition\n",
      "* <a href=\"http://pydev.org/\">PyDev</a> Eclipse IDE plugin for Python development\n",
      "* <a href=\"http://www.sublimetext.com/\">Sublime Text 3</a> cross-platform programmer's editor\n",
      "* <a href=\"http://git-scm.com/\">Git</a>"
     ]
    },
    {
     "cell_type": "markdown",
     "metadata": {},
     "source": [
      "Reading and Reference\n",
      "=====================\n",
      "* Idiomatic Python: [http://python.net/~goodger/projects/pycon/2007/idiomatic/handout.html](http://python.net/~goodger/projects/pycon/2007/idiomatic/handout.html)\n",
      "* Python Style Guides:\n",
      "    * PEP 8: [http://legacy.python.org/dev/peps/pep-0008/](http://legacy.python.org/dev/peps/pep-0008/)\n",
      "    * Google Python Style Guide:[http://google-styleguide.googlecode.com/svn/trunk/pyguide.html](http://google-styleguide.googlecode.com/svn/trunk/pyguide.html)\n",
      "* Magic methods:\n",
      "    * official specs: [http://docs.python.org/reference/datamodel.html#special-method-names](http://docs.python.org/reference/datamodel.html#special-method-names)\n",
      "    * great summary: [http://www.rafekettler.com/magicmethods.html](http://www.rafekettler.com/magicmethods.html)"
     ]
    },
    {
     "cell_type": "markdown",
     "metadata": {},
     "source": [
      "Python Language Mental Model\n",
      "============================\n",
      "* 30 reserved words (aka keywords)\n",
      "    * http://docs.python.org/2.7/reference/lexical_analysis.html#keywords\n",
      "    * *logic:* `and, not, or`\n",
      "    * *namespaces:* `import, from, as, del, global`\n",
      "    * *object creation:* `class, def, lambda`\n",
      "    * *functions:* `return, print, yield`\n",
      "    * *looping:* `while, for, break, continue`\n",
      "    * *conditional:* `if, else, elif`\n",
      "    * *exeptions:* `try, except, finally, raise`\n",
      "    * *misc:* `pass, assert, with, exec, in, is`\n",
      "                  \n",
      "* Interpreter starts up knowing (almost) *nothing* but language syntax"
     ]
    },
    {
     "cell_type": "markdown",
     "metadata": {},
     "source": [
      "`__builtin__`\n",
      "=============\n",
      "* The Python Language defines a special module called *__builtin__* that is part of the Standard Library\n",
      "* It contains *functions*, *exceptions*, and *classes* that are very common:\n",
      "    * 3 special entries: *None*, *True*, *False* (keywords in Python 3)\n",
      "    * 10 core types\n",
      "        * *int, long, float, bool, complex, str, list, dict, tuple, set*\n",
      "    * 20 supporting types\n",
      "        * *file, xrange, object, ...*\n",
      "    * 40 exceptions (upper camel case, mostly ending in *Error* or *Warning*)\n",
      "    * 50 functions\n",
      "        * Math: *abs min max pow round sum divmod*\n",
      "        * Logic: *all any apply map filter reduce*\n",
      "        * Check: *callable isinstance issubclass*\n",
      "        * Convert: *bin chr hex cmp coerce oct ord unichr*\n",
      "        * Introspect: *dir id vars locals globals hasattr getattr setattr delattr compile eval execfile intern hash repr*\n",
      "        * File: *open*\n",
      "        * Iterable: *len range zip iter next sorted*\n",
      "        * Other: *format reload*\n",
      "\n",
      "* Any reference lookup that doesn't find the reference in the *local* namespace (first) or the *global* (which means *module*) namespace (second) will check the `__builtin__` modules namespace (third)\n",
      "* CPython automatically provides a reference to the `__builtin__` module in every *global* namespace but gives it the name `__builtins__`\n",
      "    * under normal use, you never need to use this module reference\n",
      "* If the *local* or *global* namespace has a reference that is found in `__builtin__` then the `__builtin__` reference will be masked"
     ]
    },
    {
     "cell_type": "markdown",
     "metadata": {},
     "source": [
      "Python Interpreter At Startup\n",
      "-----------------------------\n",
      "Think of a *virgin python interpreter* as an *empty box*.  This is what your program will see when it starts running, and what you will see when you start an interactive interpreter session.\n",
      "\n",
      "The interpreter only knows about:\n",
      "\n",
      "* Core sytnax\n",
      "* `__main__` module scope (`local` and `global` scope both refer to this)\n",
      "* how to resolve references:\n",
      "    * *local scope* (`locals()`)\n",
      "    * *global scope* (`globals()`)\n",
      "    * `__builtin__` Standard Library module\n",
      "* Interpreter starts with usual module meta-data references:\n",
      "    * `__name__`: name of the module (always `__main__` for initial interpreter instance)\n",
      "    * `__package__`: name of the package this module is in (always `None` for initial interpreter instance)\n",
      "    * `__doc__`: module *docstring* (always `None` for initial interpreter instance)\n",
      "    * *CPython implementation detail:* CPython interpreter will automatically add a reference `__builtins__` to all *global* scopes\n",
      "    \n",
      "Everything else needs to \"appear\" via:\n",
      "\n",
      "1. *assignment statements*:\n",
      "    `REFERENCE = EXPRESSION`,\n",
      "    e.g. `x = 3` or `y = sort(['foo', 'bar', 'zip'])`\n",
      "2. *import statements*: imports modules or creates references to objects defined in modules\n",
      "3. *class statements*: creates a class object and adds a reference in the *local* scope\n",
      "4. *def statements*: creates a function object and adds a reference in the *local* scope"
     ]
    },
    {
     "cell_type": "markdown",
     "metadata": {},
     "source": [
      "Quiz: Python Mental Model\n",
      "-------------------------\n",
      "1. How many reserved words (key words) are there in Python (2.7)?\n",
      "2. How many can you name? (*Hint:* think of the categories: namespace, logic, function, object creation, looping, conditional, exceptions, misc)\n",
      "3. What does the Python interpreter know about at startup?\n",
      "4. What is special about the `builtin` module?\n",
      "5. What is the breakdown of the `builtin` module's contents?\n",
      "6. How many packages are in the Python Standard Library?\n",
      "7. What are features of the Python Standard Library?\n",
      "8. How does reference scoping work in Python?\n",
      "9. What is Python's reference lookup priority?\n",
      "10. How are objects scoped in Python?\n",
      "11. What are the mechanisms to create objects in Python?\n",
      "12. How do you delete an object in Python?\n",
      "13. How does `import` work?"
     ]
    },
    {
     "cell_type": "markdown",
     "metadata": {},
     "source": [
      "Python Standard Library\n",
      "=======================\n",
      "* Python Standard Library offers about 300 amazing modules:\n",
      "    * included with every Python distribution (*\"batteries included\"*)\n",
      "    * well documented\n",
      "    * stable APIs (7-12 years)\n",
      "    * great performance (highly optimized -- implemented in C if necessary)\n",
      "    * widely used (field tested: problems will surface fast)\n",
      "    * code reviewed\n",
      "    * great test coverage (~100%)\n",
      "* A killer feature of Python\n",
      "    * so why wouldn't you use them?\n",
      "    * sing it from the mountain tops!\n",
      "* Check the Standard Library **first**:\n",
      "    * before writing it yourself\n",
      "    * before looking in the Cheeseshop\n",
      "* Python Tutorial provides a nice overview in the last few chapters\n",
      "    * skimmable\n",
      "    * includes examples"
     ]
    },
    {
     "cell_type": "code",
     "collapsed": false,
     "input": [
      "# Wakari helper function to clear namespace:\n",
      "def _clear():\n",
      "    for thing in globals().keys():\n",
      "        if not thing.startswith(\"_\"):\n",
      "            del globals()[thing]"
     ],
     "language": "python",
     "metadata": {},
     "outputs": [],
     "prompt_number": 1
    },
    {
     "cell_type": "code",
     "collapsed": false,
     "input": [
      "# Wakari helper function to list non-underscore attributes\n",
      "def _dir(*obj):\n",
      "    return [a for a in sorted(globals().keys()) if not a.startswith('_')]"
     ],
     "language": "python",
     "metadata": {},
     "outputs": [],
     "prompt_number": 3
    },
    {
     "cell_type": "code",
     "collapsed": false,
     "input": [],
     "language": "python",
     "metadata": {},
     "outputs": []
    }
   ],
   "metadata": {}
  }
 ]
}