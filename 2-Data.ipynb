{
 "metadata": {
  "name": "",
  "signature": "sha256:4150d5990ed301da6ebe2d17ad1ee409f3b3a82885da4132b6a0926465bc0f02"
 },
 "nbformat": 3,
 "nbformat_minor": 0,
 "worksheets": [
  {
   "cells": [
    {
     "cell_type": "markdown",
     "metadata": {},
     "source": [
      "Tuples\n",
      "------\n",
      "* Think of them as a C-struct: associating a number of objects together\n",
      "* immutable: once created, references in tuple instance cannot be changed:\n",
      "    * NOTE: this doesn't mean that the objects *inside* the tuple cannot have their state changed, but that depends on those contained objects mutability\n",
      "* ordered with index lookup\n",
      "* no constraints on what is contained in the tuple\n",
      "    * any object\n",
      "    * no uniqueness constraint"
     ]
    },
    {
     "cell_type": "code",
     "collapsed": false,
     "input": [
      "# tuple version of points:\n",
      "a = (3, 4)\n",
      "b = (9, 6)\n",
      "\n",
      "from math import sqrt\n",
      "def dist(p1, p2):\n",
      "    ' tuple version of point distance '\n",
      "    return sqrt((p2[0] - p1[0])**2 + (p2[1] - p1[1])**2)"
     ],
     "language": "python",
     "metadata": {},
     "outputs": [],
     "prompt_number": 1
    },
    {
     "cell_type": "code",
     "collapsed": false,
     "input": [
      "dist(a, b)"
     ],
     "language": "python",
     "metadata": {},
     "outputs": [
      {
       "metadata": {},
       "output_type": "pyout",
       "prompt_number": 2,
       "text": [
        "6.324555320336759"
       ]
      }
     ],
     "prompt_number": 2
    },
    {
     "cell_type": "code",
     "collapsed": false,
     "input": [
      "# dict version of points:\n",
      "a = dict(x=3, y=4)\n",
      "b = dict(x=9, y=6)\n",
      "\n",
      "def dist(p1, p2):\n",
      "    ' tuple version of point distance '\n",
      "    return sqrt((p2['x'] - p1['x'])**2 + (p2['y'] - p1['y'])**2)"
     ],
     "language": "python",
     "metadata": {},
     "outputs": [],
     "prompt_number": 4
    },
    {
     "cell_type": "code",
     "collapsed": false,
     "input": [
      "a"
     ],
     "language": "python",
     "metadata": {},
     "outputs": [
      {
       "metadata": {},
       "output_type": "pyout",
       "prompt_number": 5,
       "text": [
        "{'y': 4, 'x': 3}"
       ]
      }
     ],
     "prompt_number": 5
    },
    {
     "cell_type": "code",
     "collapsed": false,
     "input": [
      "b"
     ],
     "language": "python",
     "metadata": {},
     "outputs": [
      {
       "metadata": {},
       "output_type": "pyout",
       "prompt_number": 6,
       "text": [
        "{'y': 6, 'x': 9}"
       ]
      }
     ],
     "prompt_number": 6
    },
    {
     "cell_type": "code",
     "collapsed": false,
     "input": [
      "dist(a, b)"
     ],
     "language": "python",
     "metadata": {},
     "outputs": [
      {
       "metadata": {},
       "output_type": "pyout",
       "prompt_number": 7,
       "text": [
        "6.324555320336759"
       ]
      }
     ],
     "prompt_number": 7
    },
    {
     "cell_type": "code",
     "collapsed": false,
     "input": [
      "g = ('GOOG', 100, 530.18)\n",
      "h = ('HP', 250, 38.17)\n",
      "a = ('AAPL', 50, 112.90)\n",
      "stocks = [g, h, a]"
     ],
     "language": "python",
     "metadata": {},
     "outputs": [],
     "prompt_number": 10
    },
    {
     "cell_type": "code",
     "collapsed": false,
     "input": [
      "stocks"
     ],
     "language": "python",
     "metadata": {},
     "outputs": [
      {
       "metadata": {},
       "output_type": "pyout",
       "prompt_number": 11,
       "text": [
        "[('GOOG', 100, 530.18), ('HP', 250, 38.17), ('AAPL', 50, 112.9)]"
       ]
      }
     ],
     "prompt_number": 11
    },
    {
     "cell_type": "code",
     "collapsed": false,
     "input": [
      "from collections import namedtuple"
     ],
     "language": "python",
     "metadata": {},
     "outputs": [],
     "prompt_number": 12
    },
    {
     "cell_type": "code",
     "collapsed": false,
     "input": [
      "StockTuple = namedtuple('StockTuple', ['tick', 'count', 'price'], verbose=True)"
     ],
     "language": "python",
     "metadata": {},
     "outputs": [
      {
       "output_type": "stream",
       "stream": "stdout",
       "text": [
        "from builtins import property as _property, tuple as _tuple\n",
        "from operator import itemgetter as _itemgetter\n",
        "from collections import OrderedDict\n",
        "\n",
        "class StockTuple(tuple):\n",
        "    'StockTuple(tick, count, price)'\n",
        "\n",
        "    __slots__ = ()\n",
        "\n",
        "    _fields = ('tick', 'count', 'price')\n",
        "\n",
        "    def __new__(_cls, tick, count, price):\n",
        "        'Create new instance of StockTuple(tick, count, price)'\n",
        "        return _tuple.__new__(_cls, (tick, count, price))\n",
        "\n",
        "    @classmethod\n",
        "    def _make(cls, iterable, new=tuple.__new__, len=len):\n",
        "        'Make a new StockTuple object from a sequence or iterable'\n",
        "        result = new(cls, iterable)\n",
        "        if len(result) != 3:\n",
        "            raise TypeError('Expected 3 arguments, got %d' % len(result))\n",
        "        return result\n",
        "\n",
        "    def _replace(_self, **kwds):\n",
        "        'Return a new StockTuple object replacing specified fields with new values'\n",
        "        result = _self._make(map(kwds.pop, ('tick', 'count', 'price'), _self))\n",
        "        if kwds:\n",
        "            raise ValueError('Got unexpected field names: %r' % list(kwds))\n",
        "        return result\n",
        "\n",
        "    def __repr__(self):\n",
        "        'Return a nicely formatted representation string'\n",
        "        return self.__class__.__name__ + '(tick=%r, count=%r, price=%r)' % self\n",
        "\n",
        "    @property\n",
        "    def __dict__(self):\n",
        "        'A new OrderedDict mapping field names to their values'\n",
        "        return OrderedDict(zip(self._fields, self))\n",
        "\n",
        "    def _asdict(self):\n",
        "        'Return a new OrderedDict which maps field names to their values.'\n",
        "        return self.__dict__\n",
        "\n",
        "    def __getnewargs__(self):\n",
        "        'Return self as a plain tuple.  Used by copy and pickle.'\n",
        "        return tuple(self)\n",
        "\n",
        "    def __getstate__(self):\n",
        "        'Exclude the OrderedDict from pickling'\n",
        "        return None\n",
        "\n",
        "    tick = _property(_itemgetter(0), doc='Alias for field number 0')\n",
        "\n",
        "    count = _property(_itemgetter(1), doc='Alias for field number 1')\n",
        "\n",
        "    price = _property(_itemgetter(2), doc='Alias for field number 2')\n",
        "\n",
        "\n"
       ]
      }
     ],
     "prompt_number": 29
    },
    {
     "cell_type": "code",
     "collapsed": false,
     "input": [
      "StockTuple"
     ],
     "language": "python",
     "metadata": {},
     "outputs": [
      {
       "metadata": {},
       "output_type": "pyout",
       "prompt_number": 14,
       "text": [
        "__main__.StockTuple"
       ]
      }
     ],
     "prompt_number": 14
    },
    {
     "cell_type": "code",
     "collapsed": false,
     "input": [
      "g = StockTuple('GOOG', 100, 530.18)\n",
      "h = StockTuple('HP', 250, 38.17)\n",
      "a = StockTuple('AAPL', 50, 112.90)"
     ],
     "language": "python",
     "metadata": {},
     "outputs": [],
     "prompt_number": 15
    },
    {
     "cell_type": "code",
     "collapsed": false,
     "input": [
      "stocks = [g, h, a]"
     ],
     "language": "python",
     "metadata": {},
     "outputs": [],
     "prompt_number": 16
    },
    {
     "cell_type": "code",
     "collapsed": false,
     "input": [
      "g"
     ],
     "language": "python",
     "metadata": {},
     "outputs": [
      {
       "metadata": {},
       "output_type": "pyout",
       "prompt_number": 17,
       "text": [
        "StockTuple(tick='GOOG', count=100, price=530.18)"
       ]
      }
     ],
     "prompt_number": 17
    },
    {
     "cell_type": "code",
     "collapsed": false,
     "input": [
      "h"
     ],
     "language": "python",
     "metadata": {},
     "outputs": [
      {
       "metadata": {},
       "output_type": "pyout",
       "prompt_number": 18,
       "text": [
        "StockTuple(tick='HP', count=250, price=38.17)"
       ]
      }
     ],
     "prompt_number": 18
    },
    {
     "cell_type": "code",
     "collapsed": false,
     "input": [
      "a"
     ],
     "language": "python",
     "metadata": {},
     "outputs": [
      {
       "metadata": {},
       "output_type": "pyout",
       "prompt_number": 19,
       "text": [
        "StockTuple(tick='AAPL', count=50, price=112.9)"
       ]
      }
     ],
     "prompt_number": 19
    },
    {
     "cell_type": "code",
     "collapsed": false,
     "input": [
      "h[0]"
     ],
     "language": "python",
     "metadata": {},
     "outputs": [
      {
       "metadata": {},
       "output_type": "pyout",
       "prompt_number": 20,
       "text": [
        "'HP'"
       ]
      }
     ],
     "prompt_number": 20
    },
    {
     "cell_type": "code",
     "collapsed": false,
     "input": [
      "h[1]"
     ],
     "language": "python",
     "metadata": {},
     "outputs": [
      {
       "metadata": {},
       "output_type": "pyout",
       "prompt_number": 21,
       "text": [
        "250"
       ]
      }
     ],
     "prompt_number": 21
    },
    {
     "cell_type": "code",
     "collapsed": false,
     "input": [
      "h[2]"
     ],
     "language": "python",
     "metadata": {},
     "outputs": [
      {
       "metadata": {},
       "output_type": "pyout",
       "prompt_number": 22,
       "text": [
        "38.17"
       ]
      }
     ],
     "prompt_number": 22
    },
    {
     "cell_type": "code",
     "collapsed": false,
     "input": [
      "h[2] = 45.25 # we can't update fields"
     ],
     "language": "python",
     "metadata": {},
     "outputs": [
      {
       "ename": "TypeError",
       "evalue": "'StockTuple' object does not support item assignment",
       "output_type": "pyerr",
       "traceback": [
        "\u001b[0;31m---------------------------------------------------------------------------\u001b[0m\n\u001b[0;31mTypeError\u001b[0m                                 Traceback (most recent call last)",
        "\u001b[0;32m<ipython-input-24-da20b11080b8>\u001b[0m in \u001b[0;36m<module>\u001b[0;34m()\u001b[0m\n\u001b[0;32m----> 1\u001b[0;31m \u001b[0mh\u001b[0m\u001b[0;34m[\u001b[0m\u001b[0;36m2\u001b[0m\u001b[0;34m]\u001b[0m \u001b[0;34m=\u001b[0m \u001b[0;36m45.25\u001b[0m \u001b[0;31m# we can't update fields\u001b[0m\u001b[0;34m\u001b[0m\u001b[0m\n\u001b[0m",
        "\u001b[0;31mTypeError\u001b[0m: 'StockTuple' object does not support item assignment"
       ]
      }
     ],
     "prompt_number": 24
    },
    {
     "cell_type": "code",
     "collapsed": false,
     "input": [
      "h.tick"
     ],
     "language": "python",
     "metadata": {},
     "outputs": [
      {
       "metadata": {},
       "output_type": "pyout",
       "prompt_number": 25,
       "text": [
        "'HP'"
       ]
      }
     ],
     "prompt_number": 25
    },
    {
     "cell_type": "code",
     "collapsed": false,
     "input": [
      "h.count"
     ],
     "language": "python",
     "metadata": {},
     "outputs": [
      {
       "metadata": {},
       "output_type": "pyout",
       "prompt_number": 26,
       "text": [
        "250"
       ]
      }
     ],
     "prompt_number": 26
    },
    {
     "cell_type": "code",
     "collapsed": false,
     "input": [
      "h.price"
     ],
     "language": "python",
     "metadata": {},
     "outputs": [
      {
       "metadata": {},
       "output_type": "pyout",
       "prompt_number": 27,
       "text": [
        "38.17"
       ]
      }
     ],
     "prompt_number": 27
    },
    {
     "cell_type": "code",
     "collapsed": false,
     "input": [
      "stocks"
     ],
     "language": "python",
     "metadata": {},
     "outputs": [
      {
       "metadata": {},
       "output_type": "pyout",
       "prompt_number": 28,
       "text": [
        "[StockTuple(tick='GOOG', count=100, price=530.18),\n",
        " StockTuple(tick='HP', count=250, price=38.17),\n",
        " StockTuple(tick='AAPL', count=50, price=112.9)]"
       ]
      }
     ],
     "prompt_number": 28
    },
    {
     "cell_type": "markdown",
     "metadata": {},
     "source": [
      "Lists\n",
      "-----\n",
      "* mutable collections of the same kind of thing\n",
      "* mutable (add, remove, change)\n",
      "* ordered\n",
      "* no uniqueness constraint (reference to same object can occur multiple times)"
     ]
    },
    {
     "cell_type": "code",
     "collapsed": false,
     "input": [
      "nums = [10, 20, 30]\n",
      "stuff = ['foo', 'bar', nums, 3.14, nums, 'bang']"
     ],
     "language": "python",
     "metadata": {},
     "outputs": [],
     "prompt_number": 30
    },
    {
     "cell_type": "code",
     "collapsed": false,
     "input": [],
     "language": "python",
     "metadata": {},
     "outputs": [],
     "prompt_number": 30
    },
    {
     "cell_type": "code",
     "collapsed": false,
     "input": [
      "stuff"
     ],
     "language": "python",
     "metadata": {},
     "outputs": [
      {
       "metadata": {},
       "output_type": "pyout",
       "prompt_number": 31,
       "text": [
        "['foo', 'bar', [10, 20, 30], 3.14, [10, 20, 30], 'bang']"
       ]
      }
     ],
     "prompt_number": 31
    },
    {
     "cell_type": "code",
     "collapsed": false,
     "input": [
      "nums.append(40)"
     ],
     "language": "python",
     "metadata": {},
     "outputs": [],
     "prompt_number": 32
    },
    {
     "cell_type": "code",
     "collapsed": false,
     "input": [
      "nums"
     ],
     "language": "python",
     "metadata": {},
     "outputs": [
      {
       "metadata": {},
       "output_type": "pyout",
       "prompt_number": 33,
       "text": [
        "[10, 20, 30, 40]"
       ]
      }
     ],
     "prompt_number": 33
    },
    {
     "cell_type": "code",
     "collapsed": false,
     "input": [
      "stuff"
     ],
     "language": "python",
     "metadata": {},
     "outputs": [
      {
       "metadata": {},
       "output_type": "pyout",
       "prompt_number": 34,
       "text": [
        "['foo', 'bar', [10, 20, 30, 40], 3.14, [10, 20, 30, 40], 'bang']"
       ]
      }
     ],
     "prompt_number": 34
    },
    {
     "cell_type": "code",
     "collapsed": false,
     "input": [
      "stuff[2]"
     ],
     "language": "python",
     "metadata": {},
     "outputs": [
      {
       "metadata": {},
       "output_type": "pyout",
       "prompt_number": 35,
       "text": [
        "[10, 20, 30, 40]"
       ]
      }
     ],
     "prompt_number": 35
    },
    {
     "cell_type": "code",
     "collapsed": false,
     "input": [
      "stuff[2].append(50)"
     ],
     "language": "python",
     "metadata": {},
     "outputs": [],
     "prompt_number": 36
    },
    {
     "cell_type": "code",
     "collapsed": false,
     "input": [
      "nums"
     ],
     "language": "python",
     "metadata": {},
     "outputs": [
      {
       "metadata": {},
       "output_type": "pyout",
       "prompt_number": 37,
       "text": [
        "[10, 20, 30, 40, 50]"
       ]
      }
     ],
     "prompt_number": 37
    },
    {
     "cell_type": "code",
     "collapsed": false,
     "input": [
      "stuff"
     ],
     "language": "python",
     "metadata": {},
     "outputs": [
      {
       "metadata": {},
       "output_type": "pyout",
       "prompt_number": 38,
       "text": [
        "['foo', 'bar', [10, 20, 30, 40, 50], 3.14, [10, 20, 30, 40, 50], 'bang']"
       ]
      }
     ],
     "prompt_number": 38
    },
    {
     "cell_type": "code",
     "collapsed": false,
     "input": [
      "stuff[1]"
     ],
     "language": "python",
     "metadata": {},
     "outputs": [
      {
       "metadata": {},
       "output_type": "pyout",
       "prompt_number": 39,
       "text": [
        "'bar'"
       ]
      }
     ],
     "prompt_number": 39
    },
    {
     "cell_type": "code",
     "collapsed": false,
     "input": [
      "stuff[1] = 'ping'"
     ],
     "language": "python",
     "metadata": {},
     "outputs": [],
     "prompt_number": 40
    },
    {
     "cell_type": "code",
     "collapsed": false,
     "input": [
      "stuff"
     ],
     "language": "python",
     "metadata": {},
     "outputs": [
      {
       "metadata": {},
       "output_type": "pyout",
       "prompt_number": 41,
       "text": [
        "['foo', 'ping', [10, 20, 30, 40, 50], 3.14, [10, 20, 30, 40, 50], 'bang']"
       ]
      }
     ],
     "prompt_number": 41
    },
    {
     "cell_type": "code",
     "collapsed": false,
     "input": [
      "meta = 'foo bar zip zap ping pong'.split()"
     ],
     "language": "python",
     "metadata": {},
     "outputs": [],
     "prompt_number": 42
    },
    {
     "cell_type": "code",
     "collapsed": false,
     "input": [
      "meta"
     ],
     "language": "python",
     "metadata": {},
     "outputs": [
      {
       "metadata": {},
       "output_type": "pyout",
       "prompt_number": 43,
       "text": [
        "['foo', 'bar', 'zip', 'zap', 'ping', 'pong']"
       ]
      }
     ],
     "prompt_number": 43
    },
    {
     "cell_type": "code",
     "collapsed": false,
     "input": [
      "sorted(meta)"
     ],
     "language": "python",
     "metadata": {},
     "outputs": [
      {
       "metadata": {},
       "output_type": "pyout",
       "prompt_number": 44,
       "text": [
        "['bar', 'foo', 'ping', 'pong', 'zap', 'zip']"
       ]
      }
     ],
     "prompt_number": 44
    },
    {
     "cell_type": "code",
     "collapsed": false,
     "input": [
      "meta"
     ],
     "language": "python",
     "metadata": {},
     "outputs": [
      {
       "metadata": {},
       "output_type": "pyout",
       "prompt_number": 45,
       "text": [
        "['foo', 'bar', 'zip', 'zap', 'ping', 'pong']"
       ]
      }
     ],
     "prompt_number": 45
    },
    {
     "cell_type": "code",
     "collapsed": false,
     "input": [
      "reversed(meta)"
     ],
     "language": "python",
     "metadata": {},
     "outputs": [
      {
       "metadata": {},
       "output_type": "pyout",
       "prompt_number": 48,
       "text": [
        "<list_reverseiterator at 0x107421438>"
       ]
      }
     ],
     "prompt_number": 48
    },
    {
     "cell_type": "code",
     "collapsed": false,
     "input": [
      "list(reversed(meta))"
     ],
     "language": "python",
     "metadata": {},
     "outputs": [
      {
       "metadata": {},
       "output_type": "pyout",
       "prompt_number": 47,
       "text": [
        "['pong', 'ping', 'zap', 'zip', 'bar', 'foo']"
       ]
      }
     ],
     "prompt_number": 47
    },
    {
     "cell_type": "code",
     "collapsed": false,
     "input": [
      "meta"
     ],
     "language": "python",
     "metadata": {},
     "outputs": [
      {
       "metadata": {},
       "output_type": "pyout",
       "prompt_number": 49,
       "text": [
        "['foo', 'bar', 'zip', 'zap', 'ping', 'pong']"
       ]
      }
     ],
     "prompt_number": 49
    },
    {
     "cell_type": "code",
     "collapsed": false,
     "input": [
      "meta.reverse() # method on meta"
     ],
     "language": "python",
     "metadata": {},
     "outputs": [],
     "prompt_number": 50
    },
    {
     "cell_type": "code",
     "collapsed": false,
     "input": [
      "meta"
     ],
     "language": "python",
     "metadata": {},
     "outputs": [
      {
       "metadata": {},
       "output_type": "pyout",
       "prompt_number": 51,
       "text": [
        "['pong', 'ping', 'zap', 'zip', 'bar', 'foo']"
       ]
      }
     ],
     "prompt_number": 51
    },
    {
     "cell_type": "code",
     "collapsed": false,
     "input": [
      "meta.sort()"
     ],
     "language": "python",
     "metadata": {},
     "outputs": [],
     "prompt_number": 52
    },
    {
     "cell_type": "code",
     "collapsed": false,
     "input": [
      "meta"
     ],
     "language": "python",
     "metadata": {},
     "outputs": [
      {
       "metadata": {},
       "output_type": "pyout",
       "prompt_number": 53,
       "text": [
        "['bar', 'foo', 'ping', 'pong', 'zap', 'zip']"
       ]
      }
     ],
     "prompt_number": 53
    },
    {
     "cell_type": "code",
     "collapsed": false,
     "input": [
      "meta.sort(reverse=True)"
     ],
     "language": "python",
     "metadata": {},
     "outputs": [],
     "prompt_number": 54
    },
    {
     "cell_type": "code",
     "collapsed": false,
     "input": [
      "meta"
     ],
     "language": "python",
     "metadata": {},
     "outputs": [
      {
       "metadata": {},
       "output_type": "pyout",
       "prompt_number": 55,
       "text": [
        "['zip', 'zap', 'pong', 'ping', 'foo', 'bar']"
       ]
      }
     ],
     "prompt_number": 55
    },
    {
     "cell_type": "code",
     "collapsed": false,
     "input": [
      "grays = {'black', 'white', 'bone', 'gray', 'midnight'}\n",
      "solids = {'black', 'white', 'red', 'green', 'blue'}\n",
      "pastels = {'gray', 'pink', 'purple', 'bone'}"
     ],
     "language": "python",
     "metadata": {},
     "outputs": [],
     "prompt_number": 72
    },
    {
     "cell_type": "code",
     "collapsed": false,
     "input": [
      "grays & solids"
     ],
     "language": "python",
     "metadata": {},
     "outputs": [
      {
       "metadata": {},
       "output_type": "pyout",
       "prompt_number": 57,
       "text": [
        "{'black', 'white'}"
       ]
      }
     ],
     "prompt_number": 57
    },
    {
     "cell_type": "code",
     "collapsed": false,
     "input": [
      "grays | solids"
     ],
     "language": "python",
     "metadata": {},
     "outputs": [
      {
       "metadata": {},
       "output_type": "pyout",
       "prompt_number": 58,
       "text": [
        "{'black', 'blue', 'bone', 'gray', 'green', 'midnight', 'red', 'white'}"
       ]
      }
     ],
     "prompt_number": 58
    },
    {
     "cell_type": "code",
     "collapsed": false,
     "input": [
      "grays & pastels"
     ],
     "language": "python",
     "metadata": {},
     "outputs": [
      {
       "metadata": {},
       "output_type": "pyout",
       "prompt_number": 73,
       "text": [
        "{'bone', 'gray'}"
       ]
      }
     ],
     "prompt_number": 73
    },
    {
     "cell_type": "code",
     "collapsed": false,
     "input": [
      "words = set('foo bar ping bar zip pow zap bar foo ping pow'.split())"
     ],
     "language": "python",
     "metadata": {},
     "outputs": [],
     "prompt_number": 64
    },
    {
     "cell_type": "code",
     "collapsed": false,
     "input": [
      "words"
     ],
     "language": "python",
     "metadata": {},
     "outputs": [
      {
       "metadata": {},
       "output_type": "pyout",
       "prompt_number": 65,
       "text": [
        "{'bar', 'foo', 'ping', 'pow', 'zap', 'zip'}"
       ]
      }
     ],
     "prompt_number": 65
    },
    {
     "cell_type": "code",
     "collapsed": false,
     "input": [
      "%pprint"
     ],
     "language": "python",
     "metadata": {},
     "outputs": [
      {
       "output_type": "stream",
       "stream": "stdout",
       "text": [
        "Pretty printing has been turned OFF\n"
       ]
      }
     ],
     "prompt_number": 66
    },
    {
     "cell_type": "code",
     "collapsed": false,
     "input": [
      "words"
     ],
     "language": "python",
     "metadata": {},
     "outputs": [
      {
       "metadata": {},
       "output_type": "pyout",
       "prompt_number": 67,
       "text": [
        "{'foo', 'bar', 'zip', 'pow', 'zap', 'ping'}"
       ]
      }
     ],
     "prompt_number": 67
    },
    {
     "cell_type": "code",
     "collapsed": false,
     "input": [
      "words.update(\"blort ping bang wibble zip zap pow\".split())"
     ],
     "language": "python",
     "metadata": {},
     "outputs": [],
     "prompt_number": 68
    },
    {
     "cell_type": "code",
     "collapsed": false,
     "input": [
      "words"
     ],
     "language": "python",
     "metadata": {},
     "outputs": [
      {
       "metadata": {},
       "output_type": "pyout",
       "prompt_number": 69,
       "text": [
        "{'bang', 'blort', 'foo', 'bar', 'zip', 'wibble', 'pow', 'zap', 'ping'}"
       ]
      }
     ],
     "prompt_number": 69
    },
    {
     "cell_type": "code",
     "collapsed": false,
     "input": [
      "grays - solids"
     ],
     "language": "python",
     "metadata": {},
     "outputs": [
      {
       "metadata": {},
       "output_type": "pyout",
       "prompt_number": 70,
       "text": [
        "{'bone', 'gray', 'midnight'}"
       ]
      }
     ],
     "prompt_number": 70
    },
    {
     "cell_type": "code",
     "collapsed": false,
     "input": [
      "pastels - grays"
     ],
     "language": "python",
     "metadata": {},
     "outputs": [
      {
       "metadata": {},
       "output_type": "pyout",
       "prompt_number": 74,
       "text": [
        "{'pink', 'purple'}"
       ]
      }
     ],
     "prompt_number": 74
    },
    {
     "cell_type": "code",
     "collapsed": false,
     "input": [
      "help(grays)"
     ],
     "language": "python",
     "metadata": {},
     "outputs": [
      {
       "output_type": "stream",
       "stream": "stdout",
       "text": [
        "Help on set object:\n",
        "\n",
        "class set(object)\n",
        " |  set() -> new empty set object\n",
        " |  set(iterable) -> new set object\n",
        " |  \n",
        " |  Build an unordered collection of unique elements.\n",
        " |  \n",
        " |  Methods defined here:\n",
        " |  \n",
        " |  __and__(self, value, /)\n",
        " |      Return self&value.\n",
        " |  \n",
        " |  __contains__(...)\n",
        " |      x.__contains__(y) <==> y in x.\n",
        " |  \n",
        " |  __eq__(self, value, /)\n",
        " |      Return self==value.\n",
        " |  \n",
        " |  __ge__(self, value, /)\n",
        " |      Return self>=value.\n",
        " |  \n",
        " |  __getattribute__(self, name, /)\n",
        " |      Return getattr(self, name).\n",
        " |  \n",
        " |  __gt__(self, value, /)\n",
        " |      Return self>value.\n",
        " |  \n",
        " |  __iand__(self, value, /)\n",
        " |      Return self&=value.\n",
        " |  \n",
        " |  __init__(self, /, *args, **kwargs)\n",
        " |      Initialize self.  See help(type(self)) for accurate signature.\n",
        " |  \n",
        " |  __ior__(self, value, /)\n",
        " |      Return self|=value.\n",
        " |  \n",
        " |  __isub__(self, value, /)\n",
        " |      Return self-=value.\n",
        " |  \n",
        " |  __iter__(self, /)\n",
        " |      Implement iter(self).\n",
        " |  \n",
        " |  __ixor__(self, value, /)\n",
        " |      Return self^=value.\n",
        " |  \n",
        " |  __le__(self, value, /)\n",
        " |      Return self<=value.\n",
        " |  \n",
        " |  __len__(self, /)\n",
        " |      Return len(self).\n",
        " |  \n",
        " |  __lt__(self, value, /)\n",
        " |      Return self<value.\n",
        " |  \n",
        " |  __ne__(self, value, /)\n",
        " |      Return self!=value.\n",
        " |  \n",
        " |  __new__(*args, **kwargs) from builtins.type\n",
        " |      Create and return a new object.  See help(type) for accurate signature.\n",
        " |  \n",
        " |  __or__(self, value, /)\n",
        " |      Return self|value.\n",
        " |  \n",
        " |  __rand__(self, value, /)\n",
        " |      Return value&self.\n",
        " |  \n",
        " |  __reduce__(...)\n",
        " |      Return state information for pickling.\n",
        " |  \n",
        " |  __repr__(self, /)\n",
        " |      Return repr(self).\n",
        " |  \n",
        " |  __ror__(self, value, /)\n",
        " |      Return value|self.\n",
        " |  \n",
        " |  __rsub__(self, value, /)\n",
        " |      Return value-self.\n",
        " |  \n",
        " |  __rxor__(self, value, /)\n",
        " |      Return value^self.\n",
        " |  \n",
        " |  __sizeof__(...)\n",
        " |      S.__sizeof__() -> size of S in memory, in bytes\n",
        " |  \n",
        " |  __sub__(self, value, /)\n",
        " |      Return self-value.\n",
        " |  \n",
        " |  __xor__(self, value, /)\n",
        " |      Return self^value.\n",
        " |  \n",
        " |  add(...)\n",
        " |      Add an element to a set.\n",
        " |      \n",
        " |      This has no effect if the element is already present.\n",
        " |  \n",
        " |  clear(...)\n",
        " |      Remove all elements from this set.\n",
        " |  \n",
        " |  copy(...)\n",
        " |      Return a shallow copy of a set.\n",
        " |  \n",
        " |  difference(...)\n",
        " |      Return the difference of two or more sets as a new set.\n",
        " |      \n",
        " |      (i.e. all elements that are in this set but not the others.)\n",
        " |  \n",
        " |  difference_update(...)\n",
        " |      Remove all elements of another set from this set.\n",
        " |  \n",
        " |  discard(...)\n",
        " |      Remove an element from a set if it is a member.\n",
        " |      \n",
        " |      If the element is not a member, do nothing.\n",
        " |  \n",
        " |  intersection(...)\n",
        " |      Return the intersection of two sets as a new set.\n",
        " |      \n",
        " |      (i.e. all elements that are in both sets.)\n",
        " |  \n",
        " |  intersection_update(...)\n",
        " |      Update a set with the intersection of itself and another.\n",
        " |  \n",
        " |  isdisjoint(...)\n",
        " |      Return True if two sets have a null intersection.\n",
        " |  \n",
        " |  issubset(...)\n",
        " |      Report whether another set contains this set.\n",
        " |  \n",
        " |  issuperset(...)\n",
        " |      Report whether this set contains another set.\n",
        " |  \n",
        " |  pop(...)\n",
        " |      Remove and return an arbitrary set element.\n",
        " |      Raises KeyError if the set is empty.\n",
        " |  \n",
        " |  remove(...)\n",
        " |      Remove an element from a set; it must be a member.\n",
        " |      \n",
        " |      If the element is not a member, raise a KeyError.\n",
        " |  \n",
        " |  symmetric_difference(...)\n",
        " |      Return the symmetric difference of two sets as a new set.\n",
        " |      \n",
        " |      (i.e. all elements that are in exactly one of the sets.)\n",
        " |  \n",
        " |  symmetric_difference_update(...)\n",
        " |      Update a set with the symmetric difference of itself and another.\n",
        " |  \n",
        " |  union(...)\n",
        " |      Return the union of sets as a new set.\n",
        " |      \n",
        " |      (i.e. all elements that are in either set.)\n",
        " |  \n",
        " |  update(...)\n",
        " |      Update a set with the union of itself and others.\n",
        " |  \n",
        " |  ----------------------------------------------------------------------\n",
        " |  Data and other attributes defined here:\n",
        " |  \n",
        " |  __hash__ = None\n",
        "\n"
       ]
      }
     ],
     "prompt_number": 75
    },
    {
     "cell_type": "code",
     "collapsed": false,
     "input": [
      "help(meta)"
     ],
     "language": "python",
     "metadata": {},
     "outputs": [
      {
       "output_type": "stream",
       "stream": "stdout",
       "text": [
        "Help on list object:\n",
        "\n",
        "class list(object)\n",
        " |  list() -> new empty list\n",
        " |  list(iterable) -> new list initialized from iterable's items\n",
        " |  \n",
        " |  Methods defined here:\n",
        " |  \n",
        " |  __add__(self, value, /)\n",
        " |      Return self+value.\n",
        " |  \n",
        " |  __contains__(self, key, /)\n",
        " |      Return key in self.\n",
        " |  \n",
        " |  __delitem__(self, key, /)\n",
        " |      Delete self[key].\n",
        " |  \n",
        " |  __eq__(self, value, /)\n",
        " |      Return self==value.\n",
        " |  \n",
        " |  __ge__(self, value, /)\n",
        " |      Return self>=value.\n",
        " |  \n",
        " |  __getattribute__(self, name, /)\n",
        " |      Return getattr(self, name).\n",
        " |  \n",
        " |  __getitem__(...)\n",
        " |      x.__getitem__(y) <==> x[y]\n",
        " |  \n",
        " |  __gt__(self, value, /)\n",
        " |      Return self>value.\n",
        " |  \n",
        " |  __iadd__(self, value, /)\n",
        " |      Implement self+=value.\n",
        " |  \n",
        " |  __imul__(self, value, /)\n",
        " |      Implement self*=value.\n",
        " |  \n",
        " |  __init__(self, /, *args, **kwargs)\n",
        " |      Initialize self.  See help(type(self)) for accurate signature.\n",
        " |  \n",
        " |  __iter__(self, /)\n",
        " |      Implement iter(self).\n",
        " |  \n",
        " |  __le__(self, value, /)\n",
        " |      Return self<=value.\n",
        " |  \n",
        " |  __len__(self, /)\n",
        " |      Return len(self).\n",
        " |  \n",
        " |  __lt__(self, value, /)\n",
        " |      Return self<value.\n",
        " |  \n",
        " |  __mul__(self, value, /)\n",
        " |      Return self*value.n\n",
        " |  \n",
        " |  __ne__(self, value, /)\n",
        " |      Return self!=value.\n",
        " |  \n",
        " |  __new__(*args, **kwargs) from builtins.type\n",
        " |      Create and return a new object.  See help(type) for accurate signature.\n",
        " |  \n",
        " |  __repr__(self, /)\n",
        " |      Return repr(self).\n",
        " |  \n",
        " |  __reversed__(...)\n",
        " |      L.__reversed__() -- return a reverse iterator over the list\n",
        " |  \n",
        " |  __rmul__(self, value, /)\n",
        " |      Return self*value.\n",
        " |  \n",
        " |  __setitem__(self, key, value, /)\n",
        " |      Set self[key] to value.\n",
        " |  \n",
        " |  __sizeof__(...)\n",
        " |      L.__sizeof__() -- size of L in memory, in bytes\n",
        " |  \n",
        " |  append(...)\n",
        " |      L.append(object) -> None -- append object to end\n",
        " |  \n",
        " |  clear(...)\n",
        " |      L.clear() -> None -- remove all items from L\n",
        " |  \n",
        " |  copy(...)\n",
        " |      L.copy() -> list -- a shallow copy of L\n",
        " |  \n",
        " |  count(...)\n",
        " |      L.count(value) -> integer -- return number of occurrences of value\n",
        " |  \n",
        " |  extend(...)\n",
        " |      L.extend(iterable) -> None -- extend list by appending elements from the iterable\n",
        " |  \n",
        " |  index(...)\n",
        " |      L.index(value, [start, [stop]]) -> integer -- return first index of value.\n",
        " |      Raises ValueError if the value is not present.\n",
        " |  \n",
        " |  insert(...)\n",
        " |      L.insert(index, object) -- insert object before index\n",
        " |  \n",
        " |  pop(...)\n",
        " |      L.pop([index]) -> item -- remove and return item at index (default last).\n",
        " |      Raises IndexError if list is empty or index is out of range.\n",
        " |  \n",
        " |  remove(...)\n",
        " |      L.remove(value) -> None -- remove first occurrence of value.\n",
        " |      Raises ValueError if the value is not present.\n",
        " |  \n",
        " |  reverse(...)\n",
        " |      L.reverse() -- reverse *IN PLACE*\n",
        " |  \n",
        " |  sort(...)\n",
        " |      L.sort(key=None, reverse=False) -> None -- stable sort *IN PLACE*\n",
        " |  \n",
        " |  ----------------------------------------------------------------------\n",
        " |  Data and other attributes defined here:\n",
        " |  \n",
        " |  __hash__ = None\n",
        "\n"
       ]
      }
     ],
     "prompt_number": 76
    },
    {
     "cell_type": "code",
     "collapsed": false,
     "input": [],
     "language": "python",
     "metadata": {},
     "outputs": []
    }
   ],
   "metadata": {}
  }
 ]
}