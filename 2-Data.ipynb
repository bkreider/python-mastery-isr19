{
 "metadata": {
  "name": "",
  "signature": "sha256:0a68662cd4e544b561d1971e4063abfabf5cc852d83dafce6c460e23deef3e36"
 },
 "nbformat": 3,
 "nbformat_minor": 0,
 "worksheets": [
  {
   "cells": [
    {
     "cell_type": "markdown",
     "metadata": {},
     "source": [
      "Tuples\n",
      "------\n",
      "* Think of them as a C-struct: associating a number of objects together\n",
      "* immutable: once created, references in tuple instance cannot be changed:\n",
      "    * NOTE: this doesn't mean that the objects *inside* the tuple cannot have their state changed, but that depends on those contained objects mutability\n",
      "* ordered with index lookup\n",
      "* no constraints on what is contained in the tuple\n",
      "    * any object\n",
      "    * no uniqueness constraint"
     ]
    },
    {
     "cell_type": "code",
     "collapsed": false,
     "input": [
      "# tuple version of points:\n",
      "a = (3, 4)\n",
      "b = (9, 6)\n",
      "\n",
      "from math import sqrt\n",
      "def dist(p1, p2):\n",
      "    ' tuple version of point distance '\n",
      "    return sqrt((p2[0] - p1[0])**2 + (p2[1] - p1[1])**2)"
     ],
     "language": "python",
     "metadata": {},
     "outputs": [],
     "prompt_number": 1
    },
    {
     "cell_type": "code",
     "collapsed": false,
     "input": [
      "dist(a, b)"
     ],
     "language": "python",
     "metadata": {},
     "outputs": [
      {
       "metadata": {},
       "output_type": "pyout",
       "prompt_number": 2,
       "text": [
        "6.324555320336759"
       ]
      }
     ],
     "prompt_number": 2
    },
    {
     "cell_type": "code",
     "collapsed": false,
     "input": [
      "# dict version of points:\n",
      "a = dict(x=3, y=4)\n",
      "b = dict(x=9, y=6)\n",
      "\n",
      "def dist(p1, p2):\n",
      "    ' tuple version of point distance '\n",
      "    return sqrt((p2['x'] - p1['x'])**2 + (p2['y'] - p1['y'])**2)"
     ],
     "language": "python",
     "metadata": {},
     "outputs": [],
     "prompt_number": 4
    },
    {
     "cell_type": "code",
     "collapsed": false,
     "input": [
      "a"
     ],
     "language": "python",
     "metadata": {},
     "outputs": [
      {
       "metadata": {},
       "output_type": "pyout",
       "prompt_number": 5,
       "text": [
        "{'y': 4, 'x': 3}"
       ]
      }
     ],
     "prompt_number": 5
    },
    {
     "cell_type": "code",
     "collapsed": false,
     "input": [
      "b"
     ],
     "language": "python",
     "metadata": {},
     "outputs": [
      {
       "metadata": {},
       "output_type": "pyout",
       "prompt_number": 6,
       "text": [
        "{'y': 6, 'x': 9}"
       ]
      }
     ],
     "prompt_number": 6
    },
    {
     "cell_type": "code",
     "collapsed": false,
     "input": [
      "dist(a, b)"
     ],
     "language": "python",
     "metadata": {},
     "outputs": [
      {
       "metadata": {},
       "output_type": "pyout",
       "prompt_number": 7,
       "text": [
        "6.324555320336759"
       ]
      }
     ],
     "prompt_number": 7
    },
    {
     "cell_type": "code",
     "collapsed": false,
     "input": [
      "g = ('GOOG', 100, 530.18)\n",
      "h = ('HP', 250, 38.17)\n",
      "a = ('AAPL', 50, 112.90)\n",
      "stocks = [g, h, a]"
     ],
     "language": "python",
     "metadata": {},
     "outputs": [],
     "prompt_number": 10
    },
    {
     "cell_type": "code",
     "collapsed": false,
     "input": [
      "stocks"
     ],
     "language": "python",
     "metadata": {},
     "outputs": [
      {
       "metadata": {},
       "output_type": "pyout",
       "prompt_number": 11,
       "text": [
        "[('GOOG', 100, 530.18), ('HP', 250, 38.17), ('AAPL', 50, 112.9)]"
       ]
      }
     ],
     "prompt_number": 11
    },
    {
     "cell_type": "code",
     "collapsed": false,
     "input": [
      "from collections import namedtuple"
     ],
     "language": "python",
     "metadata": {},
     "outputs": [],
     "prompt_number": 12
    },
    {
     "cell_type": "code",
     "collapsed": false,
     "input": [
      "StockTuple = namedtuple('StockTuple', ['tick', 'count', 'price'], verbose=True)"
     ],
     "language": "python",
     "metadata": {},
     "outputs": [
      {
       "output_type": "stream",
       "stream": "stdout",
       "text": [
        "from builtins import property as _property, tuple as _tuple\n",
        "from operator import itemgetter as _itemgetter\n",
        "from collections import OrderedDict\n",
        "\n",
        "class StockTuple(tuple):\n",
        "    'StockTuple(tick, count, price)'\n",
        "\n",
        "    __slots__ = ()\n",
        "\n",
        "    _fields = ('tick', 'count', 'price')\n",
        "\n",
        "    def __new__(_cls, tick, count, price):\n",
        "        'Create new instance of StockTuple(tick, count, price)'\n",
        "        return _tuple.__new__(_cls, (tick, count, price))\n",
        "\n",
        "    @classmethod\n",
        "    def _make(cls, iterable, new=tuple.__new__, len=len):\n",
        "        'Make a new StockTuple object from a sequence or iterable'\n",
        "        result = new(cls, iterable)\n",
        "        if len(result) != 3:\n",
        "            raise TypeError('Expected 3 arguments, got %d' % len(result))\n",
        "        return result\n",
        "\n",
        "    def _replace(_self, **kwds):\n",
        "        'Return a new StockTuple object replacing specified fields with new values'\n",
        "        result = _self._make(map(kwds.pop, ('tick', 'count', 'price'), _self))\n",
        "        if kwds:\n",
        "            raise ValueError('Got unexpected field names: %r' % list(kwds))\n",
        "        return result\n",
        "\n",
        "    def __repr__(self):\n",
        "        'Return a nicely formatted representation string'\n",
        "        return self.__class__.__name__ + '(tick=%r, count=%r, price=%r)' % self\n",
        "\n",
        "    @property\n",
        "    def __dict__(self):\n",
        "        'A new OrderedDict mapping field names to their values'\n",
        "        return OrderedDict(zip(self._fields, self))\n",
        "\n",
        "    def _asdict(self):\n",
        "        'Return a new OrderedDict which maps field names to their values.'\n",
        "        return self.__dict__\n",
        "\n",
        "    def __getnewargs__(self):\n",
        "        'Return self as a plain tuple.  Used by copy and pickle.'\n",
        "        return tuple(self)\n",
        "\n",
        "    def __getstate__(self):\n",
        "        'Exclude the OrderedDict from pickling'\n",
        "        return None\n",
        "\n",
        "    tick = _property(_itemgetter(0), doc='Alias for field number 0')\n",
        "\n",
        "    count = _property(_itemgetter(1), doc='Alias for field number 1')\n",
        "\n",
        "    price = _property(_itemgetter(2), doc='Alias for field number 2')\n",
        "\n",
        "\n"
       ]
      }
     ],
     "prompt_number": 29
    },
    {
     "cell_type": "code",
     "collapsed": false,
     "input": [
      "StockTuple"
     ],
     "language": "python",
     "metadata": {},
     "outputs": [
      {
       "metadata": {},
       "output_type": "pyout",
       "prompt_number": 14,
       "text": [
        "__main__.StockTuple"
       ]
      }
     ],
     "prompt_number": 14
    },
    {
     "cell_type": "code",
     "collapsed": false,
     "input": [
      "g = StockTuple('GOOG', 100, 530.18)\n",
      "h = StockTuple('HP', 250, 38.17)\n",
      "a = StockTuple('AAPL', 50, 112.90)"
     ],
     "language": "python",
     "metadata": {},
     "outputs": [],
     "prompt_number": 15
    },
    {
     "cell_type": "code",
     "collapsed": false,
     "input": [
      "stocks = [g, h, a]"
     ],
     "language": "python",
     "metadata": {},
     "outputs": [],
     "prompt_number": 16
    },
    {
     "cell_type": "code",
     "collapsed": false,
     "input": [
      "g"
     ],
     "language": "python",
     "metadata": {},
     "outputs": [
      {
       "metadata": {},
       "output_type": "pyout",
       "prompt_number": 17,
       "text": [
        "StockTuple(tick='GOOG', count=100, price=530.18)"
       ]
      }
     ],
     "prompt_number": 17
    },
    {
     "cell_type": "code",
     "collapsed": false,
     "input": [
      "h"
     ],
     "language": "python",
     "metadata": {},
     "outputs": [
      {
       "metadata": {},
       "output_type": "pyout",
       "prompt_number": 18,
       "text": [
        "StockTuple(tick='HP', count=250, price=38.17)"
       ]
      }
     ],
     "prompt_number": 18
    },
    {
     "cell_type": "code",
     "collapsed": false,
     "input": [
      "a"
     ],
     "language": "python",
     "metadata": {},
     "outputs": [
      {
       "metadata": {},
       "output_type": "pyout",
       "prompt_number": 19,
       "text": [
        "StockTuple(tick='AAPL', count=50, price=112.9)"
       ]
      }
     ],
     "prompt_number": 19
    },
    {
     "cell_type": "code",
     "collapsed": false,
     "input": [
      "h[0]"
     ],
     "language": "python",
     "metadata": {},
     "outputs": [
      {
       "metadata": {},
       "output_type": "pyout",
       "prompt_number": 20,
       "text": [
        "'HP'"
       ]
      }
     ],
     "prompt_number": 20
    },
    {
     "cell_type": "code",
     "collapsed": false,
     "input": [
      "h[1]"
     ],
     "language": "python",
     "metadata": {},
     "outputs": [
      {
       "metadata": {},
       "output_type": "pyout",
       "prompt_number": 21,
       "text": [
        "250"
       ]
      }
     ],
     "prompt_number": 21
    },
    {
     "cell_type": "code",
     "collapsed": false,
     "input": [
      "h[2]"
     ],
     "language": "python",
     "metadata": {},
     "outputs": [
      {
       "metadata": {},
       "output_type": "pyout",
       "prompt_number": 22,
       "text": [
        "38.17"
       ]
      }
     ],
     "prompt_number": 22
    },
    {
     "cell_type": "code",
     "collapsed": false,
     "input": [
      "h[2] = 45.25 # we can't update fields"
     ],
     "language": "python",
     "metadata": {},
     "outputs": [
      {
       "ename": "TypeError",
       "evalue": "'StockTuple' object does not support item assignment",
       "output_type": "pyerr",
       "traceback": [
        "\u001b[0;31m---------------------------------------------------------------------------\u001b[0m\n\u001b[0;31mTypeError\u001b[0m                                 Traceback (most recent call last)",
        "\u001b[0;32m<ipython-input-24-da20b11080b8>\u001b[0m in \u001b[0;36m<module>\u001b[0;34m()\u001b[0m\n\u001b[0;32m----> 1\u001b[0;31m \u001b[0mh\u001b[0m\u001b[0;34m[\u001b[0m\u001b[0;36m2\u001b[0m\u001b[0;34m]\u001b[0m \u001b[0;34m=\u001b[0m \u001b[0;36m45.25\u001b[0m \u001b[0;31m# we can't update fields\u001b[0m\u001b[0;34m\u001b[0m\u001b[0m\n\u001b[0m",
        "\u001b[0;31mTypeError\u001b[0m: 'StockTuple' object does not support item assignment"
       ]
      }
     ],
     "prompt_number": 24
    },
    {
     "cell_type": "code",
     "collapsed": false,
     "input": [
      "h.tick"
     ],
     "language": "python",
     "metadata": {},
     "outputs": [
      {
       "metadata": {},
       "output_type": "pyout",
       "prompt_number": 25,
       "text": [
        "'HP'"
       ]
      }
     ],
     "prompt_number": 25
    },
    {
     "cell_type": "code",
     "collapsed": false,
     "input": [
      "h.count"
     ],
     "language": "python",
     "metadata": {},
     "outputs": [
      {
       "metadata": {},
       "output_type": "pyout",
       "prompt_number": 26,
       "text": [
        "250"
       ]
      }
     ],
     "prompt_number": 26
    },
    {
     "cell_type": "code",
     "collapsed": false,
     "input": [
      "h.price"
     ],
     "language": "python",
     "metadata": {},
     "outputs": [
      {
       "metadata": {},
       "output_type": "pyout",
       "prompt_number": 27,
       "text": [
        "38.17"
       ]
      }
     ],
     "prompt_number": 27
    },
    {
     "cell_type": "code",
     "collapsed": false,
     "input": [
      "stocks"
     ],
     "language": "python",
     "metadata": {},
     "outputs": [
      {
       "metadata": {},
       "output_type": "pyout",
       "prompt_number": 28,
       "text": [
        "[StockTuple(tick='GOOG', count=100, price=530.18),\n",
        " StockTuple(tick='HP', count=250, price=38.17),\n",
        " StockTuple(tick='AAPL', count=50, price=112.9)]"
       ]
      }
     ],
     "prompt_number": 28
    },
    {
     "cell_type": "markdown",
     "metadata": {},
     "source": [
      "Lists\n",
      "-----\n",
      "* mutable collections of the same kind of thing\n",
      "* mutable (add, remove, change)\n",
      "* ordered\n",
      "* no uniqueness constraint (reference to same object can occur multiple times)"
     ]
    },
    {
     "cell_type": "code",
     "collapsed": false,
     "input": [
      "nums = [10, 20, 30]\n",
      "stuff = ['foo', 'bar', nums, 3.14, nums, 'bang']"
     ],
     "language": "python",
     "metadata": {},
     "outputs": [],
     "prompt_number": 30
    },
    {
     "cell_type": "code",
     "collapsed": false,
     "input": [],
     "language": "python",
     "metadata": {},
     "outputs": [],
     "prompt_number": 30
    },
    {
     "cell_type": "code",
     "collapsed": false,
     "input": [
      "stuff"
     ],
     "language": "python",
     "metadata": {},
     "outputs": [
      {
       "metadata": {},
       "output_type": "pyout",
       "prompt_number": 31,
       "text": [
        "['foo', 'bar', [10, 20, 30], 3.14, [10, 20, 30], 'bang']"
       ]
      }
     ],
     "prompt_number": 31
    },
    {
     "cell_type": "code",
     "collapsed": false,
     "input": [
      "nums.append(40)"
     ],
     "language": "python",
     "metadata": {},
     "outputs": [],
     "prompt_number": 32
    },
    {
     "cell_type": "code",
     "collapsed": false,
     "input": [
      "nums"
     ],
     "language": "python",
     "metadata": {},
     "outputs": [
      {
       "metadata": {},
       "output_type": "pyout",
       "prompt_number": 33,
       "text": [
        "[10, 20, 30, 40]"
       ]
      }
     ],
     "prompt_number": 33
    },
    {
     "cell_type": "code",
     "collapsed": false,
     "input": [
      "stuff"
     ],
     "language": "python",
     "metadata": {},
     "outputs": [
      {
       "metadata": {},
       "output_type": "pyout",
       "prompt_number": 34,
       "text": [
        "['foo', 'bar', [10, 20, 30, 40], 3.14, [10, 20, 30, 40], 'bang']"
       ]
      }
     ],
     "prompt_number": 34
    },
    {
     "cell_type": "code",
     "collapsed": false,
     "input": [
      "stuff[2]"
     ],
     "language": "python",
     "metadata": {},
     "outputs": [
      {
       "metadata": {},
       "output_type": "pyout",
       "prompt_number": 35,
       "text": [
        "[10, 20, 30, 40]"
       ]
      }
     ],
     "prompt_number": 35
    },
    {
     "cell_type": "code",
     "collapsed": false,
     "input": [
      "stuff[2].append(50)"
     ],
     "language": "python",
     "metadata": {},
     "outputs": [],
     "prompt_number": 36
    },
    {
     "cell_type": "code",
     "collapsed": false,
     "input": [
      "nums"
     ],
     "language": "python",
     "metadata": {},
     "outputs": [
      {
       "metadata": {},
       "output_type": "pyout",
       "prompt_number": 37,
       "text": [
        "[10, 20, 30, 40, 50]"
       ]
      }
     ],
     "prompt_number": 37
    },
    {
     "cell_type": "code",
     "collapsed": false,
     "input": [
      "stuff"
     ],
     "language": "python",
     "metadata": {},
     "outputs": [
      {
       "metadata": {},
       "output_type": "pyout",
       "prompt_number": 38,
       "text": [
        "['foo', 'bar', [10, 20, 30, 40, 50], 3.14, [10, 20, 30, 40, 50], 'bang']"
       ]
      }
     ],
     "prompt_number": 38
    },
    {
     "cell_type": "code",
     "collapsed": false,
     "input": [
      "stuff[1]"
     ],
     "language": "python",
     "metadata": {},
     "outputs": [
      {
       "metadata": {},
       "output_type": "pyout",
       "prompt_number": 39,
       "text": [
        "'bar'"
       ]
      }
     ],
     "prompt_number": 39
    },
    {
     "cell_type": "code",
     "collapsed": false,
     "input": [
      "stuff[1] = 'ping'"
     ],
     "language": "python",
     "metadata": {},
     "outputs": [],
     "prompt_number": 40
    },
    {
     "cell_type": "code",
     "collapsed": false,
     "input": [
      "stuff"
     ],
     "language": "python",
     "metadata": {},
     "outputs": [
      {
       "metadata": {},
       "output_type": "pyout",
       "prompt_number": 41,
       "text": [
        "['foo', 'ping', [10, 20, 30, 40, 50], 3.14, [10, 20, 30, 40, 50], 'bang']"
       ]
      }
     ],
     "prompt_number": 41
    },
    {
     "cell_type": "code",
     "collapsed": false,
     "input": [
      "meta = 'foo bar zip zap ping pong'.split()"
     ],
     "language": "python",
     "metadata": {},
     "outputs": [],
     "prompt_number": 42
    },
    {
     "cell_type": "code",
     "collapsed": false,
     "input": [
      "meta"
     ],
     "language": "python",
     "metadata": {},
     "outputs": [
      {
       "metadata": {},
       "output_type": "pyout",
       "prompt_number": 43,
       "text": [
        "['foo', 'bar', 'zip', 'zap', 'ping', 'pong']"
       ]
      }
     ],
     "prompt_number": 43
    },
    {
     "cell_type": "code",
     "collapsed": false,
     "input": [
      "sorted(meta)"
     ],
     "language": "python",
     "metadata": {},
     "outputs": [
      {
       "metadata": {},
       "output_type": "pyout",
       "prompt_number": 44,
       "text": [
        "['bar', 'foo', 'ping', 'pong', 'zap', 'zip']"
       ]
      }
     ],
     "prompt_number": 44
    },
    {
     "cell_type": "code",
     "collapsed": false,
     "input": [
      "meta"
     ],
     "language": "python",
     "metadata": {},
     "outputs": [
      {
       "metadata": {},
       "output_type": "pyout",
       "prompt_number": 45,
       "text": [
        "['foo', 'bar', 'zip', 'zap', 'ping', 'pong']"
       ]
      }
     ],
     "prompt_number": 45
    },
    {
     "cell_type": "code",
     "collapsed": false,
     "input": [
      "reversed(meta)"
     ],
     "language": "python",
     "metadata": {},
     "outputs": [
      {
       "metadata": {},
       "output_type": "pyout",
       "prompt_number": 48,
       "text": [
        "<list_reverseiterator at 0x107421438>"
       ]
      }
     ],
     "prompt_number": 48
    },
    {
     "cell_type": "code",
     "collapsed": false,
     "input": [
      "list(reversed(meta))"
     ],
     "language": "python",
     "metadata": {},
     "outputs": [
      {
       "metadata": {},
       "output_type": "pyout",
       "prompt_number": 47,
       "text": [
        "['pong', 'ping', 'zap', 'zip', 'bar', 'foo']"
       ]
      }
     ],
     "prompt_number": 47
    },
    {
     "cell_type": "code",
     "collapsed": false,
     "input": [
      "meta"
     ],
     "language": "python",
     "metadata": {},
     "outputs": [
      {
       "metadata": {},
       "output_type": "pyout",
       "prompt_number": 49,
       "text": [
        "['foo', 'bar', 'zip', 'zap', 'ping', 'pong']"
       ]
      }
     ],
     "prompt_number": 49
    },
    {
     "cell_type": "code",
     "collapsed": false,
     "input": [
      "meta.reverse() # method on meta"
     ],
     "language": "python",
     "metadata": {},
     "outputs": [],
     "prompt_number": 50
    },
    {
     "cell_type": "code",
     "collapsed": false,
     "input": [
      "meta"
     ],
     "language": "python",
     "metadata": {},
     "outputs": [
      {
       "metadata": {},
       "output_type": "pyout",
       "prompt_number": 51,
       "text": [
        "['pong', 'ping', 'zap', 'zip', 'bar', 'foo']"
       ]
      }
     ],
     "prompt_number": 51
    },
    {
     "cell_type": "code",
     "collapsed": false,
     "input": [
      "meta.sort()"
     ],
     "language": "python",
     "metadata": {},
     "outputs": [],
     "prompt_number": 52
    },
    {
     "cell_type": "code",
     "collapsed": false,
     "input": [
      "meta"
     ],
     "language": "python",
     "metadata": {},
     "outputs": [
      {
       "metadata": {},
       "output_type": "pyout",
       "prompt_number": 53,
       "text": [
        "['bar', 'foo', 'ping', 'pong', 'zap', 'zip']"
       ]
      }
     ],
     "prompt_number": 53
    },
    {
     "cell_type": "code",
     "collapsed": false,
     "input": [
      "meta.sort(reverse=True)"
     ],
     "language": "python",
     "metadata": {},
     "outputs": [],
     "prompt_number": 54
    },
    {
     "cell_type": "code",
     "collapsed": false,
     "input": [
      "meta"
     ],
     "language": "python",
     "metadata": {},
     "outputs": [
      {
       "metadata": {},
       "output_type": "pyout",
       "prompt_number": 55,
       "text": [
        "['zip', 'zap', 'pong', 'ping', 'foo', 'bar']"
       ]
      }
     ],
     "prompt_number": 55
    },
    {
     "cell_type": "code",
     "collapsed": false,
     "input": [
      "grays = {'black', 'white', 'bone', 'gray', 'midnight'}\n",
      "solids = {'black', 'white', 'red', 'green', 'blue'}\n",
      "pastels = {'gray', 'pink', 'purple', 'bone'}"
     ],
     "language": "python",
     "metadata": {},
     "outputs": [],
     "prompt_number": 72
    },
    {
     "cell_type": "code",
     "collapsed": false,
     "input": [
      "grays & solids"
     ],
     "language": "python",
     "metadata": {},
     "outputs": [
      {
       "metadata": {},
       "output_type": "pyout",
       "prompt_number": 57,
       "text": [
        "{'black', 'white'}"
       ]
      }
     ],
     "prompt_number": 57
    },
    {
     "cell_type": "code",
     "collapsed": false,
     "input": [
      "grays | solids"
     ],
     "language": "python",
     "metadata": {},
     "outputs": [
      {
       "metadata": {},
       "output_type": "pyout",
       "prompt_number": 58,
       "text": [
        "{'black', 'blue', 'bone', 'gray', 'green', 'midnight', 'red', 'white'}"
       ]
      }
     ],
     "prompt_number": 58
    },
    {
     "cell_type": "code",
     "collapsed": false,
     "input": [
      "grays & pastels"
     ],
     "language": "python",
     "metadata": {},
     "outputs": [
      {
       "metadata": {},
       "output_type": "pyout",
       "prompt_number": 73,
       "text": [
        "{'bone', 'gray'}"
       ]
      }
     ],
     "prompt_number": 73
    },
    {
     "cell_type": "code",
     "collapsed": false,
     "input": [
      "words = set('foo bar ping bar zip pow zap bar foo ping pow'.split())"
     ],
     "language": "python",
     "metadata": {},
     "outputs": [],
     "prompt_number": 64
    },
    {
     "cell_type": "code",
     "collapsed": false,
     "input": [
      "words"
     ],
     "language": "python",
     "metadata": {},
     "outputs": [
      {
       "metadata": {},
       "output_type": "pyout",
       "prompt_number": 65,
       "text": [
        "{'bar', 'foo', 'ping', 'pow', 'zap', 'zip'}"
       ]
      }
     ],
     "prompt_number": 65
    },
    {
     "cell_type": "code",
     "collapsed": false,
     "input": [
      "%pprint"
     ],
     "language": "python",
     "metadata": {},
     "outputs": [
      {
       "output_type": "stream",
       "stream": "stdout",
       "text": [
        "Pretty printing has been turned OFF\n"
       ]
      }
     ],
     "prompt_number": 66
    },
    {
     "cell_type": "code",
     "collapsed": false,
     "input": [
      "words"
     ],
     "language": "python",
     "metadata": {},
     "outputs": [
      {
       "metadata": {},
       "output_type": "pyout",
       "prompt_number": 67,
       "text": [
        "{'foo', 'bar', 'zip', 'pow', 'zap', 'ping'}"
       ]
      }
     ],
     "prompt_number": 67
    },
    {
     "cell_type": "code",
     "collapsed": false,
     "input": [
      "words.update(\"blort ping bang wibble zip zap pow\".split())"
     ],
     "language": "python",
     "metadata": {},
     "outputs": [],
     "prompt_number": 68
    },
    {
     "cell_type": "code",
     "collapsed": false,
     "input": [
      "words"
     ],
     "language": "python",
     "metadata": {},
     "outputs": [
      {
       "metadata": {},
       "output_type": "pyout",
       "prompt_number": 69,
       "text": [
        "{'bang', 'blort', 'foo', 'bar', 'zip', 'wibble', 'pow', 'zap', 'ping'}"
       ]
      }
     ],
     "prompt_number": 69
    },
    {
     "cell_type": "code",
     "collapsed": false,
     "input": [
      "grays - solids"
     ],
     "language": "python",
     "metadata": {},
     "outputs": [
      {
       "metadata": {},
       "output_type": "pyout",
       "prompt_number": 70,
       "text": [
        "{'bone', 'gray', 'midnight'}"
       ]
      }
     ],
     "prompt_number": 70
    },
    {
     "cell_type": "code",
     "collapsed": false,
     "input": [
      "pastels - grays"
     ],
     "language": "python",
     "metadata": {},
     "outputs": [
      {
       "metadata": {},
       "output_type": "pyout",
       "prompt_number": 74,
       "text": [
        "{'pink', 'purple'}"
       ]
      }
     ],
     "prompt_number": 74
    },
    {
     "cell_type": "code",
     "collapsed": false,
     "input": [
      "help(grays)"
     ],
     "language": "python",
     "metadata": {},
     "outputs": [
      {
       "output_type": "stream",
       "stream": "stdout",
       "text": [
        "Help on set object:\n",
        "\n",
        "class set(object)\n",
        " |  set() -> new empty set object\n",
        " |  set(iterable) -> new set object\n",
        " |  \n",
        " |  Build an unordered collection of unique elements.\n",
        " |  \n",
        " |  Methods defined here:\n",
        " |  \n",
        " |  __and__(self, value, /)\n",
        " |      Return self&value.\n",
        " |  \n",
        " |  __contains__(...)\n",
        " |      x.__contains__(y) <==> y in x.\n",
        " |  \n",
        " |  __eq__(self, value, /)\n",
        " |      Return self==value.\n",
        " |  \n",
        " |  __ge__(self, value, /)\n",
        " |      Return self>=value.\n",
        " |  \n",
        " |  __getattribute__(self, name, /)\n",
        " |      Return getattr(self, name).\n",
        " |  \n",
        " |  __gt__(self, value, /)\n",
        " |      Return self>value.\n",
        " |  \n",
        " |  __iand__(self, value, /)\n",
        " |      Return self&=value.\n",
        " |  \n",
        " |  __init__(self, /, *args, **kwargs)\n",
        " |      Initialize self.  See help(type(self)) for accurate signature.\n",
        " |  \n",
        " |  __ior__(self, value, /)\n",
        " |      Return self|=value.\n",
        " |  \n",
        " |  __isub__(self, value, /)\n",
        " |      Return self-=value.\n",
        " |  \n",
        " |  __iter__(self, /)\n",
        " |      Implement iter(self).\n",
        " |  \n",
        " |  __ixor__(self, value, /)\n",
        " |      Return self^=value.\n",
        " |  \n",
        " |  __le__(self, value, /)\n",
        " |      Return self<=value.\n",
        " |  \n",
        " |  __len__(self, /)\n",
        " |      Return len(self).\n",
        " |  \n",
        " |  __lt__(self, value, /)\n",
        " |      Return self<value.\n",
        " |  \n",
        " |  __ne__(self, value, /)\n",
        " |      Return self!=value.\n",
        " |  \n",
        " |  __new__(*args, **kwargs) from builtins.type\n",
        " |      Create and return a new object.  See help(type) for accurate signature.\n",
        " |  \n",
        " |  __or__(self, value, /)\n",
        " |      Return self|value.\n",
        " |  \n",
        " |  __rand__(self, value, /)\n",
        " |      Return value&self.\n",
        " |  \n",
        " |  __reduce__(...)\n",
        " |      Return state information for pickling.\n",
        " |  \n",
        " |  __repr__(self, /)\n",
        " |      Return repr(self).\n",
        " |  \n",
        " |  __ror__(self, value, /)\n",
        " |      Return value|self.\n",
        " |  \n",
        " |  __rsub__(self, value, /)\n",
        " |      Return value-self.\n",
        " |  \n",
        " |  __rxor__(self, value, /)\n",
        " |      Return value^self.\n",
        " |  \n",
        " |  __sizeof__(...)\n",
        " |      S.__sizeof__() -> size of S in memory, in bytes\n",
        " |  \n",
        " |  __sub__(self, value, /)\n",
        " |      Return self-value.\n",
        " |  \n",
        " |  __xor__(self, value, /)\n",
        " |      Return self^value.\n",
        " |  \n",
        " |  add(...)\n",
        " |      Add an element to a set.\n",
        " |      \n",
        " |      This has no effect if the element is already present.\n",
        " |  \n",
        " |  clear(...)\n",
        " |      Remove all elements from this set.\n",
        " |  \n",
        " |  copy(...)\n",
        " |      Return a shallow copy of a set.\n",
        " |  \n",
        " |  difference(...)\n",
        " |      Return the difference of two or more sets as a new set.\n",
        " |      \n",
        " |      (i.e. all elements that are in this set but not the others.)\n",
        " |  \n",
        " |  difference_update(...)\n",
        " |      Remove all elements of another set from this set.\n",
        " |  \n",
        " |  discard(...)\n",
        " |      Remove an element from a set if it is a member.\n",
        " |      \n",
        " |      If the element is not a member, do nothing.\n",
        " |  \n",
        " |  intersection(...)\n",
        " |      Return the intersection of two sets as a new set.\n",
        " |      \n",
        " |      (i.e. all elements that are in both sets.)\n",
        " |  \n",
        " |  intersection_update(...)\n",
        " |      Update a set with the intersection of itself and another.\n",
        " |  \n",
        " |  isdisjoint(...)\n",
        " |      Return True if two sets have a null intersection.\n",
        " |  \n",
        " |  issubset(...)\n",
        " |      Report whether another set contains this set.\n",
        " |  \n",
        " |  issuperset(...)\n",
        " |      Report whether this set contains another set.\n",
        " |  \n",
        " |  pop(...)\n",
        " |      Remove and return an arbitrary set element.\n",
        " |      Raises KeyError if the set is empty.\n",
        " |  \n",
        " |  remove(...)\n",
        " |      Remove an element from a set; it must be a member.\n",
        " |      \n",
        " |      If the element is not a member, raise a KeyError.\n",
        " |  \n",
        " |  symmetric_difference(...)\n",
        " |      Return the symmetric difference of two sets as a new set.\n",
        " |      \n",
        " |      (i.e. all elements that are in exactly one of the sets.)\n",
        " |  \n",
        " |  symmetric_difference_update(...)\n",
        " |      Update a set with the symmetric difference of itself and another.\n",
        " |  \n",
        " |  union(...)\n",
        " |      Return the union of sets as a new set.\n",
        " |      \n",
        " |      (i.e. all elements that are in either set.)\n",
        " |  \n",
        " |  update(...)\n",
        " |      Update a set with the union of itself and others.\n",
        " |  \n",
        " |  ----------------------------------------------------------------------\n",
        " |  Data and other attributes defined here:\n",
        " |  \n",
        " |  __hash__ = None\n",
        "\n"
       ]
      }
     ],
     "prompt_number": 75
    },
    {
     "cell_type": "code",
     "collapsed": false,
     "input": [
      "help(meta)"
     ],
     "language": "python",
     "metadata": {},
     "outputs": [
      {
       "output_type": "stream",
       "stream": "stdout",
       "text": [
        "Help on list object:\n",
        "\n",
        "class list(object)\n",
        " |  list() -> new empty list\n",
        " |  list(iterable) -> new list initialized from iterable's items\n",
        " |  \n",
        " |  Methods defined here:\n",
        " |  \n",
        " |  __add__(self, value, /)\n",
        " |      Return self+value.\n",
        " |  \n",
        " |  __contains__(self, key, /)\n",
        " |      Return key in self.\n",
        " |  \n",
        " |  __delitem__(self, key, /)\n",
        " |      Delete self[key].\n",
        " |  \n",
        " |  __eq__(self, value, /)\n",
        " |      Return self==value.\n",
        " |  \n",
        " |  __ge__(self, value, /)\n",
        " |      Return self>=value.\n",
        " |  \n",
        " |  __getattribute__(self, name, /)\n",
        " |      Return getattr(self, name).\n",
        " |  \n",
        " |  __getitem__(...)\n",
        " |      x.__getitem__(y) <==> x[y]\n",
        " |  \n",
        " |  __gt__(self, value, /)\n",
        " |      Return self>value.\n",
        " |  \n",
        " |  __iadd__(self, value, /)\n",
        " |      Implement self+=value.\n",
        " |  \n",
        " |  __imul__(self, value, /)\n",
        " |      Implement self*=value.\n",
        " |  \n",
        " |  __init__(self, /, *args, **kwargs)\n",
        " |      Initialize self.  See help(type(self)) for accurate signature.\n",
        " |  \n",
        " |  __iter__(self, /)\n",
        " |      Implement iter(self).\n",
        " |  \n",
        " |  __le__(self, value, /)\n",
        " |      Return self<=value.\n",
        " |  \n",
        " |  __len__(self, /)\n",
        " |      Return len(self).\n",
        " |  \n",
        " |  __lt__(self, value, /)\n",
        " |      Return self<value.\n",
        " |  \n",
        " |  __mul__(self, value, /)\n",
        " |      Return self*value.n\n",
        " |  \n",
        " |  __ne__(self, value, /)\n",
        " |      Return self!=value.\n",
        " |  \n",
        " |  __new__(*args, **kwargs) from builtins.type\n",
        " |      Create and return a new object.  See help(type) for accurate signature.\n",
        " |  \n",
        " |  __repr__(self, /)\n",
        " |      Return repr(self).\n",
        " |  \n",
        " |  __reversed__(...)\n",
        " |      L.__reversed__() -- return a reverse iterator over the list\n",
        " |  \n",
        " |  __rmul__(self, value, /)\n",
        " |      Return self*value.\n",
        " |  \n",
        " |  __setitem__(self, key, value, /)\n",
        " |      Set self[key] to value.\n",
        " |  \n",
        " |  __sizeof__(...)\n",
        " |      L.__sizeof__() -- size of L in memory, in bytes\n",
        " |  \n",
        " |  append(...)\n",
        " |      L.append(object) -> None -- append object to end\n",
        " |  \n",
        " |  clear(...)\n",
        " |      L.clear() -> None -- remove all items from L\n",
        " |  \n",
        " |  copy(...)\n",
        " |      L.copy() -> list -- a shallow copy of L\n",
        " |  \n",
        " |  count(...)\n",
        " |      L.count(value) -> integer -- return number of occurrences of value\n",
        " |  \n",
        " |  extend(...)\n",
        " |      L.extend(iterable) -> None -- extend list by appending elements from the iterable\n",
        " |  \n",
        " |  index(...)\n",
        " |      L.index(value, [start, [stop]]) -> integer -- return first index of value.\n",
        " |      Raises ValueError if the value is not present.\n",
        " |  \n",
        " |  insert(...)\n",
        " |      L.insert(index, object) -- insert object before index\n",
        " |  \n",
        " |  pop(...)\n",
        " |      L.pop([index]) -> item -- remove and return item at index (default last).\n",
        " |      Raises IndexError if list is empty or index is out of range.\n",
        " |  \n",
        " |  remove(...)\n",
        " |      L.remove(value) -> None -- remove first occurrence of value.\n",
        " |      Raises ValueError if the value is not present.\n",
        " |  \n",
        " |  reverse(...)\n",
        " |      L.reverse() -- reverse *IN PLACE*\n",
        " |  \n",
        " |  sort(...)\n",
        " |      L.sort(key=None, reverse=False) -> None -- stable sort *IN PLACE*\n",
        " |  \n",
        " |  ----------------------------------------------------------------------\n",
        " |  Data and other attributes defined here:\n",
        " |  \n",
        " |  __hash__ = None\n",
        "\n"
       ]
      }
     ],
     "prompt_number": 76
    },
    {
     "cell_type": "markdown",
     "metadata": {},
     "source": [
      "List Slicing\n",
      "------------"
     ]
    },
    {
     "cell_type": "code",
     "collapsed": false,
     "input": [
      "nums = [3, 5, 2, 7, 5, 5, 6, 3, 1]"
     ],
     "language": "python",
     "metadata": {},
     "outputs": [],
     "prompt_number": 99
    },
    {
     "cell_type": "code",
     "collapsed": false,
     "input": [
      "nums[0]"
     ],
     "language": "python",
     "metadata": {},
     "outputs": [
      {
       "metadata": {},
       "output_type": "pyout",
       "prompt_number": 101,
       "text": [
        "3"
       ]
      }
     ],
     "prompt_number": 101
    },
    {
     "cell_type": "code",
     "collapsed": false,
     "input": [
      "# slice: start:end\n",
      "nums[2:5] # half open interval: from 2 up to but not incl 5"
     ],
     "language": "python",
     "metadata": {},
     "outputs": [
      {
       "metadata": {},
       "output_type": "pyout",
       "prompt_number": 102,
       "text": [
        "[2, 7, 5]"
       ]
      }
     ],
     "prompt_number": 102
    },
    {
     "cell_type": "code",
     "collapsed": false,
     "input": [
      "nums[2], nums[3], nums[4] "
     ],
     "language": "python",
     "metadata": {},
     "outputs": [
      {
       "metadata": {},
       "output_type": "pyout",
       "prompt_number": 103,
       "text": [
        "(2, 7, 5)"
       ]
      }
     ],
     "prompt_number": 103
    },
    {
     "cell_type": "code",
     "collapsed": false,
     "input": [
      "# can leave off start, defaults to 0\n",
      "nums[:5]"
     ],
     "language": "python",
     "metadata": {},
     "outputs": [
      {
       "metadata": {},
       "output_type": "pyout",
       "prompt_number": 104,
       "text": [
        "[3, 5, 2, 7, 5]"
       ]
      }
     ],
     "prompt_number": 104
    },
    {
     "cell_type": "code",
     "collapsed": false,
     "input": [
      "# can leave off the end, defaults to len(list)\n",
      "nums[4:]"
     ],
     "language": "python",
     "metadata": {},
     "outputs": [
      {
       "metadata": {},
       "output_type": "pyout",
       "prompt_number": 105,
       "text": [
        "[5, 5, 6, 3, 1]"
       ]
      }
     ],
     "prompt_number": 105
    },
    {
     "cell_type": "code",
     "collapsed": false,
     "input": [
      "part = nums[4:]"
     ],
     "language": "python",
     "metadata": {},
     "outputs": [],
     "prompt_number": 109
    },
    {
     "cell_type": "code",
     "collapsed": false,
     "input": [
      "id(nums)"
     ],
     "language": "python",
     "metadata": {},
     "outputs": [
      {
       "metadata": {},
       "output_type": "pyout",
       "prompt_number": 111,
       "text": [
        "4416693896"
       ]
      }
     ],
     "prompt_number": 111
    },
    {
     "cell_type": "code",
     "collapsed": false,
     "input": [
      "nums"
     ],
     "language": "python",
     "metadata": {},
     "outputs": [
      {
       "metadata": {},
       "output_type": "pyout",
       "prompt_number": 112,
       "text": [
        "[3, 5, 2, 7, 5, 5, 6, 3, 1]"
       ]
      }
     ],
     "prompt_number": 112
    },
    {
     "cell_type": "code",
     "collapsed": false,
     "input": [
      "part"
     ],
     "language": "python",
     "metadata": {},
     "outputs": [
      {
       "metadata": {},
       "output_type": "pyout",
       "prompt_number": 114,
       "text": [
        "[5, 5, 6, 3, 1]"
       ]
      }
     ],
     "prompt_number": 114
    },
    {
     "cell_type": "code",
     "collapsed": false,
     "input": [
      "id(part) # same or different from nums?"
     ],
     "language": "python",
     "metadata": {},
     "outputs": [
      {
       "metadata": {},
       "output_type": "pyout",
       "prompt_number": 116,
       "text": [
        "4416726152"
       ]
      }
     ],
     "prompt_number": 116
    },
    {
     "cell_type": "code",
     "collapsed": false,
     "input": [
      "nums[4]"
     ],
     "language": "python",
     "metadata": {},
     "outputs": [
      {
       "metadata": {},
       "output_type": "pyout",
       "prompt_number": 119,
       "text": [
        "5"
       ]
      }
     ],
     "prompt_number": 119
    },
    {
     "cell_type": "code",
     "collapsed": false,
     "input": [
      "id(nums[4])"
     ],
     "language": "python",
     "metadata": {},
     "outputs": [
      {
       "metadata": {},
       "output_type": "pyout",
       "prompt_number": 118,
       "text": [
        "4297326752"
       ]
      }
     ],
     "prompt_number": 118
    },
    {
     "cell_type": "code",
     "collapsed": false,
     "input": [
      "id(part[0])"
     ],
     "language": "python",
     "metadata": {},
     "outputs": [
      {
       "metadata": {},
       "output_type": "pyout",
       "prompt_number": 121,
       "text": [
        "4297326752"
       ]
      }
     ],
     "prompt_number": 121
    },
    {
     "cell_type": "code",
     "collapsed": false,
     "input": [
      "part[0]"
     ],
     "language": "python",
     "metadata": {},
     "outputs": [
      {
       "metadata": {},
       "output_type": "pyout",
       "prompt_number": 122,
       "text": [
        "5"
       ]
      }
     ],
     "prompt_number": 122
    },
    {
     "cell_type": "code",
     "collapsed": false,
     "input": [
      "# slices return new lists with a shallow copy from the original list"
     ],
     "language": "python",
     "metadata": {},
     "outputs": []
    },
    {
     "cell_type": "code",
     "collapsed": false,
     "input": [
      "nums[:]"
     ],
     "language": "python",
     "metadata": {},
     "outputs": [
      {
       "metadata": {},
       "output_type": "pyout",
       "prompt_number": 106,
       "text": [
        "[3, 5, 2, 7, 5, 5, 6, 3, 1]"
       ]
      }
     ],
     "prompt_number": 106
    },
    {
     "cell_type": "code",
     "collapsed": false,
     "input": [
      "result = nums[:]"
     ],
     "language": "python",
     "metadata": {},
     "outputs": [],
     "prompt_number": 107
    },
    {
     "cell_type": "code",
     "collapsed": false,
     "input": [
      "copy = nums # we already know that this is just another alias to nums\n",
      "            # two identical references to the same list"
     ],
     "language": "python",
     "metadata": {},
     "outputs": [],
     "prompt_number": 123
    },
    {
     "cell_type": "code",
     "collapsed": false,
     "input": [
      "copy is nums"
     ],
     "language": "python",
     "metadata": {},
     "outputs": [
      {
       "metadata": {},
       "output_type": "pyout",
       "prompt_number": 124,
       "text": [
        "True"
       ]
      }
     ],
     "prompt_number": 124
    },
    {
     "cell_type": "code",
     "collapsed": false,
     "input": [
      "id(nums)"
     ],
     "language": "python",
     "metadata": {},
     "outputs": [
      {
       "metadata": {},
       "output_type": "pyout",
       "prompt_number": 125,
       "text": [
        "4416693896"
       ]
      }
     ],
     "prompt_number": 125
    },
    {
     "cell_type": "code",
     "collapsed": false,
     "input": [
      "id(result)"
     ],
     "language": "python",
     "metadata": {},
     "outputs": [
      {
       "metadata": {},
       "output_type": "pyout",
       "prompt_number": 126,
       "text": [
        "4416720584"
       ]
      }
     ],
     "prompt_number": 126
    },
    {
     "cell_type": "code",
     "collapsed": false,
     "input": [
      "result is nums"
     ],
     "language": "python",
     "metadata": {},
     "outputs": [
      {
       "metadata": {},
       "output_type": "pyout",
       "prompt_number": 127,
       "text": [
        "False"
       ]
      }
     ],
     "prompt_number": 127
    },
    {
     "cell_type": "code",
     "collapsed": false,
     "input": [
      "a = 1234"
     ],
     "language": "python",
     "metadata": {},
     "outputs": [],
     "prompt_number": 128
    },
    {
     "cell_type": "code",
     "collapsed": false,
     "input": [
      "b = 1200 + 34"
     ],
     "language": "python",
     "metadata": {},
     "outputs": [],
     "prompt_number": 129
    },
    {
     "cell_type": "code",
     "collapsed": false,
     "input": [
      "id(a)"
     ],
     "language": "python",
     "metadata": {},
     "outputs": [
      {
       "metadata": {},
       "output_type": "pyout",
       "prompt_number": 130,
       "text": [
        "4417193392"
       ]
      }
     ],
     "prompt_number": 130
    },
    {
     "cell_type": "code",
     "collapsed": false,
     "input": [
      "id(b)"
     ],
     "language": "python",
     "metadata": {},
     "outputs": [
      {
       "metadata": {},
       "output_type": "pyout",
       "prompt_number": 131,
       "text": [
        "4417193360"
       ]
      }
     ],
     "prompt_number": 131
    },
    {
     "cell_type": "code",
     "collapsed": false,
     "input": [
      "a == b"
     ],
     "language": "python",
     "metadata": {},
     "outputs": [
      {
       "metadata": {},
       "output_type": "pyout",
       "prompt_number": 132,
       "text": [
        "True"
       ]
      }
     ],
     "prompt_number": 132
    },
    {
     "cell_type": "code",
     "collapsed": false,
     "input": [
      "a is b"
     ],
     "language": "python",
     "metadata": {},
     "outputs": [
      {
       "metadata": {},
       "output_type": "pyout",
       "prompt_number": 133,
       "text": [
        "False"
       ]
      }
     ],
     "prompt_number": 133
    },
    {
     "cell_type": "code",
     "collapsed": false,
     "input": [
      "x = 42\n",
      "y = 40 + 2"
     ],
     "language": "python",
     "metadata": {},
     "outputs": [],
     "prompt_number": 134
    },
    {
     "cell_type": "code",
     "collapsed": false,
     "input": [
      "x == y"
     ],
     "language": "python",
     "metadata": {},
     "outputs": [
      {
       "metadata": {},
       "output_type": "pyout",
       "prompt_number": 135,
       "text": [
        "True"
       ]
      }
     ],
     "prompt_number": 135
    },
    {
     "cell_type": "code",
     "collapsed": false,
     "input": [
      "x is y # only because CPython interns -5 to 255 so there is only one\n",
      "       # instance of each of these integers"
     ],
     "language": "python",
     "metadata": {},
     "outputs": [
      {
       "metadata": {},
       "output_type": "pyout",
       "prompt_number": 136,
       "text": [
        "True"
       ]
      }
     ],
     "prompt_number": 136
    },
    {
     "cell_type": "code",
     "collapsed": false,
     "input": [
      "nums"
     ],
     "language": "python",
     "metadata": {},
     "outputs": [
      {
       "metadata": {},
       "output_type": "pyout",
       "prompt_number": 137,
       "text": [
        "[3, 5, 2, 7, 5, 5, 6, 3, 1]"
       ]
      }
     ],
     "prompt_number": 137
    },
    {
     "cell_type": "code",
     "collapsed": false,
     "input": [
      "nums[0:45:3] # strides"
     ],
     "language": "python",
     "metadata": {},
     "outputs": [
      {
       "metadata": {},
       "output_type": "pyout",
       "prompt_number": 141,
       "text": [
        "[3, 7, 6]"
       ]
      }
     ],
     "prompt_number": 141
    },
    {
     "cell_type": "code",
     "collapsed": false,
     "input": [
      "nums[:100000] # this is a surprise to most people"
     ],
     "language": "python",
     "metadata": {},
     "outputs": [
      {
       "metadata": {},
       "output_type": "pyout",
       "prompt_number": 142,
       "text": [
        "[3, 5, 2, 7, 5, 5, 6, 3, 1]"
       ]
      }
     ],
     "prompt_number": 142
    },
    {
     "cell_type": "code",
     "collapsed": false,
     "input": [
      "nums[7:2:-1]"
     ],
     "language": "python",
     "metadata": {},
     "outputs": [
      {
       "metadata": {},
       "output_type": "pyout",
       "prompt_number": 143,
       "text": [
        "[3, 6, 5, 5, 7]"
       ]
      }
     ],
     "prompt_number": 143
    },
    {
     "cell_type": "code",
     "collapsed": false,
     "input": [
      "nums[7:2:-2]"
     ],
     "language": "python",
     "metadata": {},
     "outputs": [
      {
       "metadata": {},
       "output_type": "pyout",
       "prompt_number": 144,
       "text": [
        "[3, 5, 7]"
       ]
      }
     ],
     "prompt_number": 144
    },
    {
     "cell_type": "code",
     "collapsed": false,
     "input": [
      "nums[::-1]"
     ],
     "language": "python",
     "metadata": {},
     "outputs": [
      {
       "metadata": {},
       "output_type": "pyout",
       "prompt_number": 145,
       "text": [
        "[1, 3, 6, 5, 5, 7, 2, 5, 3]"
       ]
      }
     ],
     "prompt_number": 145
    },
    {
     "cell_type": "code",
     "collapsed": false,
     "input": [
      "meta = \"foo bar zip\".split()"
     ],
     "language": "python",
     "metadata": {},
     "outputs": [],
     "prompt_number": 161
    },
    {
     "cell_type": "code",
     "collapsed": false,
     "input": [
      "meta"
     ],
     "language": "python",
     "metadata": {},
     "outputs": [
      {
       "metadata": {},
       "output_type": "pyout",
       "prompt_number": 162,
       "text": [
        "['foo', 'bar', 'zip']"
       ]
      }
     ],
     "prompt_number": 162
    },
    {
     "cell_type": "code",
     "collapsed": false,
     "input": [
      "meta[1]"
     ],
     "language": "python",
     "metadata": {},
     "outputs": [
      {
       "metadata": {},
       "output_type": "pyout",
       "prompt_number": 163,
       "text": [
        "'bar'"
       ]
      }
     ],
     "prompt_number": 163
    },
    {
     "cell_type": "code",
     "collapsed": false,
     "input": [
      "meta[1] = 'baz'"
     ],
     "language": "python",
     "metadata": {},
     "outputs": [],
     "prompt_number": 164
    },
    {
     "cell_type": "code",
     "collapsed": false,
     "input": [
      "meta"
     ],
     "language": "python",
     "metadata": {},
     "outputs": [
      {
       "metadata": {},
       "output_type": "pyout",
       "prompt_number": 165,
       "text": [
        "['foo', 'baz', 'zip']"
       ]
      }
     ],
     "prompt_number": 165
    },
    {
     "cell_type": "code",
     "collapsed": false,
     "input": [
      "meta.append('zap')"
     ],
     "language": "python",
     "metadata": {},
     "outputs": [],
     "prompt_number": 166
    },
    {
     "cell_type": "code",
     "collapsed": false,
     "input": [
      "meta"
     ],
     "language": "python",
     "metadata": {},
     "outputs": [
      {
       "metadata": {},
       "output_type": "pyout",
       "prompt_number": 167,
       "text": [
        "['foo', 'baz', 'zip', 'zap']"
       ]
      }
     ],
     "prompt_number": 167
    },
    {
     "cell_type": "code",
     "collapsed": false,
     "input": [
      "extra = \"blort wibble\".split()"
     ],
     "language": "python",
     "metadata": {},
     "outputs": [],
     "prompt_number": 168
    },
    {
     "cell_type": "code",
     "collapsed": false,
     "input": [
      "extra"
     ],
     "language": "python",
     "metadata": {},
     "outputs": [
      {
       "metadata": {},
       "output_type": "pyout",
       "prompt_number": 169,
       "text": [
        "['blort', 'wibble']"
       ]
      }
     ],
     "prompt_number": 169
    },
    {
     "cell_type": "code",
     "collapsed": false,
     "input": [
      "meta + extra"
     ],
     "language": "python",
     "metadata": {},
     "outputs": [
      {
       "metadata": {},
       "output_type": "pyout",
       "prompt_number": 170,
       "text": [
        "['foo', 'baz', 'zip', 'zap', 'blort', 'wibble']"
       ]
      }
     ],
     "prompt_number": 170
    },
    {
     "cell_type": "code",
     "collapsed": false,
     "input": [
      "meta"
     ],
     "language": "python",
     "metadata": {},
     "outputs": [
      {
       "metadata": {},
       "output_type": "pyout",
       "prompt_number": 172,
       "text": [
        "['foo', 'baz', 'zip', 'zap']"
       ]
      }
     ],
     "prompt_number": 172
    },
    {
     "cell_type": "code",
     "collapsed": false,
     "input": [
      "id(meta)"
     ],
     "language": "python",
     "metadata": {},
     "outputs": [
      {
       "metadata": {},
       "output_type": "pyout",
       "prompt_number": 171,
       "text": [
        "4417107272"
       ]
      }
     ],
     "prompt_number": 171
    },
    {
     "cell_type": "code",
     "collapsed": false,
     "input": [
      "new = meta + extra"
     ],
     "language": "python",
     "metadata": {},
     "outputs": [],
     "prompt_number": 173
    },
    {
     "cell_type": "code",
     "collapsed": false,
     "input": [
      "id(new)"
     ],
     "language": "python",
     "metadata": {},
     "outputs": [
      {
       "metadata": {},
       "output_type": "pyout",
       "prompt_number": 174,
       "text": [
        "4417109768"
       ]
      }
     ],
     "prompt_number": 174
    },
    {
     "cell_type": "code",
     "collapsed": false,
     "input": [
      "meta"
     ],
     "language": "python",
     "metadata": {},
     "outputs": [
      {
       "metadata": {},
       "output_type": "pyout",
       "prompt_number": 175,
       "text": [
        "['foo', 'baz', 'zip', 'zap']"
       ]
      }
     ],
     "prompt_number": 175
    },
    {
     "cell_type": "code",
     "collapsed": false,
     "input": [
      "meta = meta + extra"
     ],
     "language": "python",
     "metadata": {},
     "outputs": [],
     "prompt_number": 176
    },
    {
     "cell_type": "code",
     "collapsed": false,
     "input": [
      "id(meta)"
     ],
     "language": "python",
     "metadata": {},
     "outputs": [
      {
       "metadata": {},
       "output_type": "pyout",
       "prompt_number": 177,
       "text": [
        "4417107144"
       ]
      }
     ],
     "prompt_number": 177
    },
    {
     "cell_type": "code",
     "collapsed": false,
     "input": [
      "meta += extra"
     ],
     "language": "python",
     "metadata": {},
     "outputs": [],
     "prompt_number": 158
    },
    {
     "cell_type": "code",
     "collapsed": false,
     "input": [
      "meta"
     ],
     "language": "python",
     "metadata": {},
     "outputs": [
      {
       "metadata": {},
       "output_type": "pyout",
       "prompt_number": 159,
       "text": [
        "['foo', 'baz', 'zip', 'zap', 'blort', 'wibble']"
       ]
      }
     ],
     "prompt_number": 159
    },
    {
     "cell_type": "code",
     "collapsed": false,
     "input": [
      "id(meta)"
     ],
     "language": "python",
     "metadata": {},
     "outputs": [
      {
       "metadata": {},
       "output_type": "pyout",
       "prompt_number": 160,
       "text": [
        "4417071304"
       ]
      }
     ],
     "prompt_number": 160
    },
    {
     "cell_type": "code",
     "collapsed": false,
     "input": [
      "meta = meta + extra"
     ],
     "language": "python",
     "metadata": {},
     "outputs": [],
     "prompt_number": 178
    },
    {
     "cell_type": "code",
     "collapsed": false,
     "input": [
      "ianshopping = 'milk bread butter'.split()"
     ],
     "language": "python",
     "metadata": {},
     "outputs": [],
     "prompt_number": 188
    },
    {
     "cell_type": "code",
     "collapsed": false,
     "input": [
      "emilyshopping = ianshopping"
     ],
     "language": "python",
     "metadata": {},
     "outputs": [],
     "prompt_number": 189
    },
    {
     "cell_type": "code",
     "collapsed": false,
     "input": [
      "otherstuff = 'cereal oj jam'.split()"
     ],
     "language": "python",
     "metadata": {},
     "outputs": [],
     "prompt_number": 190
    },
    {
     "cell_type": "code",
     "collapsed": false,
     "input": [
      "ianshopping += otherstuff # ianshopping.__inc__(otherstuff)"
     ],
     "language": "python",
     "metadata": {},
     "outputs": [],
     "prompt_number": 191
    },
    {
     "cell_type": "code",
     "collapsed": false,
     "input": [
      "ianshopping"
     ],
     "language": "python",
     "metadata": {},
     "outputs": [
      {
       "metadata": {},
       "output_type": "pyout",
       "prompt_number": 192,
       "text": [
        "['milk', 'bread', 'butter', 'cereal', 'oj', 'jam']"
       ]
      }
     ],
     "prompt_number": 192
    },
    {
     "cell_type": "code",
     "collapsed": false,
     "input": [
      "emilyshopping"
     ],
     "language": "python",
     "metadata": {},
     "outputs": [
      {
       "metadata": {},
       "output_type": "pyout",
       "prompt_number": 193,
       "text": [
        "['milk', 'bread', 'butter', 'cereal', 'oj', 'jam']"
       ]
      }
     ],
     "prompt_number": 193
    },
    {
     "cell_type": "code",
     "collapsed": false,
     "input": [
      "ianshopping"
     ],
     "language": "python",
     "metadata": {},
     "outputs": [
      {
       "metadata": {},
       "output_type": "pyout",
       "prompt_number": 194,
       "text": [
        "['milk', 'bread', 'butter', 'cereal', 'oj', 'jam']"
       ]
      }
     ],
     "prompt_number": 194
    },
    {
     "cell_type": "code",
     "collapsed": false,
     "input": [
      "'oj' in ianshopping"
     ],
     "language": "python",
     "metadata": {},
     "outputs": [
      {
       "metadata": {},
       "output_type": "pyout",
       "prompt_number": 195,
       "text": [
        "True"
       ]
      }
     ],
     "prompt_number": 195
    },
    {
     "cell_type": "code",
     "collapsed": false,
     "input": [
      "'OJ' in ianshopping"
     ],
     "language": "python",
     "metadata": {},
     "outputs": [
      {
       "metadata": {},
       "output_type": "pyout",
       "prompt_number": 197,
       "text": [
        "False"
       ]
      }
     ],
     "prompt_number": 197
    },
    {
     "cell_type": "code",
     "collapsed": false,
     "input": [
      "# my own case insensitive search\n",
      "item = 'Oj'\n",
      "item.lower() in [i.lower() for i in ianshopping]"
     ],
     "language": "python",
     "metadata": {},
     "outputs": [
      {
       "metadata": {},
       "output_type": "pyout",
       "prompt_number": 198,
       "text": [
        "True"
       ]
      }
     ],
     "prompt_number": 198
    },
    {
     "cell_type": "code",
     "collapsed": false,
     "input": [
      "ianshopping"
     ],
     "language": "python",
     "metadata": {},
     "outputs": [
      {
       "metadata": {},
       "output_type": "pyout",
       "prompt_number": 199,
       "text": [
        "['milk', 'bread', 'butter', 'cereal', 'oj', 'jam']"
       ]
      }
     ],
     "prompt_number": 199
    },
    {
     "cell_type": "code",
     "collapsed": false,
     "input": [
      "'read' in ianshopping"
     ],
     "language": "python",
     "metadata": {},
     "outputs": [
      {
       "metadata": {},
       "output_type": "pyout",
       "prompt_number": 200,
       "text": [
        "False"
       ]
      }
     ],
     "prompt_number": 200
    },
    {
     "cell_type": "code",
     "collapsed": false,
     "input": [
      "words = 'milk bread butter cereal'"
     ],
     "language": "python",
     "metadata": {},
     "outputs": [],
     "prompt_number": 201
    },
    {
     "cell_type": "code",
     "collapsed": false,
     "input": [
      "len(words) # string, not list"
     ],
     "language": "python",
     "metadata": {},
     "outputs": [
      {
       "metadata": {},
       "output_type": "pyout",
       "prompt_number": 203,
       "text": [
        "24"
       ]
      }
     ],
     "prompt_number": 203
    },
    {
     "cell_type": "code",
     "collapsed": false,
     "input": [
      "'ilk' in words"
     ],
     "language": "python",
     "metadata": {},
     "outputs": [
      {
       "metadata": {},
       "output_type": "pyout",
       "prompt_number": 204,
       "text": [
        "True"
       ]
      }
     ],
     "prompt_number": 204
    },
    {
     "cell_type": "code",
     "collapsed": false,
     "input": [
      "'ad' in words"
     ],
     "language": "python",
     "metadata": {},
     "outputs": [
      {
       "metadata": {},
       "output_type": "pyout",
       "prompt_number": 205,
       "text": [
        "True"
       ]
      }
     ],
     "prompt_number": 205
    },
    {
     "cell_type": "code",
     "collapsed": false,
     "input": [
      "'BUTTER' in words"
     ],
     "language": "python",
     "metadata": {},
     "outputs": [
      {
       "metadata": {},
       "output_type": "pyout",
       "prompt_number": 206,
       "text": [
        "False"
       ]
      }
     ],
     "prompt_number": 206
    },
    {
     "cell_type": "code",
     "collapsed": false,
     "input": [
      "words.startswith('milk')"
     ],
     "language": "python",
     "metadata": {},
     "outputs": [
      {
       "metadata": {},
       "output_type": "pyout",
       "prompt_number": 207,
       "text": [
        "True"
       ]
      }
     ],
     "prompt_number": 207
    },
    {
     "cell_type": "code",
     "collapsed": false,
     "input": [
      "words.split('a')"
     ],
     "language": "python",
     "metadata": {},
     "outputs": [
      {
       "metadata": {},
       "output_type": "pyout",
       "prompt_number": 208,
       "text": [
        "['milk bre', 'd butter cere', 'l']"
       ]
      }
     ],
     "prompt_number": 208
    },
    {
     "cell_type": "code",
     "collapsed": false,
     "input": [
      "words.split('ad')"
     ],
     "language": "python",
     "metadata": {},
     "outputs": [
      {
       "metadata": {},
       "output_type": "pyout",
       "prompt_number": 209,
       "text": [
        "['milk bre', ' butter cereal']"
       ]
      }
     ],
     "prompt_number": 209
    },
    {
     "cell_type": "code",
     "collapsed": false,
     "input": [
      "ianshopping"
     ],
     "language": "python",
     "metadata": {},
     "outputs": [
      {
       "metadata": {},
       "output_type": "pyout",
       "prompt_number": 210,
       "text": [
        "['milk', 'bread', 'butter', 'cereal', 'oj', 'jam']"
       ]
      }
     ],
     "prompt_number": 210
    },
    {
     "cell_type": "code",
     "collapsed": false,
     "input": [
      "ianshopping.pop()"
     ],
     "language": "python",
     "metadata": {},
     "outputs": [
      {
       "metadata": {},
       "output_type": "pyout",
       "prompt_number": 211,
       "text": [
        "'jam'"
       ]
      }
     ],
     "prompt_number": 211
    },
    {
     "cell_type": "code",
     "collapsed": false,
     "input": [
      "ianshopping.pop()"
     ],
     "language": "python",
     "metadata": {},
     "outputs": [
      {
       "metadata": {},
       "output_type": "pyout",
       "prompt_number": 212,
       "text": [
        "'oj'"
       ]
      }
     ],
     "prompt_number": 212
    },
    {
     "cell_type": "code",
     "collapsed": false,
     "input": [
      "ianshopping"
     ],
     "language": "python",
     "metadata": {},
     "outputs": [
      {
       "metadata": {},
       "output_type": "pyout",
       "prompt_number": 213,
       "text": [
        "['milk', 'bread', 'butter', 'cereal']"
       ]
      }
     ],
     "prompt_number": 213
    },
    {
     "cell_type": "code",
     "collapsed": false,
     "input": [
      "extra"
     ],
     "language": "python",
     "metadata": {},
     "outputs": [
      {
       "metadata": {},
       "output_type": "pyout",
       "prompt_number": 214,
       "text": [
        "['blort', 'wibble']"
       ]
      }
     ],
     "prompt_number": 214
    },
    {
     "cell_type": "code",
     "collapsed": false,
     "input": [
      "ianshopping.append(extra) # do you think this is what I want to do?"
     ],
     "language": "python",
     "metadata": {},
     "outputs": [],
     "prompt_number": 215
    },
    {
     "cell_type": "code",
     "collapsed": false,
     "input": [
      "len(ianshopping)"
     ],
     "language": "python",
     "metadata": {},
     "outputs": [
      {
       "metadata": {},
       "output_type": "pyout",
       "prompt_number": 216,
       "text": [
        "5"
       ]
      }
     ],
     "prompt_number": 216
    },
    {
     "cell_type": "code",
     "collapsed": false,
     "input": [
      "ianshopping"
     ],
     "language": "python",
     "metadata": {},
     "outputs": [
      {
       "metadata": {},
       "output_type": "pyout",
       "prompt_number": 217,
       "text": [
        "['milk', 'bread', 'butter', 'cereal', ['blort', 'wibble']]"
       ]
      }
     ],
     "prompt_number": 217
    },
    {
     "cell_type": "code",
     "collapsed": false,
     "input": [
      "ianshopping.pop()"
     ],
     "language": "python",
     "metadata": {},
     "outputs": [
      {
       "metadata": {},
       "output_type": "pyout",
       "prompt_number": 218,
       "text": [
        "['blort', 'wibble']"
       ]
      }
     ],
     "prompt_number": 218
    },
    {
     "cell_type": "code",
     "collapsed": false,
     "input": [
      "ianshopping"
     ],
     "language": "python",
     "metadata": {},
     "outputs": [
      {
       "metadata": {},
       "output_type": "pyout",
       "prompt_number": 219,
       "text": [
        "['milk', 'bread', 'butter', 'cereal']"
       ]
      }
     ],
     "prompt_number": 219
    },
    {
     "cell_type": "code",
     "collapsed": false,
     "input": [
      "veg = 'carrots squash celery'.split()"
     ],
     "language": "python",
     "metadata": {},
     "outputs": [],
     "prompt_number": 220
    },
    {
     "cell_type": "code",
     "collapsed": false,
     "input": [
      "veg"
     ],
     "language": "python",
     "metadata": {},
     "outputs": [
      {
       "metadata": {},
       "output_type": "pyout",
       "prompt_number": 222,
       "text": [
        "['carrots', 'squash', 'celery']"
       ]
      }
     ],
     "prompt_number": 222
    },
    {
     "cell_type": "code",
     "collapsed": false,
     "input": [
      "ianshopping.extend(veg)"
     ],
     "language": "python",
     "metadata": {},
     "outputs": [],
     "prompt_number": 223
    },
    {
     "cell_type": "code",
     "collapsed": false,
     "input": [
      "ianshopping"
     ],
     "language": "python",
     "metadata": {},
     "outputs": [
      {
       "metadata": {},
       "output_type": "pyout",
       "prompt_number": 224,
       "text": [
        "['milk', 'bread', 'butter', 'cereal', 'carrots', 'squash', 'celery']"
       ]
      }
     ],
     "prompt_number": 224
    },
    {
     "cell_type": "code",
     "collapsed": false,
     "input": [
      "ianshopping.insert(3, 'tomatoes')"
     ],
     "language": "python",
     "metadata": {},
     "outputs": [],
     "prompt_number": 225
    },
    {
     "cell_type": "code",
     "collapsed": false,
     "input": [
      "ianshopping[3]"
     ],
     "language": "python",
     "metadata": {},
     "outputs": [
      {
       "metadata": {},
       "output_type": "pyout",
       "prompt_number": 226,
       "text": [
        "'tomatoes'"
       ]
      }
     ],
     "prompt_number": 226
    },
    {
     "cell_type": "code",
     "collapsed": false,
     "input": [
      "ianshopping"
     ],
     "language": "python",
     "metadata": {},
     "outputs": [
      {
       "metadata": {},
       "output_type": "pyout",
       "prompt_number": 227,
       "text": [
        "['milk', 'bread', 'butter', 'tomatoes', 'cereal', 'carrots', 'squash', 'celery']"
       ]
      }
     ],
     "prompt_number": 227
    },
    {
     "cell_type": "code",
     "collapsed": false,
     "input": [
      "ianshopping.remove('bread')"
     ],
     "language": "python",
     "metadata": {},
     "outputs": [],
     "prompt_number": 228
    },
    {
     "cell_type": "code",
     "collapsed": false,
     "input": [
      "ianshopping"
     ],
     "language": "python",
     "metadata": {},
     "outputs": [
      {
       "metadata": {},
       "output_type": "pyout",
       "prompt_number": 229,
       "text": [
        "['milk', 'butter', 'tomatoes', 'cereal', 'carrots', 'squash', 'celery']"
       ]
      }
     ],
     "prompt_number": 229
    },
    {
     "cell_type": "code",
     "collapsed": false,
     "input": [
      "ianshopping[4]"
     ],
     "language": "python",
     "metadata": {},
     "outputs": [
      {
       "metadata": {},
       "output_type": "pyout",
       "prompt_number": 230,
       "text": [
        "'carrots'"
       ]
      }
     ],
     "prompt_number": 230
    },
    {
     "cell_type": "code",
     "collapsed": false,
     "input": [
      "del ianshopping[4]"
     ],
     "language": "python",
     "metadata": {},
     "outputs": [],
     "prompt_number": 231
    },
    {
     "cell_type": "code",
     "collapsed": false,
     "input": [
      "ianshopping"
     ],
     "language": "python",
     "metadata": {},
     "outputs": [
      {
       "metadata": {},
       "output_type": "pyout",
       "prompt_number": 232,
       "text": [
        "['milk', 'butter', 'tomatoes', 'cereal', 'squash', 'celery']"
       ]
      }
     ],
     "prompt_number": 232
    },
    {
     "cell_type": "code",
     "collapsed": false,
     "input": [
      "nums"
     ],
     "language": "python",
     "metadata": {},
     "outputs": [
      {
       "metadata": {},
       "output_type": "pyout",
       "prompt_number": 233,
       "text": [
        "[3, 5, 2, 7, 5, 5, 6, 3, 1]"
       ]
      }
     ],
     "prompt_number": 233
    },
    {
     "cell_type": "code",
     "collapsed": false,
     "input": [
      "nums[2:5]"
     ],
     "language": "python",
     "metadata": {},
     "outputs": [
      {
       "metadata": {},
       "output_type": "pyout",
       "prompt_number": 234,
       "text": [
        "[2, 7, 5]"
       ]
      }
     ],
     "prompt_number": 234
    },
    {
     "cell_type": "code",
     "collapsed": false,
     "input": [
      "nums[2:5] = [1,2,3] # make a prediction: what will happen"
     ],
     "language": "python",
     "metadata": {},
     "outputs": [],
     "prompt_number": 235
    },
    {
     "cell_type": "code",
     "collapsed": false,
     "input": [
      "nums"
     ],
     "language": "python",
     "metadata": {},
     "outputs": [
      {
       "metadata": {},
       "output_type": "pyout",
       "prompt_number": 236,
       "text": [
        "[3, 5, 1, 2, 3, 5, 6, 3, 1]"
       ]
      }
     ],
     "prompt_number": 236
    },
    {
     "cell_type": "code",
     "collapsed": false,
     "input": [
      "nums[2:5]"
     ],
     "language": "python",
     "metadata": {},
     "outputs": [
      {
       "metadata": {},
       "output_type": "pyout",
       "prompt_number": 237,
       "text": [
        "[1, 2, 3]"
       ]
      }
     ],
     "prompt_number": 237
    },
    {
     "cell_type": "code",
     "collapsed": false,
     "input": [
      "nums[2:5] = [10, 20, 30, 40, 50] # make a prediction\n",
      "# 1. exception (size mismatch)\n",
      "# 2. all \"copied\", tail shifts right -- WINNER!\n",
      "# 3. 40, 50 overwrite 5, 6\n",
      "# 4. 40, 50 are ignored"
     ],
     "language": "python",
     "metadata": {},
     "outputs": [],
     "prompt_number": 238
    },
    {
     "cell_type": "code",
     "collapsed": false,
     "input": [
      "nums"
     ],
     "language": "python",
     "metadata": {},
     "outputs": [
      {
       "metadata": {},
       "output_type": "pyout",
       "prompt_number": 239,
       "text": [
        "[3, 5, 10, 20, 30, 40, 50, 5, 6, 3, 1]"
       ]
      }
     ],
     "prompt_number": 239
    },
    {
     "cell_type": "code",
     "collapsed": false,
     "input": [
      "nums[2:7]"
     ],
     "language": "python",
     "metadata": {},
     "outputs": [
      {
       "metadata": {},
       "output_type": "pyout",
       "prompt_number": 240,
       "text": [
        "[10, 20, 30, 40, 50]"
       ]
      }
     ],
     "prompt_number": 240
    },
    {
     "cell_type": "code",
     "collapsed": false,
     "input": [
      "nums[2:7] = [888, 999] # what now?\n",
      "# 1. exception (mismatch)\n",
      "# 2. 10, 20 become 888, 999, rest unchanged\n",
      "# 3. repeats over range (inserts [888, 999, 888, 999, 888])\n",
      "# 4. 888, 999 replaces specified range -- WINNER!"
     ],
     "language": "python",
     "metadata": {},
     "outputs": [],
     "prompt_number": 241
    },
    {
     "cell_type": "code",
     "collapsed": false,
     "input": [
      "nums"
     ],
     "language": "python",
     "metadata": {},
     "outputs": [
      {
       "metadata": {},
       "output_type": "pyout",
       "prompt_number": 242,
       "text": [
        "[3, 5, 888, 999, 5, 6, 3, 1]"
       ]
      }
     ],
     "prompt_number": 242
    },
    {
     "cell_type": "code",
     "collapsed": false,
     "input": [
      "ianshopping"
     ],
     "language": "python",
     "metadata": {},
     "outputs": [
      {
       "metadata": {},
       "output_type": "pyout",
       "prompt_number": 243,
       "text": [
        "['milk', 'butter', 'tomatoes', 'cereal', 'squash', 'celery']"
       ]
      }
     ],
     "prompt_number": 243
    },
    {
     "cell_type": "code",
     "collapsed": false,
     "input": [
      "emilyshopping"
     ],
     "language": "python",
     "metadata": {},
     "outputs": [
      {
       "metadata": {},
       "output_type": "pyout",
       "prompt_number": 244,
       "text": [
        "['milk', 'butter', 'tomatoes', 'cereal', 'squash', 'celery']"
       ]
      }
     ],
     "prompt_number": 244
    },
    {
     "cell_type": "code",
     "collapsed": false,
     "input": [
      "ianshopping is emilyshopping"
     ],
     "language": "python",
     "metadata": {},
     "outputs": [
      {
       "metadata": {},
       "output_type": "pyout",
       "prompt_number": 245,
       "text": [
        "True"
       ]
      }
     ],
     "prompt_number": 245
    },
    {
     "cell_type": "code",
     "collapsed": false,
     "input": [
      "ianshopping[:] # in read context, this creates new list with shallow copy\n",
      "               # of everything in the original list"
     ],
     "language": "python",
     "metadata": {},
     "outputs": [
      {
       "metadata": {},
       "output_type": "pyout",
       "prompt_number": 246,
       "text": [
        "['milk', 'butter', 'tomatoes', 'cereal', 'squash', 'celery']"
       ]
      }
     ],
     "prompt_number": 246
    },
    {
     "cell_type": "code",
     "collapsed": false,
     "input": [
      "id(ianshopping)"
     ],
     "language": "python",
     "metadata": {},
     "outputs": [
      {
       "metadata": {},
       "output_type": "pyout",
       "prompt_number": 247,
       "text": [
        "4417103880"
       ]
      }
     ],
     "prompt_number": 247
    },
    {
     "cell_type": "code",
     "collapsed": false,
     "input": [
      "ianshopping[:] = 'beer pizza ice_cream'.split()"
     ],
     "language": "python",
     "metadata": {},
     "outputs": [],
     "prompt_number": 265
    },
    {
     "cell_type": "code",
     "collapsed": false,
     "input": [
      "emilyshopping = ianshopping"
     ],
     "language": "python",
     "metadata": {},
     "outputs": [],
     "prompt_number": 268
    },
    {
     "cell_type": "code",
     "collapsed": false,
     "input": [
      "id(ianshopping)"
     ],
     "language": "python",
     "metadata": {},
     "outputs": [
      {
       "metadata": {},
       "output_type": "pyout",
       "prompt_number": 269,
       "text": [
        "4417103880"
       ]
      }
     ],
     "prompt_number": 269
    },
    {
     "cell_type": "code",
     "collapsed": false,
     "input": [
      "id(emilyshopping)"
     ],
     "language": "python",
     "metadata": {},
     "outputs": [
      {
       "metadata": {},
       "output_type": "pyout",
       "prompt_number": 270,
       "text": [
        "4417103880"
       ]
      }
     ],
     "prompt_number": 270
    },
    {
     "cell_type": "code",
     "collapsed": false,
     "input": [
      "ianshopping"
     ],
     "language": "python",
     "metadata": {},
     "outputs": [
      {
       "metadata": {},
       "output_type": "pyout",
       "prompt_number": 271,
       "text": [
        "['beer', 'pizza', 'ice_cream']"
       ]
      }
     ],
     "prompt_number": 271
    },
    {
     "cell_type": "code",
     "collapsed": false,
     "input": [
      "emilyshopping"
     ],
     "language": "python",
     "metadata": {},
     "outputs": [
      {
       "metadata": {},
       "output_type": "pyout",
       "prompt_number": 272,
       "text": [
        "['beer', 'pizza', 'ice_cream']"
       ]
      }
     ],
     "prompt_number": 272
    },
    {
     "cell_type": "code",
     "collapsed": false,
     "input": [
      "#emilyshopping[:] = [] # then we're not going shopping\n",
      "#emilyshopping = [] # haha, my superior Python skills save my\n",
      "                   #pizza and beer night\n",
      "del emilyshopping # take 2 to cancel pizza and beer night"
     ],
     "language": "python",
     "metadata": {},
     "outputs": [],
     "prompt_number": 273
    },
    {
     "cell_type": "code",
     "collapsed": false,
     "input": [
      "id(emilyshopping)"
     ],
     "language": "python",
     "metadata": {},
     "outputs": [
      {
       "ename": "NameError",
       "evalue": "name 'emilyshopping' is not defined",
       "output_type": "pyerr",
       "traceback": [
        "\u001b[0;31m---------------------------------------------------------------------------\u001b[0m\n\u001b[0;31mNameError\u001b[0m                                 Traceback (most recent call last)",
        "\u001b[0;32m<ipython-input-274-ba910240d106>\u001b[0m in \u001b[0;36m<module>\u001b[0;34m()\u001b[0m\n\u001b[0;32m----> 1\u001b[0;31m \u001b[0mid\u001b[0m\u001b[0;34m(\u001b[0m\u001b[0memilyshopping\u001b[0m\u001b[0;34m)\u001b[0m\u001b[0;34m\u001b[0m\u001b[0m\n\u001b[0m",
        "\u001b[0;31mNameError\u001b[0m: name 'emilyshopping' is not defined"
       ]
      }
     ],
     "prompt_number": 274
    },
    {
     "cell_type": "code",
     "collapsed": false,
     "input": [
      "ianshopping"
     ],
     "language": "python",
     "metadata": {},
     "outputs": [
      {
       "metadata": {},
       "output_type": "pyout",
       "prompt_number": 275,
       "text": [
        "['beer', 'pizza', 'ice_cream']"
       ]
      }
     ],
     "prompt_number": 275
    },
    {
     "cell_type": "markdown",
     "metadata": {},
     "source": [
      "Iteration\n",
      "---------\n",
      "Iteration is a core idiom in Python and always has been.  With Python 3, it is taken to an even greater level in the reworking of standard APIs around core data structures and libraries.\n",
      "\n",
      "**Iterator Protocol**\n",
      "```python\n",
      "it = iter(ITERABLE)\n",
      "while True:\n",
      "    try:\n",
      "        VALS = next(it)\n",
      "        EXPR(VALS)\n",
      "    except StopIteration:\n",
      "        break\n",
      "```\n",
      "\n",
      "This is what the for loop does behind the scenes:\n",
      "\n",
      "```python\n",
      "for VALS in ITERABLE:\n",
      "    EXPR(VALS)\n",
      "```"
     ]
    },
    {
     "cell_type": "code",
     "collapsed": false,
     "input": [
      "range(5)"
     ],
     "language": "python",
     "metadata": {},
     "outputs": [
      {
       "metadata": {},
       "output_type": "pyout",
       "prompt_number": 277,
       "text": [
        "range(0, 5)"
       ]
      }
     ],
     "prompt_number": 277
    },
    {
     "cell_type": "code",
     "collapsed": false,
     "input": [
      "range(3, 8)"
     ],
     "language": "python",
     "metadata": {},
     "outputs": [
      {
       "metadata": {},
       "output_type": "pyout",
       "prompt_number": 278,
       "text": [
        "range(3, 8)"
       ]
      }
     ],
     "prompt_number": 278
    },
    {
     "cell_type": "code",
     "collapsed": false,
     "input": [
      "range(12, 55, 11)"
     ],
     "language": "python",
     "metadata": {},
     "outputs": [
      {
       "metadata": {},
       "output_type": "pyout",
       "prompt_number": 279,
       "text": [
        "range(12, 55, 11)"
       ]
      }
     ],
     "prompt_number": 279
    },
    {
     "cell_type": "code",
     "collapsed": false,
     "input": [
      "list(range(12, 55, 11)) # turn an iterable into a a reified list"
     ],
     "language": "python",
     "metadata": {},
     "outputs": [
      {
       "metadata": {},
       "output_type": "pyout",
       "prompt_number": 280,
       "text": [
        "[12, 23, 34, 45]"
       ]
      }
     ],
     "prompt_number": 280
    },
    {
     "cell_type": "code",
     "collapsed": false,
     "input": [
      "r = range(3, 15, 2)"
     ],
     "language": "python",
     "metadata": {},
     "outputs": [],
     "prompt_number": 281
    },
    {
     "cell_type": "code",
     "collapsed": false,
     "input": [
      "r"
     ],
     "language": "python",
     "metadata": {},
     "outputs": [
      {
       "metadata": {},
       "output_type": "pyout",
       "prompt_number": 282,
       "text": [
        "range(3, 15, 2)"
       ]
      }
     ],
     "prompt_number": 282
    },
    {
     "cell_type": "code",
     "collapsed": false,
     "input": [
      "rit = iter(r) # helper function that returns r.__iter__()"
     ],
     "language": "python",
     "metadata": {},
     "outputs": [],
     "prompt_number": 283
    },
    {
     "cell_type": "code",
     "collapsed": false,
     "input": [
      "rit"
     ],
     "language": "python",
     "metadata": {},
     "outputs": [
      {
       "metadata": {},
       "output_type": "pyout",
       "prompt_number": 284,
       "text": [
        "<range_iterator object at 0x10589bc00>"
       ]
      }
     ],
     "prompt_number": 284
    },
    {
     "cell_type": "code",
     "collapsed": false,
     "input": [
      "rit2 = iter(r)"
     ],
     "language": "python",
     "metadata": {},
     "outputs": [],
     "prompt_number": 285
    },
    {
     "cell_type": "code",
     "collapsed": false,
     "input": [
      "rit2"
     ],
     "language": "python",
     "metadata": {},
     "outputs": [
      {
       "metadata": {},
       "output_type": "pyout",
       "prompt_number": 286,
       "text": [
        "<range_iterator object at 0x10589b8d0>"
       ]
      }
     ],
     "prompt_number": 286
    },
    {
     "cell_type": "code",
     "collapsed": false,
     "input": [
      "next(rit) # next() is a builtin helper function that calls rit.__next__()"
     ],
     "language": "python",
     "metadata": {},
     "outputs": [
      {
       "metadata": {},
       "output_type": "pyout",
       "prompt_number": 288,
       "text": [
        "3"
       ]
      }
     ],
     "prompt_number": 288
    },
    {
     "cell_type": "code",
     "collapsed": false,
     "input": [
      "next(rit)"
     ],
     "language": "python",
     "metadata": {},
     "outputs": [
      {
       "metadata": {},
       "output_type": "pyout",
       "prompt_number": 289,
       "text": [
        "5"
       ]
      }
     ],
     "prompt_number": 289
    },
    {
     "cell_type": "code",
     "collapsed": false,
     "input": [
      "rit.__next__()"
     ],
     "language": "python",
     "metadata": {},
     "outputs": [
      {
       "metadata": {},
       "output_type": "pyout",
       "prompt_number": 290,
       "text": [
        "7"
       ]
      }
     ],
     "prompt_number": 290
    },
    {
     "cell_type": "code",
     "collapsed": false,
     "input": [
      "rit.__next__()"
     ],
     "language": "python",
     "metadata": {},
     "outputs": [
      {
       "metadata": {},
       "output_type": "pyout",
       "prompt_number": 291,
       "text": [
        "9"
       ]
      }
     ],
     "prompt_number": 291
    },
    {
     "cell_type": "code",
     "collapsed": false,
     "input": [
      "r"
     ],
     "language": "python",
     "metadata": {},
     "outputs": [
      {
       "metadata": {},
       "output_type": "pyout",
       "prompt_number": 292,
       "text": [
        "range(3, 15, 2)"
       ]
      }
     ],
     "prompt_number": 292
    },
    {
     "cell_type": "code",
     "collapsed": false,
     "input": [
      "next(rit2)"
     ],
     "language": "python",
     "metadata": {},
     "outputs": [
      {
       "metadata": {},
       "output_type": "pyout",
       "prompt_number": 293,
       "text": [
        "3"
       ]
      }
     ],
     "prompt_number": 293
    },
    {
     "cell_type": "code",
     "collapsed": false,
     "input": [
      "next(rit2)"
     ],
     "language": "python",
     "metadata": {},
     "outputs": [
      {
       "metadata": {},
       "output_type": "pyout",
       "prompt_number": 294,
       "text": [
        "5"
       ]
      }
     ],
     "prompt_number": 294
    },
    {
     "cell_type": "code",
     "collapsed": false,
     "input": [
      "next(rit)"
     ],
     "language": "python",
     "metadata": {},
     "outputs": [
      {
       "metadata": {},
       "output_type": "pyout",
       "prompt_number": 295,
       "text": [
        "11"
       ]
      }
     ],
     "prompt_number": 295
    },
    {
     "cell_type": "code",
     "collapsed": false,
     "input": [
      "next(rit)"
     ],
     "language": "python",
     "metadata": {},
     "outputs": [
      {
       "metadata": {},
       "output_type": "pyout",
       "prompt_number": 296,
       "text": [
        "13"
       ]
      }
     ],
     "prompt_number": 296
    },
    {
     "cell_type": "code",
     "collapsed": false,
     "input": [
      "next(rit)"
     ],
     "language": "python",
     "metadata": {},
     "outputs": [
      {
       "ename": "StopIteration",
       "evalue": "",
       "output_type": "pyerr",
       "traceback": [
        "\u001b[0;31m---------------------------------------------------------------------------\u001b[0m\n\u001b[0;31mStopIteration\u001b[0m                             Traceback (most recent call last)",
        "\u001b[0;32m<ipython-input-297-b449dfcb3db0>\u001b[0m in \u001b[0;36m<module>\u001b[0;34m()\u001b[0m\n\u001b[0;32m----> 1\u001b[0;31m \u001b[0mnext\u001b[0m\u001b[0;34m(\u001b[0m\u001b[0mrit\u001b[0m\u001b[0;34m)\u001b[0m\u001b[0;34m\u001b[0m\u001b[0m\n\u001b[0m",
        "\u001b[0;31mStopIteration\u001b[0m: "
       ]
      }
     ],
     "prompt_number": 297
    },
    {
     "cell_type": "code",
     "collapsed": false,
     "input": [
      "r.stop"
     ],
     "language": "python",
     "metadata": {},
     "outputs": [
      {
       "metadata": {},
       "output_type": "pyout",
       "prompt_number": 300,
       "text": [
        "15"
       ]
      }
     ],
     "prompt_number": 300
    },
    {
     "cell_type": "code",
     "collapsed": false,
     "input": [
      "rit"
     ],
     "language": "python",
     "metadata": {},
     "outputs": [
      {
       "metadata": {},
       "output_type": "pyout",
       "prompt_number": 302,
       "text": [
        "<range_iterator object at 0x10589bc00>"
       ]
      }
     ],
     "prompt_number": 302
    },
    {
     "cell_type": "code",
     "collapsed": false,
     "input": [
      "rit2"
     ],
     "language": "python",
     "metadata": {},
     "outputs": [
      {
       "metadata": {},
       "output_type": "pyout",
       "prompt_number": 303,
       "text": [
        "<range_iterator object at 0x10589b8d0>"
       ]
      }
     ],
     "prompt_number": 303
    },
    {
     "cell_type": "markdown",
     "metadata": {},
     "source": [
      "Tuple Packing/Unpacking\n",
      "-----------------------"
     ]
    },
    {
     "cell_type": "code",
     "collapsed": false,
     "input": [
      "def getparts(string, sep=None):\n",
      "    parts = string.split(sep)\n",
      "    count = len(parts)\n",
      "    return parts # but what if we also want/need to return count?"
     ],
     "language": "python",
     "metadata": {},
     "outputs": [],
     "prompt_number": 304
    },
    {
     "cell_type": "code",
     "collapsed": false,
     "input": [
      "entry = 'HP,300,42.55'"
     ],
     "language": "python",
     "metadata": {},
     "outputs": [],
     "prompt_number": 305
    },
    {
     "cell_type": "code",
     "collapsed": false,
     "input": [
      "getparts(entry, ',')"
     ],
     "language": "python",
     "metadata": {},
     "outputs": [
      {
       "metadata": {},
       "output_type": "pyout",
       "prompt_number": 307,
       "text": [
        "['HP', '300', '42.55']"
       ]
      }
     ],
     "prompt_number": 307
    },
    {
     "cell_type": "code",
     "collapsed": false,
     "input": [
      "def getparts(string, sep=None):\n",
      "    parts = string.split(sep)\n",
      "    count = len(parts)\n",
      "    return parts, count, 'apple', 42 # tuple packing at work: creates a 2-tuple"
     ],
     "language": "python",
     "metadata": {},
     "outputs": [],
     "prompt_number": 334
    },
    {
     "cell_type": "code",
     "collapsed": false,
     "input": [
      "result = getparts(entry, ',')"
     ],
     "language": "python",
     "metadata": {},
     "outputs": [],
     "prompt_number": 323
    },
    {
     "cell_type": "code",
     "collapsed": false,
     "input": [
      "result"
     ],
     "language": "python",
     "metadata": {},
     "outputs": [
      {
       "metadata": {},
       "output_type": "pyout",
       "prompt_number": 324,
       "text": [
        "(['HP', '300', '42.55'], 3)"
       ]
      }
     ],
     "prompt_number": 324
    },
    {
     "cell_type": "code",
     "collapsed": false,
     "input": [
      "stock = result[0]\n",
      "pcount = result[1]"
     ],
     "language": "python",
     "metadata": {},
     "outputs": [],
     "prompt_number": 318
    },
    {
     "cell_type": "code",
     "collapsed": false,
     "input": [
      "stock"
     ],
     "language": "python",
     "metadata": {},
     "outputs": [
      {
       "metadata": {},
       "output_type": "pyout",
       "prompt_number": 319,
       "text": [
        "['HP', '300', '42.55']"
       ]
      }
     ],
     "prompt_number": 319
    },
    {
     "cell_type": "code",
     "collapsed": false,
     "input": [
      "pcount"
     ],
     "language": "python",
     "metadata": {},
     "outputs": [
      {
       "metadata": {},
       "output_type": "pyout",
       "prompt_number": 320,
       "text": [
        "3"
       ]
      }
     ],
     "prompt_number": 320
    },
    {
     "cell_type": "code",
     "collapsed": false,
     "input": [
      "'foo', 75, ['a', 'b', 'c']"
     ],
     "language": "python",
     "metadata": {},
     "outputs": [
      {
       "metadata": {},
       "output_type": "pyout",
       "prompt_number": 321,
       "text": [
        "('foo', 75, ['a', 'b', 'c'])"
       ]
      }
     ],
     "prompt_number": 321
    },
    {
     "cell_type": "code",
     "collapsed": false,
     "input": [
      "entry = 'AAPL,150,67.99'"
     ],
     "language": "python",
     "metadata": {},
     "outputs": [],
     "prompt_number": 325
    },
    {
     "cell_type": "code",
     "collapsed": false,
     "input": [
      "stock, count = getparts(entry, ',') # tuple unpacking"
     ],
     "language": "python",
     "metadata": {},
     "outputs": [],
     "prompt_number": 330
    },
    {
     "cell_type": "code",
     "collapsed": false,
     "input": [
      "stock"
     ],
     "language": "python",
     "metadata": {},
     "outputs": [
      {
       "metadata": {},
       "output_type": "pyout",
       "prompt_number": 328,
       "text": [
        "['AAPL', '150', '67.99']"
       ]
      }
     ],
     "prompt_number": 328
    },
    {
     "cell_type": "code",
     "collapsed": false,
     "input": [
      "count"
     ],
     "language": "python",
     "metadata": {},
     "outputs": [
      {
       "metadata": {},
       "output_type": "pyout",
       "prompt_number": 329,
       "text": [
        "3"
       ]
      }
     ],
     "prompt_number": 329
    },
    {
     "cell_type": "code",
     "collapsed": false,
     "input": [
      "stock, *remainder = getparts(entry, ',')"
     ],
     "language": "python",
     "metadata": {},
     "outputs": [],
     "prompt_number": 337
    },
    {
     "cell_type": "code",
     "collapsed": false,
     "input": [
      "stock"
     ],
     "language": "python",
     "metadata": {},
     "outputs": [
      {
       "metadata": {},
       "output_type": "pyout",
       "prompt_number": 338,
       "text": [
        "['AAPL', '150', '67.99']"
       ]
      }
     ],
     "prompt_number": 338
    },
    {
     "cell_type": "code",
     "collapsed": false,
     "input": [
      "remainder"
     ],
     "language": "python",
     "metadata": {},
     "outputs": [
      {
       "metadata": {},
       "output_type": "pyout",
       "prompt_number": 339,
       "text": [
        "[3, 'apple', 42]"
       ]
      }
     ],
     "prompt_number": 339
    },
    {
     "cell_type": "code",
     "collapsed": false,
     "input": [
      "meta"
     ],
     "language": "python",
     "metadata": {},
     "outputs": [
      {
       "metadata": {},
       "output_type": "pyout",
       "prompt_number": 340,
       "text": [
        "['foo', 'baz', 'zip', 'zap', 'blort', 'wibble', 'blort', 'wibble']"
       ]
      }
     ],
     "prompt_number": 340
    },
    {
     "cell_type": "code",
     "collapsed": false,
     "input": [
      "enumerate(meta)"
     ],
     "language": "python",
     "metadata": {},
     "outputs": [
      {
       "metadata": {},
       "output_type": "pyout",
       "prompt_number": 341,
       "text": [
        "<enumerate object at 0x1074a3e58>"
       ]
      }
     ],
     "prompt_number": 341
    },
    {
     "cell_type": "code",
     "collapsed": false,
     "input": [
      "list(enumerate(meta))"
     ],
     "language": "python",
     "metadata": {},
     "outputs": [
      {
       "metadata": {},
       "output_type": "pyout",
       "prompt_number": 342,
       "text": [
        "[(0, 'foo'), (1, 'baz'), (2, 'zip'), (3, 'zap'), (4, 'blort'), (5, 'wibble'), (6, 'blort'), (7, 'wibble')]"
       ]
      }
     ],
     "prompt_number": 342
    },
    {
     "cell_type": "code",
     "collapsed": false,
     "input": [
      "e = enumerate(meta)"
     ],
     "language": "python",
     "metadata": {},
     "outputs": [],
     "prompt_number": 343
    },
    {
     "cell_type": "code",
     "collapsed": false,
     "input": [
      "it = iter(e)"
     ],
     "language": "python",
     "metadata": {},
     "outputs": [],
     "prompt_number": 344
    },
    {
     "cell_type": "code",
     "collapsed": false,
     "input": [
      "next(it)"
     ],
     "language": "python",
     "metadata": {},
     "outputs": [
      {
       "metadata": {},
       "output_type": "pyout",
       "prompt_number": 346,
       "text": [
        "(0, 'foo')"
       ]
      }
     ],
     "prompt_number": 346
    },
    {
     "cell_type": "code",
     "collapsed": false,
     "input": [
      "next(it)"
     ],
     "language": "python",
     "metadata": {},
     "outputs": [
      {
       "metadata": {},
       "output_type": "pyout",
       "prompt_number": 347,
       "text": [
        "(1, 'baz')"
       ]
      }
     ],
     "prompt_number": 347
    },
    {
     "cell_type": "code",
     "collapsed": false,
     "input": [
      "next(it)"
     ],
     "language": "python",
     "metadata": {},
     "outputs": [
      {
       "metadata": {},
       "output_type": "pyout",
       "prompt_number": 348,
       "text": [
        "(2, 'zip')"
       ]
      }
     ],
     "prompt_number": 348
    },
    {
     "cell_type": "code",
     "collapsed": false,
     "input": [
      "list(enumerate(meta, 22))"
     ],
     "language": "python",
     "metadata": {},
     "outputs": [
      {
       "metadata": {},
       "output_type": "pyout",
       "prompt_number": 349,
       "text": [
        "[(22, 'foo'), (23, 'baz'), (24, 'zip'), (25, 'zap'), (26, 'blort'), (27, 'wibble'), (28, 'blort'), (29, 'wibble')]"
       ]
      }
     ],
     "prompt_number": 349
    },
    {
     "cell_type": "code",
     "collapsed": false,
     "input": [
      "for pair in enumerate(meta, 22):\n",
      "    print(pair)"
     ],
     "language": "python",
     "metadata": {},
     "outputs": [
      {
       "output_type": "stream",
       "stream": "stdout",
       "text": [
        "(22, 'foo')\n",
        "(23, 'baz')\n",
        "(24, 'zip')\n",
        "(25, 'zap')\n",
        "(26, 'blort')\n",
        "(27, 'wibble')\n",
        "(28, 'blort')\n",
        "(29, 'wibble')\n"
       ]
      }
     ],
     "prompt_number": 350
    },
    {
     "cell_type": "code",
     "collapsed": false,
     "input": [
      "for pair in enumerate(meta, 22):\n",
      "    i = pair[0]\n",
      "    w = pair[1]\n",
      "    print('#', i, 'w:', w)"
     ],
     "language": "python",
     "metadata": {},
     "outputs": [
      {
       "output_type": "stream",
       "stream": "stdout",
       "text": [
        "# 22 w: foo\n",
        "# 23 w: baz\n",
        "# 24 w: zip\n",
        "# 25 w: zap\n",
        "# 26 w: blort\n",
        "# 27 w: wibble\n",
        "# 28 w: blort\n",
        "# 29 w: wibble\n"
       ]
      }
     ],
     "prompt_number": 351
    },
    {
     "cell_type": "code",
     "collapsed": false,
     "input": [
      "for pair in enumerate(meta, 22):\n",
      "    i, w = pair\n",
      "    print('#', i, 'w:', w)"
     ],
     "language": "python",
     "metadata": {},
     "outputs": [
      {
       "output_type": "stream",
       "stream": "stdout",
       "text": [
        "# 22 w: foo\n",
        "# 23 w: baz\n",
        "# 24 w: zip\n",
        "# 25 w: zap\n",
        "# 26 w: blort\n",
        "# 27 w: wibble\n",
        "# 28 w: blort\n",
        "# 29 w: wibble\n"
       ]
      }
     ],
     "prompt_number": 352
    },
    {
     "cell_type": "code",
     "collapsed": false,
     "input": [
      "for i, w in enumerate(meta, 22):\n",
      "    print('#', i, 'w:', w)"
     ],
     "language": "python",
     "metadata": {},
     "outputs": [
      {
       "output_type": "stream",
       "stream": "stdout",
       "text": [
        "# 22 w: foo\n",
        "# 23 w: baz\n",
        "# 24 w: zip\n",
        "# 25 w: zap\n",
        "# 26 w: blort\n",
        "# 27 w: wibble\n",
        "# 28 w: blort\n",
        "# 29 w: wibble\n"
       ]
      }
     ],
     "prompt_number": 353
    },
    {
     "cell_type": "markdown",
     "metadata": {},
     "source": [
      "Truthiness\n",
      "----------\n",
      "Oh, what is `True`, and what is `False`?\n",
      "\n",
      "In Python, **everything** is `True` (it **is** the *one true language* after all), **except**:\n",
      "\n",
      "* `False`\n",
      "* `None`\n",
      "* `0, 0.0, 0+0j` (zero!)\n",
      "* empty string\n",
      "* empty containers\n",
      "* instance with `inst.__bool__() == False` (`.__nonzero__()` in Python 2)"
     ]
    },
    {
     "cell_type": "code",
     "collapsed": false,
     "input": [
      "things  = [3, 'foo', ('a', 'b'), dir, True]\n",
      "nothing = [0, False, 0.0, [], (), None]\n",
      "mix     = [3, 0, 'foo', '', None, [1,2,3]]"
     ],
     "language": "python",
     "metadata": {},
     "outputs": [],
     "prompt_number": 355
    },
    {
     "cell_type": "code",
     "collapsed": false,
     "input": [
      "# all() returns True if everything in the ITERABLE is Truthy, else False\n",
      "all(things)"
     ],
     "language": "python",
     "metadata": {},
     "outputs": [
      {
       "metadata": {},
       "output_type": "pyout",
       "prompt_number": 356,
       "text": [
        "True"
       ]
      }
     ],
     "prompt_number": 356
    },
    {
     "cell_type": "code",
     "collapsed": false,
     "input": [
      "all(nothing)"
     ],
     "language": "python",
     "metadata": {},
     "outputs": [
      {
       "metadata": {},
       "output_type": "pyout",
       "prompt_number": 357,
       "text": [
        "False"
       ]
      }
     ],
     "prompt_number": 357
    },
    {
     "cell_type": "code",
     "collapsed": false,
     "input": [
      "all(mix)"
     ],
     "language": "python",
     "metadata": {},
     "outputs": [
      {
       "metadata": {},
       "output_type": "pyout",
       "prompt_number": 358,
       "text": [
        "False"
       ]
      }
     ],
     "prompt_number": 358
    },
    {
     "cell_type": "code",
     "collapsed": false,
     "input": [
      "# any() returns False if everything in the ITERABLE is Falsy, else True\n",
      "any(things)"
     ],
     "language": "python",
     "metadata": {},
     "outputs": [
      {
       "metadata": {},
       "output_type": "pyout",
       "prompt_number": 362,
       "text": [
        "True"
       ]
      }
     ],
     "prompt_number": 362
    },
    {
     "cell_type": "code",
     "collapsed": false,
     "input": [
      "any(nothing)"
     ],
     "language": "python",
     "metadata": {},
     "outputs": [
      {
       "metadata": {},
       "output_type": "pyout",
       "prompt_number": 360,
       "text": [
        "False"
       ]
      }
     ],
     "prompt_number": 360
    },
    {
     "cell_type": "code",
     "collapsed": false,
     "input": [
      "any(mix)"
     ],
     "language": "python",
     "metadata": {},
     "outputs": [
      {
       "metadata": {},
       "output_type": "pyout",
       "prompt_number": 361,
       "text": [
        "True"
       ]
      }
     ],
     "prompt_number": 361
    },
    {
     "cell_type": "code",
     "collapsed": false,
     "input": [
      "class Point:\n",
      "    def __init__(self, x, y):\n",
      "        self.x = x\n",
      "        self.y = y\n",
      "        \n",
      "    def __repr__(self):\n",
      "        return 'Point({x}, {y})'.format(x=self.x, y=self.y)"
     ],
     "language": "python",
     "metadata": {},
     "outputs": [],
     "prompt_number": 363
    },
    {
     "cell_type": "code",
     "collapsed": false,
     "input": [
      "class Curve:\n",
      "    def __init__(self, points=None):\n",
      "        self.points = []\n",
      "        if points:\n",
      "            for p in points:\n",
      "                self.add(p)\n",
      "        \n",
      "    def add(self, p):\n",
      "        self.points.append(p)\n",
      "        \n",
      "    def __getitem__(self, index):\n",
      "        return self.points[index]\n",
      "    \n",
      "    def __len__(self):\n",
      "        return len(self.points)\n",
      "    \n",
      "    def __iter__(self):\n",
      "        return iter(self.points)\n",
      "    \n",
      "    def __repr__(self):\n",
      "        return 'Curve({pts})'.format(pts=repr(self.points))\n",
      "    \n",
      "    def __iadd__(self, other):\n",
      "        self.points.append(other)\n",
      "        return self"
     ],
     "language": "python",
     "metadata": {},
     "outputs": [],
     "prompt_number": 395
    },
    {
     "cell_type": "code",
     "collapsed": false,
     "input": [
      "a = Point(3, 5)\n",
      "b = Point(1, 2)\n",
      "c = Point(5, 7)\n",
      "curv = Curve()\n",
      "curv.add(a)\n",
      "curv.add(b)\n",
      "curv.add(c)"
     ],
     "language": "python",
     "metadata": {},
     "outputs": [],
     "prompt_number": 396
    },
    {
     "cell_type": "code",
     "collapsed": false,
     "input": [
      "a"
     ],
     "language": "python",
     "metadata": {},
     "outputs": [
      {
       "metadata": {},
       "output_type": "pyout",
       "prompt_number": 397,
       "text": [
        "Point(3, 5)"
       ]
      }
     ],
     "prompt_number": 397
    },
    {
     "cell_type": "code",
     "collapsed": false,
     "input": [
      "curv"
     ],
     "language": "python",
     "metadata": {},
     "outputs": [
      {
       "metadata": {},
       "output_type": "pyout",
       "prompt_number": 374,
       "text": [
        "Curve([Point(3, 5), Point(1, 2), Point(5, 7)])"
       ]
      }
     ],
     "prompt_number": 374
    },
    {
     "cell_type": "code",
     "collapsed": false,
     "input": [
      "curv.points"
     ],
     "language": "python",
     "metadata": {},
     "outputs": [
      {
       "metadata": {},
       "output_type": "pyout",
       "prompt_number": 375,
       "text": [
        "[Point(3, 5), Point(1, 2), Point(5, 7)]"
       ]
      }
     ],
     "prompt_number": 375
    },
    {
     "cell_type": "code",
     "collapsed": false,
     "input": [
      "curv += Point(10, 12)"
     ],
     "language": "python",
     "metadata": {},
     "outputs": [],
     "prompt_number": 376
    },
    {
     "cell_type": "code",
     "collapsed": false,
     "input": [
      "curv"
     ],
     "language": "python",
     "metadata": {},
     "outputs": [
      {
       "metadata": {},
       "output_type": "pyout",
       "prompt_number": 377,
       "text": [
        "Curve([Point(3, 5), Point(1, 2), Point(5, 7), Point(10, 12)])"
       ]
      }
     ],
     "prompt_number": 377
    },
    {
     "cell_type": "code",
     "collapsed": false,
     "input": [
      "curv += Point(15, 4)"
     ],
     "language": "python",
     "metadata": {},
     "outputs": [],
     "prompt_number": 378
    },
    {
     "cell_type": "code",
     "collapsed": false,
     "input": [
      "curv"
     ],
     "language": "python",
     "metadata": {},
     "outputs": [
      {
       "metadata": {},
       "output_type": "pyout",
       "prompt_number": 379,
       "text": [
        "Curve([Point(3, 5), Point(1, 2), Point(5, 7), Point(10, 12), Point(15, 4)])"
       ]
      }
     ],
     "prompt_number": 379
    },
    {
     "cell_type": "code",
     "collapsed": false,
     "input": [
      "curv.add(Point(6,6))"
     ],
     "language": "python",
     "metadata": {},
     "outputs": [],
     "prompt_number": 380
    },
    {
     "cell_type": "code",
     "collapsed": false,
     "input": [
      "curv"
     ],
     "language": "python",
     "metadata": {},
     "outputs": [
      {
       "metadata": {},
       "output_type": "pyout",
       "prompt_number": 381,
       "text": [
        "Curve([Point(3, 5), Point(1, 2), Point(5, 7), Point(10, 12), Point(15, 4), Point(6, 6)])"
       ]
      }
     ],
     "prompt_number": 381
    },
    {
     "cell_type": "code",
     "collapsed": false,
     "input": [
      "curv_clone = Curve([Point(3, 5), Point(1, 2), Point(5, 7), Point(10, 12), Point(15, 4), Point(6, 6)])"
     ],
     "language": "python",
     "metadata": {},
     "outputs": [],
     "prompt_number": 382
    },
    {
     "cell_type": "code",
     "collapsed": false,
     "input": [
      "id(curv)"
     ],
     "language": "python",
     "metadata": {},
     "outputs": [
      {
       "metadata": {},
       "output_type": "pyout",
       "prompt_number": 383,
       "text": [
        "4417417512"
       ]
      }
     ],
     "prompt_number": 383
    },
    {
     "cell_type": "code",
     "collapsed": false,
     "input": [
      "id(curv_clone)"
     ],
     "language": "python",
     "metadata": {},
     "outputs": [
      {
       "metadata": {},
       "output_type": "pyout",
       "prompt_number": 384,
       "text": [
        "4417208104"
       ]
      }
     ],
     "prompt_number": 384
    },
    {
     "cell_type": "code",
     "collapsed": false,
     "input": [
      "# Can I iterate over my curve?\n",
      "# What does \"Iteration on a Curve object mean?\"\n",
      "for thing in curv:\n",
      "    print(thing) # let's just see what we get!"
     ],
     "language": "python",
     "metadata": {},
     "outputs": [
      {
       "ename": "TypeError",
       "evalue": "'Curve' object is not iterable",
       "output_type": "pyerr",
       "traceback": [
        "\u001b[0;31m---------------------------------------------------------------------------\u001b[0m\n\u001b[0;31mTypeError\u001b[0m                                 Traceback (most recent call last)",
        "\u001b[0;32m<ipython-input-385-850609ebfcaa>\u001b[0m in \u001b[0;36m<module>\u001b[0;34m()\u001b[0m\n\u001b[1;32m      1\u001b[0m \u001b[0;31m# Can I iterate over my curve?\u001b[0m\u001b[0;34m\u001b[0m\u001b[0;34m\u001b[0m\u001b[0m\n\u001b[1;32m      2\u001b[0m \u001b[0;31m# What does \"Iteration on a Curve object mean?\"\u001b[0m\u001b[0;34m\u001b[0m\u001b[0;34m\u001b[0m\u001b[0m\n\u001b[0;32m----> 3\u001b[0;31m \u001b[0;32mfor\u001b[0m \u001b[0mthing\u001b[0m \u001b[0;32min\u001b[0m \u001b[0mcurv\u001b[0m\u001b[0;34m:\u001b[0m\u001b[0;34m\u001b[0m\u001b[0m\n\u001b[0m\u001b[1;32m      4\u001b[0m     \u001b[0mprint\u001b[0m\u001b[0;34m(\u001b[0m\u001b[0mthing\u001b[0m\u001b[0;34m)\u001b[0m \u001b[0;31m# let's just see what we get!\u001b[0m\u001b[0;34m\u001b[0m\u001b[0m\n",
        "\u001b[0;31mTypeError\u001b[0m: 'Curve' object is not iterable"
       ]
      }
     ],
     "prompt_number": 385
    },
    {
     "cell_type": "code",
     "collapsed": false,
     "input": [
      "curv"
     ],
     "language": "python",
     "metadata": {},
     "outputs": [
      {
       "metadata": {},
       "output_type": "pyout",
       "prompt_number": 388,
       "text": [
        "Curve([Point(3, 5), Point(1, 2), Point(5, 7)])"
       ]
      }
     ],
     "prompt_number": 388
    },
    {
     "cell_type": "code",
     "collapsed": false,
     "input": [
      "curv[0] # because __getindex__"
     ],
     "language": "python",
     "metadata": {},
     "outputs": [
      {
       "metadata": {},
       "output_type": "pyout",
       "prompt_number": 391,
       "text": [
        "Point(3, 5)"
       ]
      }
     ],
     "prompt_number": 391
    },
    {
     "cell_type": "code",
     "collapsed": false,
     "input": [
      "curv[2]"
     ],
     "language": "python",
     "metadata": {},
     "outputs": [
      {
       "metadata": {},
       "output_type": "pyout",
       "prompt_number": 393,
       "text": [
        "Point(5, 7)"
       ]
      }
     ],
     "prompt_number": 393
    },
    {
     "cell_type": "code",
     "collapsed": false,
     "input": [
      "len(curv) # because __len__"
     ],
     "language": "python",
     "metadata": {},
     "outputs": [
      {
       "metadata": {},
       "output_type": "pyout",
       "prompt_number": 394,
       "text": [
        "3"
       ]
      }
     ],
     "prompt_number": 394
    },
    {
     "cell_type": "code",
     "collapsed": false,
     "input": [
      "for thing in curv:\n",
      "    print(thing)"
     ],
     "language": "python",
     "metadata": {},
     "outputs": [
      {
       "output_type": "stream",
       "stream": "stdout",
       "text": [
        "Point(3, 5)\n",
        "Point(1, 2)\n",
        "Point(5, 7)\n"
       ]
      }
     ],
     "prompt_number": 389
    },
    {
     "cell_type": "code",
     "collapsed": false,
     "input": [
      "iter(curv)"
     ],
     "language": "python",
     "metadata": {},
     "outputs": [
      {
       "metadata": {},
       "output_type": "pyout",
       "prompt_number": 398,
       "text": [
        "<list_iterator object at 0x1074d9a90>"
       ]
      }
     ],
     "prompt_number": 398
    },
    {
     "cell_type": "code",
     "collapsed": false,
     "input": [
      "i = dict(f='Ian', l='Stokes-Rees', age=39, zip=13210)\n",
      "e = dict(f='Emily', l='Stokes-Rees', age=32, zip=13210)\n",
      "b = dict(f='Ben', l='Smith', age=25, zip=2138)\n",
      "d = dict(f='Derek', l='Gambone', age=22, zip=2445)\n",
      "peeps = [i, e, b, d]"
     ],
     "language": "python",
     "metadata": {},
     "outputs": [],
     "prompt_number": 401
    },
    {
     "cell_type": "code",
     "collapsed": false,
     "input": [
      "peeps"
     ],
     "language": "python",
     "metadata": {},
     "outputs": [
      {
       "metadata": {},
       "output_type": "pyout",
       "prompt_number": 402,
       "text": [
        "[{'age': 39, 'l': 'Stokes-Rees', 'zip': 13210, 'f': 'Ian'}, {'age': 32, 'l': 'Stokes-Rees', 'zip': 13210, 'f': 'Emily'}, {'age': 25, 'l': 'Smith', 'zip': 2138, 'f': 'Ben'}, {'age': 22, 'l': 'Gambone', 'zip': 2445, 'f': 'Derek'}]"
       ]
      }
     ],
     "prompt_number": 402
    },
    {
     "cell_type": "code",
     "collapsed": false,
     "input": [
      "peeps.sort()"
     ],
     "language": "python",
     "metadata": {},
     "outputs": [
      {
       "ename": "TypeError",
       "evalue": "unorderable types: dict() < dict()",
       "output_type": "pyerr",
       "traceback": [
        "\u001b[0;31m---------------------------------------------------------------------------\u001b[0m\n\u001b[0;31mTypeError\u001b[0m                                 Traceback (most recent call last)",
        "\u001b[0;32m<ipython-input-403-5ee159d7a672>\u001b[0m in \u001b[0;36m<module>\u001b[0;34m()\u001b[0m\n\u001b[0;32m----> 1\u001b[0;31m \u001b[0mpeeps\u001b[0m\u001b[0;34m.\u001b[0m\u001b[0msort\u001b[0m\u001b[0;34m(\u001b[0m\u001b[0;34m)\u001b[0m\u001b[0;34m\u001b[0m\u001b[0m\n\u001b[0m",
        "\u001b[0;31mTypeError\u001b[0m: unorderable types: dict() < dict()"
       ]
      }
     ],
     "prompt_number": 403
    },
    {
     "cell_type": "code",
     "collapsed": false,
     "input": [
      "def sortfunc(item):\n",
      "    return (item['l'], item['f']) # sort by last name"
     ],
     "language": "python",
     "metadata": {},
     "outputs": [],
     "prompt_number": 420
    },
    {
     "cell_type": "code",
     "collapsed": false,
     "input": [
      "peeps.sort(key=sortfunc)"
     ],
     "language": "python",
     "metadata": {},
     "outputs": [],
     "prompt_number": 421
    },
    {
     "cell_type": "code",
     "collapsed": false,
     "input": [
      "peeps"
     ],
     "language": "python",
     "metadata": {},
     "outputs": [
      {
       "metadata": {},
       "output_type": "pyout",
       "prompt_number": 422,
       "text": [
        "[{'age': 22, 'l': 'Gambone', 'zip': 2445, 'f': 'Derek'},\n",
        " {'age': 25, 'l': 'Smith', 'zip': 2138, 'f': 'Ben'},\n",
        " {'age': 32, 'l': 'Stokes-Rees', 'zip': 13210, 'f': 'Emily'},\n",
        " {'age': 39, 'l': 'Stokes-Rees', 'zip': 13210, 'f': 'Ian'}]"
       ]
      }
     ],
     "prompt_number": 422
    },
    {
     "cell_type": "code",
     "collapsed": false,
     "input": [
      "%pprint"
     ],
     "language": "python",
     "metadata": {},
     "outputs": [
      {
       "output_type": "stream",
       "stream": "stdout",
       "text": [
        "Pretty printing has been turned OFF\n"
       ]
      }
     ],
     "prompt_number": 423
    },
    {
     "cell_type": "markdown",
     "metadata": {},
     "source": [
      "`lambda`\n",
      "--------\n",
      "It isn't Greek, it's Dutch for *Make Function*\n",
      "\n",
      "`lambda` in Python allows us to create a single expression anonymous function"
     ]
    },
    {
     "cell_type": "code",
     "collapsed": false,
     "input": [
      "def f(x):\n",
      "    return 10 + x**2"
     ],
     "language": "python",
     "metadata": {},
     "outputs": [],
     "prompt_number": 424
    },
    {
     "cell_type": "code",
     "collapsed": false,
     "input": [
      "f(2)"
     ],
     "language": "python",
     "metadata": {},
     "outputs": [
      {
       "metadata": {},
       "output_type": "pyout",
       "prompt_number": 425,
       "text": [
        "14"
       ]
      }
     ],
     "prompt_number": 425
    },
    {
     "cell_type": "code",
     "collapsed": false,
     "input": [
      "f(3)"
     ],
     "language": "python",
     "metadata": {},
     "outputs": [
      {
       "metadata": {},
       "output_type": "pyout",
       "prompt_number": 426,
       "text": [
        "19"
       ]
      }
     ],
     "prompt_number": 426
    },
    {
     "cell_type": "code",
     "collapsed": false,
     "input": [
      "lambda x: 10 + x**2"
     ],
     "language": "python",
     "metadata": {},
     "outputs": [
      {
       "metadata": {},
       "output_type": "pyout",
       "prompt_number": 427,
       "text": [
        "<function <lambda> at 0x1074de9d8>"
       ]
      }
     ],
     "prompt_number": 427
    },
    {
     "cell_type": "code",
     "collapsed": false,
     "input": [
      "f"
     ],
     "language": "python",
     "metadata": {},
     "outputs": [
      {
       "metadata": {},
       "output_type": "pyout",
       "prompt_number": 428,
       "text": [
        "<function f at 0x1074de488>"
       ]
      }
     ],
     "prompt_number": 428
    },
    {
     "cell_type": "code",
     "collapsed": false,
     "input": [
      "g = lambda x: 7 + 2*x - 4*x**2"
     ],
     "language": "python",
     "metadata": {},
     "outputs": [],
     "prompt_number": 429
    },
    {
     "cell_type": "code",
     "collapsed": false,
     "input": [
      "g(2)"
     ],
     "language": "python",
     "metadata": {},
     "outputs": [
      {
       "metadata": {},
       "output_type": "pyout",
       "prompt_number": 430,
       "text": [
        "-5"
       ]
      }
     ],
     "prompt_number": 430
    },
    {
     "cell_type": "code",
     "collapsed": false,
     "input": [
      "g(3)"
     ],
     "language": "python",
     "metadata": {},
     "outputs": [
      {
       "metadata": {},
       "output_type": "pyout",
       "prompt_number": 431,
       "text": [
        "-23"
       ]
      }
     ],
     "prompt_number": 431
    },
    {
     "cell_type": "code",
     "collapsed": false,
     "input": [
      "g"
     ],
     "language": "python",
     "metadata": {},
     "outputs": [
      {
       "metadata": {},
       "output_type": "pyout",
       "prompt_number": 432,
       "text": [
        "<function <lambda> at 0x1074dea60>"
       ]
      }
     ],
     "prompt_number": 432
    },
    {
     "cell_type": "code",
     "collapsed": false,
     "input": [
      "h = lambda x, y: 7 + 2*x + 3*x*y + y**2"
     ],
     "language": "python",
     "metadata": {},
     "outputs": [],
     "prompt_number": 434
    },
    {
     "cell_type": "code",
     "collapsed": false,
     "input": [
      "h(4, 8)"
     ],
     "language": "python",
     "metadata": {},
     "outputs": [
      {
       "metadata": {},
       "output_type": "pyout",
       "prompt_number": 435,
       "text": [
        "175"
       ]
      }
     ],
     "prompt_number": 435
    },
    {
     "cell_type": "code",
     "collapsed": false,
     "input": [
      "h = lambda x, y=2: 7 + 2*x + 3*x*y + y**2"
     ],
     "language": "python",
     "metadata": {},
     "outputs": [],
     "prompt_number": 436
    },
    {
     "cell_type": "code",
     "collapsed": false,
     "input": [
      "h(4, 8)"
     ],
     "language": "python",
     "metadata": {},
     "outputs": [
      {
       "metadata": {},
       "output_type": "pyout",
       "prompt_number": 437,
       "text": [
        "175"
       ]
      }
     ],
     "prompt_number": 437
    },
    {
     "cell_type": "code",
     "collapsed": false,
     "input": [
      "h(4)"
     ],
     "language": "python",
     "metadata": {},
     "outputs": [
      {
       "metadata": {},
       "output_type": "pyout",
       "prompt_number": 438,
       "text": [
        "43"
       ]
      }
     ],
     "prompt_number": 438
    },
    {
     "cell_type": "code",
     "collapsed": false,
     "input": [
      "peeps"
     ],
     "language": "python",
     "metadata": {},
     "outputs": [
      {
       "metadata": {},
       "output_type": "pyout",
       "prompt_number": 439,
       "text": [
        "[{'age': 22, 'l': 'Gambone', 'zip': 2445, 'f': 'Derek'}, {'age': 25, 'l': 'Smith', 'zip': 2138, 'f': 'Ben'}, {'age': 32, 'l': 'Stokes-Rees', 'zip': 13210, 'f': 'Emily'}, {'age': 39, 'l': 'Stokes-Rees', 'zip': 13210, 'f': 'Ian'}]"
       ]
      }
     ],
     "prompt_number": 439
    },
    {
     "cell_type": "code",
     "collapsed": false,
     "input": [
      "%pprint"
     ],
     "language": "python",
     "metadata": {},
     "outputs": [
      {
       "output_type": "stream",
       "stream": "stdout",
       "text": [
        "Pretty printing has been turned ON\n"
       ]
      }
     ],
     "prompt_number": 440
    },
    {
     "cell_type": "code",
     "collapsed": false,
     "input": [
      "peeps"
     ],
     "language": "python",
     "metadata": {},
     "outputs": [
      {
       "metadata": {},
       "output_type": "pyout",
       "prompt_number": 441,
       "text": [
        "[{'age': 22, 'l': 'Gambone', 'zip': 2445, 'f': 'Derek'},\n",
        " {'age': 25, 'l': 'Smith', 'zip': 2138, 'f': 'Ben'},\n",
        " {'age': 32, 'l': 'Stokes-Rees', 'zip': 13210, 'f': 'Emily'},\n",
        " {'age': 39, 'l': 'Stokes-Rees', 'zip': 13210, 'f': 'Ian'}]"
       ]
      }
     ],
     "prompt_number": 441
    },
    {
     "cell_type": "code",
     "collapsed": false,
     "input": [
      "peeps.sort(key=lambda item: (item['l'], item['f']), reverse=True)"
     ],
     "language": "python",
     "metadata": {},
     "outputs": [],
     "prompt_number": 442
    },
    {
     "cell_type": "code",
     "collapsed": false,
     "input": [
      "peeps"
     ],
     "language": "python",
     "metadata": {},
     "outputs": [
      {
       "metadata": {},
       "output_type": "pyout",
       "prompt_number": 443,
       "text": [
        "[{'age': 39, 'l': 'Stokes-Rees', 'zip': 13210, 'f': 'Ian'},\n",
        " {'age': 32, 'l': 'Stokes-Rees', 'zip': 13210, 'f': 'Emily'},\n",
        " {'age': 25, 'l': 'Smith', 'zip': 2138, 'f': 'Ben'},\n",
        " {'age': 22, 'l': 'Gambone', 'zip': 2445, 'f': 'Derek'}]"
       ]
      }
     ],
     "prompt_number": 443
    },
    {
     "cell_type": "code",
     "collapsed": false,
     "input": [
      "(lambda word: word.swapcase())('Ping Pong')"
     ],
     "language": "python",
     "metadata": {},
     "outputs": [
      {
       "metadata": {},
       "output_type": "pyout",
       "prompt_number": 444,
       "text": [
        "'pING pONG'"
       ]
      }
     ],
     "prompt_number": 444
    },
    {
     "cell_type": "markdown",
     "metadata": {},
     "source": [
      "Comprehensions\n",
      "--------------\n",
      "```python\n",
      "result = []\n",
      "for VALS in ITERABLE:\n",
      "    if COND(VALS):\n",
      "        result.append(EXPR(VALS))\n",
      "```\n",
      "\n",
      "List comprehensions let us do this in a very clear and succinct way in a single expression (instead of multiple statements):\n",
      "\n",
      "```python\n",
      "[ EXPR(VALS) for VALS in ITERABLE if COND(VALS) ]\n",
      "```"
     ]
    },
    {
     "cell_type": "code",
     "collapsed": false,
     "input": [
      "vals = [3, -8, 2, 7, 6, 2, 5, 12, 4, 9]\n",
      "words = 'foo bar ping pong blort wibble zip zap crunch'.split()"
     ],
     "language": "python",
     "metadata": {},
     "outputs": [],
     "prompt_number": 446
    },
    {
     "cell_type": "code",
     "collapsed": false,
     "input": [
      "evens = []\n",
      "for v in vals:\n",
      "    if v%2 == 0:\n",
      "        evens.append(v)"
     ],
     "language": "python",
     "metadata": {},
     "outputs": [],
     "prompt_number": 447
    },
    {
     "cell_type": "code",
     "collapsed": false,
     "input": [
      "evens"
     ],
     "language": "python",
     "metadata": {},
     "outputs": [
      {
       "metadata": {},
       "output_type": "pyout",
       "prompt_number": 448,
       "text": [
        "[-8, 2, 6, 2, 12, 4]"
       ]
      }
     ],
     "prompt_number": 448
    },
    {
     "cell_type": "code",
     "collapsed": false,
     "input": [
      "[v for v in vals if v%2 == 0]"
     ],
     "language": "python",
     "metadata": {},
     "outputs": [
      {
       "metadata": {},
       "output_type": "pyout",
       "prompt_number": 461,
       "text": [
        "[-8, 2, 6, 2, 12, 4]"
       ]
      }
     ],
     "prompt_number": 461
    },
    {
     "cell_type": "code",
     "collapsed": false,
     "input": [
      "squares = []\n",
      "for v in vals:\n",
      "    squares.append(v*v)"
     ],
     "language": "python",
     "metadata": {},
     "outputs": [],
     "prompt_number": 449
    },
    {
     "cell_type": "code",
     "collapsed": false,
     "input": [
      "squares"
     ],
     "language": "python",
     "metadata": {},
     "outputs": [
      {
       "metadata": {},
       "output_type": "pyout",
       "prompt_number": 462,
       "text": [
        "[9, 64, 4, 49, 36, 4, 25, 144, 16, 81]"
       ]
      }
     ],
     "prompt_number": 462
    },
    {
     "cell_type": "code",
     "collapsed": false,
     "input": [
      "[v*v for v in vals]"
     ],
     "language": "python",
     "metadata": {},
     "outputs": [
      {
       "metadata": {},
       "output_type": "pyout",
       "prompt_number": 463,
       "text": [
        "[9, 64, 4, 49, 36, 4, 25, 144, 16, 81]"
       ]
      }
     ],
     "prompt_number": 463
    },
    {
     "cell_type": "code",
     "collapsed": false,
     "input": [
      "bigsquares = []\n",
      "for v in vals:\n",
      "    s = v*v\n",
      "    if s > 10:\n",
      "        bigsquares.append(s)"
     ],
     "language": "python",
     "metadata": {},
     "outputs": [],
     "prompt_number": 464
    },
    {
     "cell_type": "code",
     "collapsed": false,
     "input": [
      "bigsquares"
     ],
     "language": "python",
     "metadata": {},
     "outputs": [
      {
       "metadata": {},
       "output_type": "pyout",
       "prompt_number": 455,
       "text": [
        "[64, 49, 36, 25, 144, 16, 81]"
       ]
      }
     ],
     "prompt_number": 455
    },
    {
     "cell_type": "code",
     "collapsed": false,
     "input": [
      "[ v*v for v in vals if v*v > 10]"
     ],
     "language": "python",
     "metadata": {},
     "outputs": [
      {
       "metadata": {},
       "output_type": "pyout",
       "prompt_number": 465,
       "text": [
        "[64, 49, 36, 25, 144, 16, 81]"
       ]
      }
     ],
     "prompt_number": 465
    },
    {
     "cell_type": "code",
     "collapsed": false,
     "input": [
      "capitals = []\n",
      "for w in words:\n",
      "    capitals.append(w.upper())"
     ],
     "language": "python",
     "metadata": {},
     "outputs": [],
     "prompt_number": 456
    },
    {
     "cell_type": "code",
     "collapsed": false,
     "input": [
      "capitals"
     ],
     "language": "python",
     "metadata": {},
     "outputs": [
      {
       "metadata": {},
       "output_type": "pyout",
       "prompt_number": 457,
       "text": [
        "['FOO', 'BAR', 'PING', 'PONG', 'BLORT', 'WIBBLE', 'ZIP', 'ZAP', 'CRUNCH']"
       ]
      }
     ],
     "prompt_number": 457
    },
    {
     "cell_type": "code",
     "collapsed": false,
     "input": [
      "[ w.upper() for w in words ]"
     ],
     "language": "python",
     "metadata": {},
     "outputs": [
      {
       "metadata": {},
       "output_type": "pyout",
       "prompt_number": 466,
       "text": [
        "['FOO', 'BAR', 'PING', 'PONG', 'BLORT', 'WIBBLE', 'ZIP', 'ZAP', 'CRUNCH']"
       ]
      }
     ],
     "prompt_number": 466
    },
    {
     "cell_type": "code",
     "collapsed": false,
     "input": [
      "words"
     ],
     "language": "python",
     "metadata": {},
     "outputs": [
      {
       "metadata": {},
       "output_type": "pyout",
       "prompt_number": 458,
       "text": [
        "['foo', 'bar', 'ping', 'pong', 'blort', 'wibble', 'zip', 'zap', 'crunch']"
       ]
      }
     ],
     "prompt_number": 458
    },
    {
     "cell_type": "code",
     "collapsed": false,
     "input": [
      "longwords = []\n",
      "for w in words:\n",
      "    if len(w) > 4:\n",
      "        longwords.append(w)"
     ],
     "language": "python",
     "metadata": {},
     "outputs": [],
     "prompt_number": 459
    },
    {
     "cell_type": "code",
     "collapsed": false,
     "input": [
      "longwords"
     ],
     "language": "python",
     "metadata": {},
     "outputs": [
      {
       "metadata": {},
       "output_type": "pyout",
       "prompt_number": 460,
       "text": [
        "['blort', 'wibble', 'crunch']"
       ]
      }
     ],
     "prompt_number": 460
    },
    {
     "cell_type": "code",
     "collapsed": false,
     "input": [
      "[ w for w in words if len(w) > 4 ]"
     ],
     "language": "python",
     "metadata": {},
     "outputs": [
      {
       "metadata": {},
       "output_type": "pyout",
       "prompt_number": 468,
       "text": [
        "['blort', 'wibble', 'crunch']"
       ]
      }
     ],
     "prompt_number": 468
    },
    {
     "cell_type": "code",
     "collapsed": false,
     "input": [
      "{w: len(w) for w in words}"
     ],
     "language": "python",
     "metadata": {},
     "outputs": [
      {
       "metadata": {},
       "output_type": "pyout",
       "prompt_number": 469,
       "text": [
        "{'bar': 3,\n",
        " 'zip': 3,\n",
        " 'pong': 4,\n",
        " 'crunch': 6,\n",
        " 'blort': 5,\n",
        " 'zap': 3,\n",
        " 'wibble': 6,\n",
        " 'ping': 4,\n",
        " 'foo': 3}"
       ]
      }
     ],
     "prompt_number": 469
    },
    {
     "cell_type": "code",
     "collapsed": false,
     "input": [
      "colors = 'red RED pink blue GrEEn PINk BluE yelloW'.split()"
     ],
     "language": "python",
     "metadata": {},
     "outputs": [],
     "prompt_number": 470
    },
    {
     "cell_type": "code",
     "collapsed": false,
     "input": [
      "{c.lower() for c in colors}"
     ],
     "language": "python",
     "metadata": {},
     "outputs": [
      {
       "metadata": {},
       "output_type": "pyout",
       "prompt_number": 471,
       "text": [
        "{'blue', 'green', 'pink', 'red', 'yellow'}"
       ]
      }
     ],
     "prompt_number": 471
    },
    {
     "cell_type": "markdown",
     "metadata": {},
     "source": [
      "Generator comprehensions\n",
      "------------------------\n",
      "Often we are only interested in reading the results of our list comprehension once, and in order.  If we DO NOT require random reads from the list, then we should use *Generator Comprehension* instead.\n",
      "\n",
      "* read only\n",
      "* read once\n",
      "* read in order\n",
      "\n",
      "Values are only calculated on-demand"
     ]
    },
    {
     "cell_type": "code",
     "collapsed": false,
     "input": [
      "# identical to list comp but round brackets instead\n",
      "(v for v in vals if v%2 == 0)"
     ],
     "language": "python",
     "metadata": {},
     "outputs": [
      {
       "metadata": {},
       "output_type": "pyout",
       "prompt_number": 473,
       "text": [
        "<generator object <genexpr> at 0x1074e0708>"
       ]
      }
     ],
     "prompt_number": 473
    },
    {
     "cell_type": "code",
     "collapsed": false,
     "input": [
      "g = (v for v in vals if v%2 == 0)"
     ],
     "language": "python",
     "metadata": {},
     "outputs": [],
     "prompt_number": 474
    },
    {
     "cell_type": "code",
     "collapsed": false,
     "input": [
      "g"
     ],
     "language": "python",
     "metadata": {},
     "outputs": [
      {
       "metadata": {},
       "output_type": "pyout",
       "prompt_number": 475,
       "text": [
        "<generator object <genexpr> at 0x1074e0ab0>"
       ]
      }
     ],
     "prompt_number": 475
    },
    {
     "cell_type": "code",
     "collapsed": false,
     "input": [
      "next(g)"
     ],
     "language": "python",
     "metadata": {},
     "outputs": [
      {
       "metadata": {},
       "output_type": "pyout",
       "prompt_number": 476,
       "text": [
        "-8"
       ]
      }
     ],
     "prompt_number": 476
    },
    {
     "cell_type": "code",
     "collapsed": false,
     "input": [
      "next(g)"
     ],
     "language": "python",
     "metadata": {},
     "outputs": [
      {
       "metadata": {},
       "output_type": "pyout",
       "prompt_number": 477,
       "text": [
        "2"
       ]
      }
     ],
     "prompt_number": 477
    },
    {
     "cell_type": "code",
     "collapsed": false,
     "input": [
      "next(g)"
     ],
     "language": "python",
     "metadata": {},
     "outputs": [
      {
       "metadata": {},
       "output_type": "pyout",
       "prompt_number": 478,
       "text": [
        "6"
       ]
      }
     ],
     "prompt_number": 478
    },
    {
     "cell_type": "code",
     "collapsed": false,
     "input": [
      "next(g)"
     ],
     "language": "python",
     "metadata": {},
     "outputs": [
      {
       "metadata": {},
       "output_type": "pyout",
       "prompt_number": 479,
       "text": [
        "2"
       ]
      }
     ],
     "prompt_number": 479
    },
    {
     "cell_type": "code",
     "collapsed": false,
     "input": [
      "next(g)"
     ],
     "language": "python",
     "metadata": {},
     "outputs": [
      {
       "metadata": {},
       "output_type": "pyout",
       "prompt_number": 480,
       "text": [
        "12"
       ]
      }
     ],
     "prompt_number": 480
    },
    {
     "cell_type": "code",
     "collapsed": false,
     "input": [
      "next(g)"
     ],
     "language": "python",
     "metadata": {},
     "outputs": [
      {
       "metadata": {},
       "output_type": "pyout",
       "prompt_number": 481,
       "text": [
        "4"
       ]
      }
     ],
     "prompt_number": 481
    },
    {
     "cell_type": "markdown",
     "metadata": {},
     "source": [
      "Counter\n",
      "-------"
     ]
    },
    {
     "cell_type": "code",
     "collapsed": false,
     "input": [
      "!pwd"
     ],
     "language": "python",
     "metadata": {},
     "outputs": [
      {
       "output_type": "stream",
       "stream": "stdout",
       "text": [
        "/Users/ijstokes/Dropbox/Public/python-mastery-isr19/python-mastery-isr19-code\r\n"
       ]
      }
     ],
     "prompt_number": 482
    },
    {
     "cell_type": "code",
     "collapsed": false,
     "input": [
      "from collections import Counter"
     ],
     "language": "python",
     "metadata": {},
     "outputs": [],
     "prompt_number": 483
    },
    {
     "cell_type": "code",
     "collapsed": false,
     "input": [
      "with open('../student/Data/words.txt') as fh:\n",
      "    words = fh.read().split()"
     ],
     "language": "python",
     "metadata": {},
     "outputs": [],
     "prompt_number": 503
    },
    {
     "cell_type": "code",
     "collapsed": false,
     "input": [
      "fh"
     ],
     "language": "python",
     "metadata": {},
     "outputs": [
      {
       "metadata": {},
       "output_type": "pyout",
       "prompt_number": 487,
       "text": [
        "<_io.TextIOWrapper name='../student/Data/words.txt' mode='r' encoding='UTF-8'>"
       ]
      }
     ],
     "prompt_number": 487
    },
    {
     "cell_type": "code",
     "collapsed": false,
     "input": [
      "fh.seek(0)"
     ],
     "language": "python",
     "metadata": {},
     "outputs": [
      {
       "ename": "ValueError",
       "evalue": "I/O operation on closed file.",
       "output_type": "pyerr",
       "traceback": [
        "\u001b[0;31m---------------------------------------------------------------------------\u001b[0m\n\u001b[0;31mValueError\u001b[0m                                Traceback (most recent call last)",
        "\u001b[0;32m<ipython-input-488-f1705fa1053c>\u001b[0m in \u001b[0;36m<module>\u001b[0;34m()\u001b[0m\n\u001b[0;32m----> 1\u001b[0;31m \u001b[0mfh\u001b[0m\u001b[0;34m.\u001b[0m\u001b[0mseek\u001b[0m\u001b[0;34m(\u001b[0m\u001b[0;36m0\u001b[0m\u001b[0;34m)\u001b[0m\u001b[0;34m\u001b[0m\u001b[0m\n\u001b[0m",
        "\u001b[0;31mValueError\u001b[0m: I/O operation on closed file."
       ]
      }
     ],
     "prompt_number": 488
    },
    {
     "cell_type": "code",
     "collapsed": false,
     "input": [],
     "language": "python",
     "metadata": {},
     "outputs": []
    },
    {
     "cell_type": "code",
     "collapsed": false,
     "input": [
      "c = Counter(words)"
     ],
     "language": "python",
     "metadata": {},
     "outputs": [],
     "prompt_number": 504
    },
    {
     "cell_type": "code",
     "collapsed": false,
     "input": [
      "words"
     ],
     "language": "python",
     "metadata": {},
     "outputs": [
      {
       "metadata": {},
       "output_type": "pyout",
       "prompt_number": 486,
       "text": [
        "['look',\n",
        " 'into',\n",
        " 'my',\n",
        " 'eyes',\n",
        " 'look',\n",
        " 'into',\n",
        " 'my',\n",
        " 'eyes',\n",
        " 'the',\n",
        " 'eyes',\n",
        " 'the',\n",
        " 'eyes',\n",
        " 'the',\n",
        " 'eyes',\n",
        " 'not',\n",
        " 'around',\n",
        " 'the',\n",
        " 'eyes',\n",
        " \"don't\",\n",
        " 'look',\n",
        " 'around',\n",
        " 'the',\n",
        " 'eyes',\n",
        " 'look',\n",
        " 'into',\n",
        " 'my',\n",
        " 'eyes',\n",
        " \"you're\",\n",
        " 'under']"
       ]
      }
     ],
     "prompt_number": 486
    },
    {
     "cell_type": "code",
     "collapsed": false,
     "input": [
      "c"
     ],
     "language": "python",
     "metadata": {},
     "outputs": [
      {
       "metadata": {},
       "output_type": "pyout",
       "prompt_number": 505,
       "text": [
        "Counter({'eyes': 8, 'the': 5, 'look': 4, 'into': 3, 'my': 3, 'around': 2, 'not': 1, \"you're\": 1, 'under': 1, \"don't\": 1})"
       ]
      }
     ],
     "prompt_number": 505
    },
    {
     "cell_type": "code",
     "collapsed": false,
     "input": [
      "c.most_common(3)"
     ],
     "language": "python",
     "metadata": {},
     "outputs": [
      {
       "metadata": {},
       "output_type": "pyout",
       "prompt_number": 506,
       "text": [
        "[('eyes', 8), ('the', 5), ('look', 4)]"
       ]
      }
     ],
     "prompt_number": 506
    },
    {
     "cell_type": "code",
     "collapsed": false,
     "input": [
      "c['eyes']"
     ],
     "language": "python",
     "metadata": {},
     "outputs": [
      {
       "metadata": {},
       "output_type": "pyout",
       "prompt_number": 491,
       "text": [
        "8"
       ]
      }
     ],
     "prompt_number": 491
    },
    {
     "cell_type": "code",
     "collapsed": false,
     "input": [
      "'eyes' in c"
     ],
     "language": "python",
     "metadata": {},
     "outputs": [
      {
       "metadata": {},
       "output_type": "pyout",
       "prompt_number": 492,
       "text": [
        "True"
       ]
      }
     ],
     "prompt_number": 492
    },
    {
     "cell_type": "code",
     "collapsed": false,
     "input": [
      "c.update('''\n",
      "eyes the eyes oh the eyes\n",
      "I don't totally understand where all this comes\n",
      "from, but I'm going with it\n",
      "'''.split())"
     ],
     "language": "python",
     "metadata": {},
     "outputs": [],
     "prompt_number": 507
    },
    {
     "cell_type": "code",
     "collapsed": false,
     "input": [
      "c"
     ],
     "language": "python",
     "metadata": {},
     "outputs": [
      {
       "metadata": {},
       "output_type": "pyout",
       "prompt_number": 508,
       "text": [
        "Counter({'eyes': 11, 'the': 7, 'look': 4, 'my': 3, 'into': 3, \"don't\": 2, 'around': 2, 'totally': 1, 'under': 1, 'where': 1, 'I': 1, 'this': 1, \"I'm\": 1, 'not': 1, 'understand': 1, 'it': 1, 'but': 1, \"you're\": 1, 'going': 1, 'from,': 1, 'all': 1, 'oh': 1, 'with': 1, 'comes': 1})"
       ]
      }
     ],
     "prompt_number": 508
    },
    {
     "cell_type": "code",
     "collapsed": false,
     "input": [
      "for w in ['foo', 'bar', 'zip', 'zap']:\n",
      "    print(w)"
     ],
     "language": "python",
     "metadata": {},
     "outputs": [
      {
       "output_type": "stream",
       "stream": "stdout",
       "text": [
        "foo\n",
        "bar\n",
        "zip\n",
        "zap\n"
       ]
      }
     ],
     "prompt_number": 496
    },
    {
     "cell_type": "code",
     "collapsed": false,
     "input": [
      "for w in 'foo bar zip zap'.split():\n",
      "    print(w)"
     ],
     "language": "python",
     "metadata": {},
     "outputs": [
      {
       "output_type": "stream",
       "stream": "stdout",
       "text": [
        "foo\n",
        "bar\n",
        "zip\n",
        "zap\n"
       ]
      }
     ],
     "prompt_number": 501
    },
    {
     "cell_type": "code",
     "collapsed": false,
     "input": [
      "[w.upper() for w in 'foo bar zip zap'.split()]"
     ],
     "language": "python",
     "metadata": {},
     "outputs": [
      {
       "metadata": {},
       "output_type": "pyout",
       "prompt_number": 502,
       "text": [
        "['FOO', 'BAR', 'ZIP', 'ZAP']"
       ]
      }
     ],
     "prompt_number": 502
    },
    {
     "cell_type": "code",
     "collapsed": false,
     "input": [
      "'head' in c"
     ],
     "language": "python",
     "metadata": {},
     "outputs": [
      {
       "metadata": {},
       "output_type": "pyout",
       "prompt_number": 509,
       "text": [
        "False"
       ]
      }
     ],
     "prompt_number": 509
    },
    {
     "cell_type": "code",
     "collapsed": false,
     "input": [
      "'the' in c"
     ],
     "language": "python",
     "metadata": {},
     "outputs": [
      {
       "metadata": {},
       "output_type": "pyout",
       "prompt_number": 510,
       "text": [
        "True"
       ]
      }
     ],
     "prompt_number": 510
    },
    {
     "cell_type": "code",
     "collapsed": false,
     "input": [
      "c['the']"
     ],
     "language": "python",
     "metadata": {},
     "outputs": [
      {
       "metadata": {},
       "output_type": "pyout",
       "prompt_number": 511,
       "text": [
        "7"
       ]
      }
     ],
     "prompt_number": 511
    },
    {
     "cell_type": "markdown",
     "metadata": {},
     "source": [
      "`deque`\n",
      "-------\n",
      "Pronounced *DECK*, think *Card Deck*\n",
      "\n",
      "Proposed and implemented by Raymond Hettinger, Pythonista Extraordinaire, and resident of the Valley.\n",
      "\n",
      "Like a list, but good for:\n",
      "\n",
      "* random inserts\n",
      "* random deletes\n",
      "* circular buffer\n",
      "* fixed size list\n",
      "\n",
      "At what cost?\n",
      "\n",
      "* slightly slower index lookup\n",
      "* slightly larger data structure\n",
      "\n",
      "Goal: never to do a `memcpy`"
     ]
    },
    {
     "cell_type": "code",
     "collapsed": false,
     "input": [
      "from collections import deque"
     ],
     "language": "python",
     "metadata": {},
     "outputs": [],
     "prompt_number": 512
    },
    {
     "cell_type": "code",
     "collapsed": false,
     "input": [
      "d = deque()"
     ],
     "language": "python",
     "metadata": {},
     "outputs": [],
     "prompt_number": 513
    },
    {
     "cell_type": "code",
     "collapsed": false,
     "input": [
      "d.extend([10, 20, 30, 40])"
     ],
     "language": "python",
     "metadata": {},
     "outputs": [],
     "prompt_number": 514
    },
    {
     "cell_type": "code",
     "collapsed": false,
     "input": [
      "d"
     ],
     "language": "python",
     "metadata": {},
     "outputs": [
      {
       "metadata": {},
       "output_type": "pyout",
       "prompt_number": 515,
       "text": [
        "deque([10, 20, 30, 40])"
       ]
      }
     ],
     "prompt_number": 515
    },
    {
     "cell_type": "code",
     "collapsed": false,
     "input": [
      "d.pop()"
     ],
     "language": "python",
     "metadata": {},
     "outputs": [
      {
       "metadata": {},
       "output_type": "pyout",
       "prompt_number": 516,
       "text": [
        "40"
       ]
      }
     ],
     "prompt_number": 516
    },
    {
     "cell_type": "code",
     "collapsed": false,
     "input": [
      "d"
     ],
     "language": "python",
     "metadata": {},
     "outputs": [
      {
       "metadata": {},
       "output_type": "pyout",
       "prompt_number": 517,
       "text": [
        "deque([10, 20, 30])"
       ]
      }
     ],
     "prompt_number": 517
    },
    {
     "cell_type": "code",
     "collapsed": false,
     "input": [
      "d.append(44)"
     ],
     "language": "python",
     "metadata": {},
     "outputs": [],
     "prompt_number": 518
    },
    {
     "cell_type": "code",
     "collapsed": false,
     "input": [
      "d[1]"
     ],
     "language": "python",
     "metadata": {},
     "outputs": [
      {
       "metadata": {},
       "output_type": "pyout",
       "prompt_number": 519,
       "text": [
        "20"
       ]
      }
     ],
     "prompt_number": 519
    },
    {
     "cell_type": "code",
     "collapsed": false,
     "input": [
      "d"
     ],
     "language": "python",
     "metadata": {},
     "outputs": [
      {
       "metadata": {},
       "output_type": "pyout",
       "prompt_number": 521,
       "text": [
        "deque([10, 20, 30, 44])"
       ]
      }
     ],
     "prompt_number": 521
    },
    {
     "cell_type": "code",
     "collapsed": false,
     "input": [
      "d.popleft()"
     ],
     "language": "python",
     "metadata": {},
     "outputs": [
      {
       "metadata": {},
       "output_type": "pyout",
       "prompt_number": 522,
       "text": [
        "10"
       ]
      }
     ],
     "prompt_number": 522
    },
    {
     "cell_type": "code",
     "collapsed": false,
     "input": [
      "d"
     ],
     "language": "python",
     "metadata": {},
     "outputs": [
      {
       "metadata": {},
       "output_type": "pyout",
       "prompt_number": 523,
       "text": [
        "deque([20, 30, 44])"
       ]
      }
     ],
     "prompt_number": 523
    },
    {
     "cell_type": "code",
     "collapsed": false,
     "input": [
      "d.appendleft(11)"
     ],
     "language": "python",
     "metadata": {},
     "outputs": [],
     "prompt_number": 524
    },
    {
     "cell_type": "code",
     "collapsed": false,
     "input": [
      "d"
     ],
     "language": "python",
     "metadata": {},
     "outputs": [
      {
       "metadata": {},
       "output_type": "pyout",
       "prompt_number": 525,
       "text": [
        "deque([11, 20, 30, 44])"
       ]
      }
     ],
     "prompt_number": 525
    },
    {
     "cell_type": "code",
     "collapsed": false,
     "input": [
      "d.rotate(1)"
     ],
     "language": "python",
     "metadata": {},
     "outputs": [],
     "prompt_number": 526
    },
    {
     "cell_type": "code",
     "collapsed": false,
     "input": [
      "d"
     ],
     "language": "python",
     "metadata": {},
     "outputs": [
      {
       "metadata": {},
       "output_type": "pyout",
       "prompt_number": 527,
       "text": [
        "deque([44, 11, 20, 30])"
       ]
      }
     ],
     "prompt_number": 527
    },
    {
     "cell_type": "code",
     "collapsed": false,
     "input": [
      "d.rotate(-1)"
     ],
     "language": "python",
     "metadata": {},
     "outputs": [],
     "prompt_number": 528
    },
    {
     "cell_type": "code",
     "collapsed": false,
     "input": [
      "d.rotate(-1)"
     ],
     "language": "python",
     "metadata": {},
     "outputs": [],
     "prompt_number": 529
    },
    {
     "cell_type": "code",
     "collapsed": false,
     "input": [
      "d"
     ],
     "language": "python",
     "metadata": {},
     "outputs": [
      {
       "metadata": {},
       "output_type": "pyout",
       "prompt_number": 530,
       "text": [
        "deque([20, 30, 44, 11])"
       ]
      }
     ],
     "prompt_number": 530
    },
    {
     "cell_type": "code",
     "collapsed": false,
     "input": [
      "e = deque(maxlen=5)"
     ],
     "language": "python",
     "metadata": {},
     "outputs": [],
     "prompt_number": 531
    },
    {
     "cell_type": "code",
     "collapsed": false,
     "input": [
      "e.append(10)"
     ],
     "language": "python",
     "metadata": {},
     "outputs": [],
     "prompt_number": 532
    },
    {
     "cell_type": "code",
     "collapsed": false,
     "input": [
      "e.append(20)"
     ],
     "language": "python",
     "metadata": {},
     "outputs": [],
     "prompt_number": 533
    },
    {
     "cell_type": "code",
     "collapsed": false,
     "input": [
      "e.append(30)"
     ],
     "language": "python",
     "metadata": {},
     "outputs": [],
     "prompt_number": 534
    },
    {
     "cell_type": "code",
     "collapsed": false,
     "input": [
      "e"
     ],
     "language": "python",
     "metadata": {},
     "outputs": [
      {
       "metadata": {},
       "output_type": "pyout",
       "prompt_number": 535,
       "text": [
        "deque([10, 20, 30], maxlen=5)"
       ]
      }
     ],
     "prompt_number": 535
    },
    {
     "cell_type": "code",
     "collapsed": false,
     "input": [
      "e.append(40)"
     ],
     "language": "python",
     "metadata": {},
     "outputs": [],
     "prompt_number": 536
    },
    {
     "cell_type": "code",
     "collapsed": false,
     "input": [
      "e.append(50)"
     ],
     "language": "python",
     "metadata": {},
     "outputs": [],
     "prompt_number": 537
    },
    {
     "cell_type": "code",
     "collapsed": false,
     "input": [
      "e.append(60)"
     ],
     "language": "python",
     "metadata": {},
     "outputs": [],
     "prompt_number": 538
    },
    {
     "cell_type": "code",
     "collapsed": false,
     "input": [
      "e"
     ],
     "language": "python",
     "metadata": {},
     "outputs": [
      {
       "metadata": {},
       "output_type": "pyout",
       "prompt_number": 539,
       "text": [
        "deque([20, 30, 40, 50, 60], maxlen=5)"
       ]
      }
     ],
     "prompt_number": 539
    },
    {
     "cell_type": "code",
     "collapsed": false,
     "input": [
      "e.append(70)"
     ],
     "language": "python",
     "metadata": {},
     "outputs": [],
     "prompt_number": 540
    },
    {
     "cell_type": "code",
     "collapsed": false,
     "input": [
      "e"
     ],
     "language": "python",
     "metadata": {},
     "outputs": [
      {
       "metadata": {},
       "output_type": "pyout",
       "prompt_number": 541,
       "text": [
        "deque([30, 40, 50, 60, 70], maxlen=5)"
       ]
      }
     ],
     "prompt_number": 541
    },
    {
     "cell_type": "code",
     "collapsed": false,
     "input": [
      "e.appendleft(22)"
     ],
     "language": "python",
     "metadata": {},
     "outputs": [],
     "prompt_number": 542
    },
    {
     "cell_type": "code",
     "collapsed": false,
     "input": [
      "e.appendleft(11)"
     ],
     "language": "python",
     "metadata": {},
     "outputs": [],
     "prompt_number": 543
    },
    {
     "cell_type": "code",
     "collapsed": false,
     "input": [
      "e"
     ],
     "language": "python",
     "metadata": {},
     "outputs": [
      {
       "metadata": {},
       "output_type": "pyout",
       "prompt_number": 544,
       "text": [
        "deque([11, 22, 30, 40, 50], maxlen=5)"
       ]
      }
     ],
     "prompt_number": 544
    },
    {
     "cell_type": "markdown",
     "metadata": {},
     "source": [
      "Container Memory Consumption\n",
      "----------------------------"
     ]
    },
    {
     "cell_type": "code",
     "collapsed": false,
     "input": [
      "d = dict()"
     ],
     "language": "python",
     "metadata": {},
     "outputs": [],
     "prompt_number": 545
    },
    {
     "cell_type": "code",
     "collapsed": false,
     "input": [
      "import sys"
     ],
     "language": "python",
     "metadata": {},
     "outputs": [],
     "prompt_number": 546
    },
    {
     "cell_type": "code",
     "collapsed": false,
     "input": [
      "sys.getsizeof(d)"
     ],
     "language": "python",
     "metadata": {},
     "outputs": [
      {
       "metadata": {},
       "output_type": "pyout",
       "prompt_number": 547,
       "text": [
        "288"
       ]
      }
     ],
     "prompt_number": 547
    },
    {
     "cell_type": "code",
     "collapsed": false,
     "input": [
      "d['foo'] = 52"
     ],
     "language": "python",
     "metadata": {},
     "outputs": [],
     "prompt_number": 548
    },
    {
     "cell_type": "code",
     "collapsed": false,
     "input": [
      "sys.getsizeof(d)"
     ],
     "language": "python",
     "metadata": {},
     "outputs": [
      {
       "metadata": {},
       "output_type": "pyout",
       "prompt_number": 549,
       "text": [
        "288"
       ]
      }
     ],
     "prompt_number": 549
    },
    {
     "cell_type": "code",
     "collapsed": false,
     "input": [
      "d['bar'] = 21"
     ],
     "language": "python",
     "metadata": {},
     "outputs": [],
     "prompt_number": 550
    },
    {
     "cell_type": "code",
     "collapsed": false,
     "input": [
      "sys.getsizeof(d)"
     ],
     "language": "python",
     "metadata": {},
     "outputs": [
      {
       "metadata": {},
       "output_type": "pyout",
       "prompt_number": 551,
       "text": [
        "288"
       ]
      }
     ],
     "prompt_number": 551
    },
    {
     "cell_type": "code",
     "collapsed": false,
     "input": [
      "things = dict(zip=1, zap=2, ping=3, pong=4)"
     ],
     "language": "python",
     "metadata": {},
     "outputs": [],
     "prompt_number": 552
    },
    {
     "cell_type": "code",
     "collapsed": false,
     "input": [
      "d.update(things)"
     ],
     "language": "python",
     "metadata": {},
     "outputs": [],
     "prompt_number": 553
    },
    {
     "cell_type": "code",
     "collapsed": false,
     "input": [
      "d"
     ],
     "language": "python",
     "metadata": {},
     "outputs": [
      {
       "metadata": {},
       "output_type": "pyout",
       "prompt_number": 554,
       "text": [
        "{'bar': 21, 'pong': 4, 'zip': 1, 'zap': 2, 'ping': 3, 'foo': 52}"
       ]
      }
     ],
     "prompt_number": 554
    },
    {
     "cell_type": "code",
     "collapsed": false,
     "input": [
      "things"
     ],
     "language": "python",
     "metadata": {},
     "outputs": [
      {
       "metadata": {},
       "output_type": "pyout",
       "prompt_number": 555,
       "text": [
        "{'pong': 4, 'ping': 3, 'zip': 1, 'zap': 2}"
       ]
      }
     ],
     "prompt_number": 555
    },
    {
     "cell_type": "code",
     "collapsed": false,
     "input": [
      "sys.getsizeof(d)"
     ],
     "language": "python",
     "metadata": {},
     "outputs": [
      {
       "metadata": {},
       "output_type": "pyout",
       "prompt_number": 556,
       "text": [
        "480"
       ]
      }
     ],
     "prompt_number": 556
    },
    {
     "cell_type": "code",
     "collapsed": false,
     "input": [
      "d['blort'] = 5"
     ],
     "language": "python",
     "metadata": {},
     "outputs": [],
     "prompt_number": 557
    },
    {
     "cell_type": "code",
     "collapsed": false,
     "input": [
      "sys.getsizeof(d)"
     ],
     "language": "python",
     "metadata": {},
     "outputs": [
      {
       "metadata": {},
       "output_type": "pyout",
       "prompt_number": 559,
       "text": [
        "480"
       ]
      }
     ],
     "prompt_number": 559
    },
    {
     "cell_type": "code",
     "collapsed": false,
     "input": [
      "l = list()"
     ],
     "language": "python",
     "metadata": {},
     "outputs": [],
     "prompt_number": 560
    },
    {
     "cell_type": "code",
     "collapsed": false,
     "input": [
      "sys.getsizeof(l)"
     ],
     "language": "python",
     "metadata": {},
     "outputs": [
      {
       "metadata": {},
       "output_type": "pyout",
       "prompt_number": 561,
       "text": [
        "64"
       ]
      }
     ],
     "prompt_number": 561
    },
    {
     "cell_type": "code",
     "collapsed": false,
     "input": [
      "l.append(10)"
     ],
     "language": "python",
     "metadata": {},
     "outputs": [],
     "prompt_number": 562
    },
    {
     "cell_type": "code",
     "collapsed": false,
     "input": [
      "sys.getsizeof(l)"
     ],
     "language": "python",
     "metadata": {},
     "outputs": [
      {
       "metadata": {},
       "output_type": "pyout",
       "prompt_number": 563,
       "text": [
        "96"
       ]
      }
     ],
     "prompt_number": 563
    },
    {
     "cell_type": "code",
     "collapsed": false,
     "input": [
      "l.append(20)"
     ],
     "language": "python",
     "metadata": {},
     "outputs": [],
     "prompt_number": 564
    },
    {
     "cell_type": "code",
     "collapsed": false,
     "input": [
      "sys.getsizeof(l)"
     ],
     "language": "python",
     "metadata": {},
     "outputs": [
      {
       "metadata": {},
       "output_type": "pyout",
       "prompt_number": 565,
       "text": [
        "96"
       ]
      }
     ],
     "prompt_number": 565
    },
    {
     "cell_type": "code",
     "collapsed": false,
     "input": [
      "l.extend([30, 40])"
     ],
     "language": "python",
     "metadata": {},
     "outputs": [],
     "prompt_number": 566
    },
    {
     "cell_type": "code",
     "collapsed": false,
     "input": [
      "sys.getsizeof(l)"
     ],
     "language": "python",
     "metadata": {},
     "outputs": [
      {
       "metadata": {},
       "output_type": "pyout",
       "prompt_number": 567,
       "text": [
        "96"
       ]
      }
     ],
     "prompt_number": 567
    },
    {
     "cell_type": "code",
     "collapsed": false,
     "input": [
      "l.append(50)"
     ],
     "language": "python",
     "metadata": {},
     "outputs": [],
     "prompt_number": 568
    },
    {
     "cell_type": "code",
     "collapsed": false,
     "input": [
      "sys.getsizeof(l)"
     ],
     "language": "python",
     "metadata": {},
     "outputs": [
      {
       "metadata": {},
       "output_type": "pyout",
       "prompt_number": 569,
       "text": [
        "128"
       ]
      }
     ],
     "prompt_number": 569
    },
    {
     "cell_type": "code",
     "collapsed": false,
     "input": [
      "128-96"
     ],
     "language": "python",
     "metadata": {},
     "outputs": [
      {
       "metadata": {},
       "output_type": "pyout",
       "prompt_number": 571,
       "text": [
        "32"
       ]
      }
     ],
     "prompt_number": 571
    },
    {
     "cell_type": "code",
     "collapsed": false,
     "input": [
      "32 / 8"
     ],
     "language": "python",
     "metadata": {},
     "outputs": [
      {
       "metadata": {},
       "output_type": "pyout",
       "prompt_number": 572,
       "text": [
        "4.0"
       ]
      }
     ],
     "prompt_number": 572
    },
    {
     "cell_type": "code",
     "collapsed": false,
     "input": [
      "# NO!!!! Please don't ever do this in Python\n",
      "from random import choice\n",
      "\n",
      "# pick a word 7 times\n",
      "\n",
      "picks = 7\n",
      "while picks > 0:\n",
      "    print(choice('red green yellow'.split()))\n",
      "    picks -= 1"
     ],
     "language": "python",
     "metadata": {},
     "outputs": [
      {
       "output_type": "stream",
       "stream": "stdout",
       "text": [
        "yellow\n",
        "yellow\n",
        "green\n",
        "yellow\n",
        "green\n",
        "yellow\n",
        "green\n"
       ]
      }
     ],
     "prompt_number": 574
    },
    {
     "cell_type": "code",
     "collapsed": false,
     "input": [
      "# The Pythonic way to drive iteration is the for loop\n",
      "for pick in range(7):\n",
      "    print(choice('red green yellow'.split()))"
     ],
     "language": "python",
     "metadata": {},
     "outputs": [
      {
       "output_type": "stream",
       "stream": "stdout",
       "text": [
        "red\n",
        "yellow\n",
        "red\n",
        "red\n",
        "green\n",
        "red\n",
        "green\n"
       ]
      }
     ],
     "prompt_number": 575
    },
    {
     "cell_type": "markdown",
     "metadata": {},
     "source": [
      "Lotto Challenge\n",
      "---------------\n",
      "* `lotto()` returns a random number from (1,100000)\n",
      "* 10k tickets with random numbers are given out (may have duplicates)\n",
      "* 1k \"winning\" numbers are drawn (may have duplicates)\n",
      "* how many unique tickets win?\n",
      "* how many people win?"
     ]
    },
    {
     "cell_type": "code",
     "collapsed": false,
     "input": [
      "from random    import randint\n",
      "from functools import partial\n",
      "\n",
      "# some constants\n",
      "POOL = int(1e5) # size of pool we are selecting numbers from\n",
      "TCNT = int(1e4) # number of tickets we'll issue\n",
      "WCNT = int(1e3) # number of winning numbers will generate\n",
      "\n",
      "lotto = partial(randint, 1, POOL)\n",
      "# lotto = lambda : randint(1, POOL)\n",
      "\n",
      "tickets = [lotto() for draw in range(TCNT)] # create TCNT tickets\n",
      "uniqtix = set(tickets)                      # get unique set of tickets\n",
      "wintix  = {lotto() for draw in range(WCNT)} # get unique winners from WCNT draws\n",
      "# len(wintix) <= WCNT\n",
      "\n",
      "winnums = wintix & uniqtix                  # unique winning numbers\n",
      "\n",
      "winpeople = [ticket for ticket in tickets if ticket in winnums]\n",
      "\n",
      "print(\"Winning numbers:\", len(winnums))\n",
      "print(\"Winning people:\", len(winpeople))"
     ],
     "language": "python",
     "metadata": {},
     "outputs": [
      {
       "output_type": "stream",
       "stream": "stdout",
       "text": [
        "Winning numbers: 104\n",
        "Winning people: 107\n"
       ]
      }
     ],
     "prompt_number": 577
    },
    {
     "cell_type": "code",
     "collapsed": false,
     "input": [
      "winnums.__contains__(ticket) # ticket in winnums"
     ],
     "language": "python",
     "metadata": {},
     "outputs": []
    },
    {
     "cell_type": "code",
     "collapsed": false,
     "input": [
      "class Point:\n",
      "    pass"
     ],
     "language": "python",
     "metadata": {},
     "outputs": [],
     "prompt_number": 578
    },
    {
     "cell_type": "code",
     "collapsed": false,
     "input": [
      "a = Point()\n",
      "b = Point()"
     ],
     "language": "python",
     "metadata": {},
     "outputs": [],
     "prompt_number": 579
    },
    {
     "cell_type": "code",
     "collapsed": false,
     "input": [
      "hash(a)"
     ],
     "language": "python",
     "metadata": {},
     "outputs": [
      {
       "metadata": {},
       "output_type": "pyout",
       "prompt_number": 580,
       "text": [
        "-9223372036578525671"
       ]
      }
     ],
     "prompt_number": 580
    },
    {
     "cell_type": "code",
     "collapsed": false,
     "input": [
      "hash(b)"
     ],
     "language": "python",
     "metadata": {},
     "outputs": [
      {
       "metadata": {},
       "output_type": "pyout",
       "prompt_number": 581,
       "text": [
        "276250134"
       ]
      }
     ],
     "prompt_number": 581
    },
    {
     "cell_type": "code",
     "collapsed": false,
     "input": [
      "a.__hash__()"
     ],
     "language": "python",
     "metadata": {},
     "outputs": [
      {
       "metadata": {},
       "output_type": "pyout",
       "prompt_number": 582,
       "text": [
        "-9223372036578525671"
       ]
      }
     ],
     "prompt_number": 582
    },
    {
     "cell_type": "code",
     "collapsed": false,
     "input": [
      "b.__hash__()"
     ],
     "language": "python",
     "metadata": {},
     "outputs": [
      {
       "metadata": {},
       "output_type": "pyout",
       "prompt_number": 583,
       "text": [
        "276250134"
       ]
      }
     ],
     "prompt_number": 583
    },
    {
     "cell_type": "code",
     "collapsed": false,
     "input": [
      "d = dict(foo=1, bar=2)"
     ],
     "language": "python",
     "metadata": {},
     "outputs": [],
     "prompt_number": 584
    },
    {
     "cell_type": "code",
     "collapsed": false,
     "input": [
      "d"
     ],
     "language": "python",
     "metadata": {},
     "outputs": [
      {
       "metadata": {},
       "output_type": "pyout",
       "prompt_number": 585,
       "text": [
        "{'bar': 2, 'foo': 1}"
       ]
      }
     ],
     "prompt_number": 585
    },
    {
     "cell_type": "code",
     "collapsed": false,
     "input": [
      "hash(d)"
     ],
     "language": "python",
     "metadata": {},
     "outputs": [
      {
       "ename": "TypeError",
       "evalue": "unhashable type: 'dict'",
       "output_type": "pyerr",
       "traceback": [
        "\u001b[0;31m---------------------------------------------------------------------------\u001b[0m\n\u001b[0;31mTypeError\u001b[0m                                 Traceback (most recent call last)",
        "\u001b[0;32m<ipython-input-586-a37dc9dc2032>\u001b[0m in \u001b[0;36m<module>\u001b[0;34m()\u001b[0m\n\u001b[0;32m----> 1\u001b[0;31m \u001b[0mhash\u001b[0m\u001b[0;34m(\u001b[0m\u001b[0md\u001b[0m\u001b[0;34m)\u001b[0m\u001b[0;34m\u001b[0m\u001b[0m\n\u001b[0m",
        "\u001b[0;31mTypeError\u001b[0m: unhashable type: 'dict'"
       ]
      }
     ],
     "prompt_number": 586
    },
    {
     "cell_type": "code",
     "collapsed": false,
     "input": [
      "x = 55\n",
      "y = 56"
     ],
     "language": "python",
     "metadata": {},
     "outputs": [],
     "prompt_number": 593
    },
    {
     "cell_type": "code",
     "collapsed": false,
     "input": [
      "hash(x)"
     ],
     "language": "python",
     "metadata": {},
     "outputs": [
      {
       "metadata": {},
       "output_type": "pyout",
       "prompt_number": 588,
       "text": [
        "55"
       ]
      }
     ],
     "prompt_number": 588
    },
    {
     "cell_type": "code",
     "collapsed": false,
     "input": [
      "hash(y)"
     ],
     "language": "python",
     "metadata": {},
     "outputs": [
      {
       "metadata": {},
       "output_type": "pyout",
       "prompt_number": 589,
       "text": [
        "56"
       ]
      }
     ],
     "prompt_number": 589
    },
    {
     "cell_type": "code",
     "collapsed": false,
     "input": [
      "class Python3Integer:\n",
      "    def __hash__(self):\n",
      "        return self%(2**64)"
     ],
     "language": "python",
     "metadata": {},
     "outputs": [],
     "prompt_number": 590
    },
    {
     "cell_type": "code",
     "collapsed": false,
     "input": [
      "hash('abcd')"
     ],
     "language": "python",
     "metadata": {},
     "outputs": [
      {
       "metadata": {},
       "output_type": "pyout",
       "prompt_number": 597,
       "text": [
        "-5124715813242141158"
       ]
      }
     ],
     "prompt_number": 597
    },
    {
     "cell_type": "code",
     "collapsed": false,
     "input": [
      "hash('abce')"
     ],
     "language": "python",
     "metadata": {},
     "outputs": [
      {
       "metadata": {},
       "output_type": "pyout",
       "prompt_number": 598,
       "text": [
        "8076609819467817677"
       ]
      }
     ],
     "prompt_number": 598
    },
    {
     "cell_type": "code",
     "collapsed": false,
     "input": [],
     "language": "python",
     "metadata": {},
     "outputs": []
    }
   ],
   "metadata": {}
  }
 ]
}