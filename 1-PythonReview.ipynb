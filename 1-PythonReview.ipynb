{
 "metadata": {
  "name": "",
  "signature": "sha256:70a3e76bfe642836c3543b6cedd319ffcbc1625289efe09efe9cd1a3568b7dd8"
 },
 "nbformat": 3,
 "nbformat_minor": 0,
 "worksheets": [
  {
   "cells": [
    {
     "cell_type": "code",
     "collapsed": false,
     "input": [
      "# enter goes to new line in same cell\n",
      "a = 10\n",
      "b = 20\n",
      "c = a + b\n",
      "print(a, b, c)\n",
      "# shift-enter executes cell"
     ],
     "language": "python",
     "metadata": {},
     "outputs": [
      {
       "output_type": "stream",
       "stream": "stdout",
       "text": [
        "10 20 30\n"
       ]
      }
     ],
     "prompt_number": 5
    },
    {
     "cell_type": "code",
     "collapsed": false,
     "input": [
      "def f(x):\n",
      "    ' my simple single variable function '\n",
      "    y = -5 + 2*x + 0.6*x**2\n",
      "    return y"
     ],
     "language": "python",
     "metadata": {},
     "outputs": [],
     "prompt_number": 11
    },
    {
     "cell_type": "code",
     "collapsed": false,
     "input": [
      "f(7)"
     ],
     "language": "python",
     "metadata": {},
     "outputs": [
      {
       "metadata": {},
       "output_type": "pyout",
       "prompt_number": 7,
       "text": [
        "38.4"
       ]
      }
     ],
     "prompt_number": 7
    },
    {
     "cell_type": "code",
     "collapsed": false,
     "input": [
      "%pylab inline"
     ],
     "language": "python",
     "metadata": {},
     "outputs": [
      {
       "output_type": "stream",
       "stream": "stdout",
       "text": [
        "Populating the interactive namespace from numpy and matplotlib\n"
       ]
      },
      {
       "output_type": "stream",
       "stream": "stderr",
       "text": [
        "WARNING: pylab import has clobbered these variables: ['f']\n",
        "`%matplotlib` prevents importing * from pylab and numpy\n"
       ]
      }
     ],
     "prompt_number": 9
    },
    {
     "cell_type": "code",
     "collapsed": false,
     "input": [
      "x = [-2, -1, 0, 1, 2, 3, 4, 5]\n",
      "y = [f(i) for i in x]"
     ],
     "language": "python",
     "metadata": {},
     "outputs": [],
     "prompt_number": 12
    },
    {
     "cell_type": "code",
     "collapsed": false,
     "input": [
      "import matplotlib as mpl"
     ],
     "language": "python",
     "metadata": {},
     "outputs": [],
     "prompt_number": 13
    },
    {
     "cell_type": "code",
     "collapsed": false,
     "input": [
      "mpl.pylab.plot(x, y)"
     ],
     "language": "python",
     "metadata": {},
     "outputs": [
      {
       "output_type": "stream",
       "stream": "stdout",
       "text": [
        "ERROR! Session/line number was not unique in database. History logging moved to new session 1079\n"
       ]
      },
      {
       "metadata": {},
       "output_type": "pyout",
       "prompt_number": 14,
       "text": [
        "[<matplotlib.lines.Line2D at 0x108ed6c88>]"
       ]
      },
      {
       "metadata": {},
       "output_type": "display_data",
       "png": "[encoded data removed]",
       "text": [
        "<matplotlib.figure.Figure at 0x108cb1fd0>"
       ]
      }
     ],
     "prompt_number": 14
    },
    {
     "cell_type": "code",
     "collapsed": false,
     "input": [
      "pwd"
     ],
     "language": "python",
     "metadata": {},
     "outputs": [
      {
       "metadata": {},
       "output_type": "pyout",
       "prompt_number": 15,
       "text": [
        "'/Users/ijstokes/Dropbox/Public/python-mastery-isr19/python-mastery-isr19-code'"
       ]
      }
     ],
     "prompt_number": 15
    },
    {
     "cell_type": "code",
     "collapsed": false,
     "input": [
      "ls"
     ],
     "language": "python",
     "metadata": {},
     "outputs": [
      {
       "output_type": "stream",
       "stream": "stdout",
       "text": [
        "0-PythonMastery.ipynb  \u001b[31m\u001b[40mdemo-python-math\u001b[m\u001b[m*      ianmath.py\r\n",
        "1-PythonReview.ipynb   \u001b[31m\u001b[40mdemopythonmath.py\u001b[m\u001b[m*     ianmath.pyc\r\n",
        "README.md              demopythonmath.pyc     \u001b[36m\u001b[40mnbs\u001b[m\u001b[m/\r\n"
       ]
      }
     ],
     "prompt_number": 16
    },
    {
     "cell_type": "code",
     "collapsed": false,
     "input": [
      "name = 'Ian Stokes-Rees'"
     ],
     "language": "python",
     "metadata": {},
     "outputs": [],
     "prompt_number": 18
    },
    {
     "cell_type": "code",
     "collapsed": false,
     "input": [
      "print('%40s' % name)"
     ],
     "language": "python",
     "metadata": {},
     "outputs": [
      {
       "output_type": "stream",
       "stream": "stdout",
       "text": [
        "                         Ian Stokes-Rees\n"
       ]
      }
     ],
     "prompt_number": 20
    },
    {
     "cell_type": "code",
     "collapsed": false,
     "input": [
      "val = 3.8365\n",
      "print('%07.2g' % val)"
     ],
     "language": "python",
     "metadata": {},
     "outputs": [
      {
       "output_type": "stream",
       "stream": "stdout",
       "text": [
        "00003.8\n"
       ]
      }
     ],
     "prompt_number": 26
    },
    {
     "cell_type": "code",
     "collapsed": false,
     "input": [
      "print('float: %07.2g name= %20s int# %3i' % (val, name, 34))"
     ],
     "language": "python",
     "metadata": {},
     "outputs": [
      {
       "output_type": "stream",
       "stream": "stdout",
       "text": [
        "float: 00003.8 name=      Ian Stokes-Rees int#  34\n"
       ]
      }
     ],
     "prompt_number": 29
    },
    {
     "cell_type": "code",
     "collapsed": false,
     "input": [
      "pwd"
     ],
     "language": "python",
     "metadata": {},
     "outputs": [
      {
       "metadata": {},
       "output_type": "pyout",
       "prompt_number": 30,
       "text": [
        "'/Users/ijstokes/Dropbox/Public/python-mastery-isr19/python-mastery-isr19-code'"
       ]
      }
     ],
     "prompt_number": 30
    },
    {
     "cell_type": "code",
     "collapsed": false,
     "input": [
      "cd ../student/Data/ # NOT PYTHON!"
     ],
     "language": "python",
     "metadata": {},
     "outputs": [
      {
       "output_type": "stream",
       "stream": "stdout",
       "text": [
        "/Users/ijstokes/Dropbox/Public/python-mastery-isr19/student/Data\n"
       ]
      }
     ],
     "prompt_number": 31
    },
    {
     "cell_type": "code",
     "collapsed": false,
     "input": [
      "pwd # ALSO NOT PYTHON!"
     ],
     "language": "python",
     "metadata": {},
     "outputs": [
      {
       "metadata": {},
       "output_type": "pyout",
       "prompt_number": 32,
       "text": [
        "'/Users/ijstokes/Dropbox/Public/python-mastery-isr19/student/Data'"
       ]
      }
     ],
     "prompt_number": 32
    },
    {
     "cell_type": "code",
     "collapsed": false,
     "input": [
      "ls # AGAIN, NOT PYTHON!"
     ],
     "language": "python",
     "metadata": {},
     "outputs": [
      {
       "output_type": "stream",
       "stream": "stdout",
       "text": [
        "ctabus.csv      \u001b[31m\u001b[40mportfolio.dat\u001b[m\u001b[m*  \u001b[31m\u001b[40mportfolio3.dat\u001b[m\u001b[m* words.txt\r\n",
        "\u001b[31m\u001b[40mdowstocks.dat\u001b[m\u001b[m*  \u001b[31m\u001b[40mportfolio1.dat\u001b[m\u001b[m* prices.csv\r\n",
        "\u001b[31m\u001b[40mportfolio.csv\u001b[m\u001b[m*  \u001b[31m\u001b[40mportfolio2.dat\u001b[m\u001b[m* \u001b[31m\u001b[40mstocksim.py\u001b[m\u001b[m*\r\n"
       ]
      }
     ],
     "prompt_number": 33
    },
    {
     "cell_type": "code",
     "collapsed": false,
     "input": [
      "!wc words.txt"
     ],
     "language": "python",
     "metadata": {},
     "outputs": [
      {
       "output_type": "stream",
       "stream": "stdout",
       "text": [
        "       6      29     142 words.txt\r\n"
       ]
      }
     ],
     "prompt_number": 34
    },
    {
     "cell_type": "code",
     "collapsed": false,
     "input": [
      "!cat words.txt"
     ],
     "language": "python",
     "metadata": {},
     "outputs": [
      {
       "output_type": "stream",
       "stream": "stdout",
       "text": [
        "look into my eyes\r\n",
        "look into my eyes\r\n",
        "the eyes the eyes the eyes\r\n",
        "not around the eyes \r\n",
        "don't look around the eyes\r\n",
        "look into my eyes you're under\r\n"
       ]
      }
     ],
     "prompt_number": 35
    },
    {
     "cell_type": "code",
     "collapsed": false,
     "input": [
      "# back to Python!\n",
      "fh = open('words.txt')"
     ],
     "language": "python",
     "metadata": {},
     "outputs": [],
     "prompt_number": 36
    },
    {
     "cell_type": "code",
     "collapsed": false,
     "input": [
      "!ls .."
     ],
     "language": "python",
     "metadata": {},
     "outputs": [
      {
       "output_type": "stream",
       "stream": "stdout",
       "text": [
        "\u001b[36m\u001b[40mData\u001b[m\u001b[m                    PythonMasteryBinder.pdf \u001b[36m\u001b[40mSolutions\u001b[m\u001b[m\r\n",
        "\u001b[36m\u001b[40mExercises\u001b[m\u001b[m               README.html             pythonmaster.zip\r\n",
        "\u001b[36m\u001b[40mOptional\u001b[m\u001b[m                RunIDLE.pyw\r\n"
       ]
      }
     ],
     "prompt_number": 37
    },
    {
     "cell_type": "code",
     "collapsed": false,
     "input": [
      "!pwd"
     ],
     "language": "python",
     "metadata": {},
     "outputs": [
      {
       "output_type": "stream",
       "stream": "stdout",
       "text": [
        "/Users/ijstokes/Dropbox/Public/python-mastery-isr19/student/Data\r\n"
       ]
      }
     ],
     "prompt_number": 38
    },
    {
     "cell_type": "code",
     "collapsed": false,
     "input": [
      "!ls"
     ],
     "language": "python",
     "metadata": {},
     "outputs": [
      {
       "output_type": "stream",
       "stream": "stdout",
       "text": [
        "ctabus.csv     \u001b[31m\u001b[40mportfolio.csv\u001b[m\u001b[m  \u001b[31m\u001b[40mportfolio1.dat\u001b[m\u001b[m \u001b[31m\u001b[40mportfolio3.dat\u001b[m\u001b[m \u001b[31m\u001b[40mstocksim.py\u001b[m\u001b[m\r\n",
        "\u001b[31m\u001b[40mdowstocks.dat\u001b[m\u001b[m  \u001b[31m\u001b[40mportfolio.dat\u001b[m\u001b[m  \u001b[31m\u001b[40mportfolio2.dat\u001b[m\u001b[m prices.csv     words.txt\r\n"
       ]
      }
     ],
     "prompt_number": 39
    },
    {
     "cell_type": "markdown",
     "metadata": {},
     "source": [
      "Exceptions\n",
      "----------\n",
      "Python 3.4 builtin Exceptions: [https://docs.python.org/3.4/library/exceptions.html](https://docs.python.org/3.4/library/exceptions.html)"
     ]
    },
    {
     "cell_type": "code",
     "collapsed": false,
     "input": [
      "words = 'foo bar zip zap ping pong'.split()"
     ],
     "language": "python",
     "metadata": {},
     "outputs": [],
     "prompt_number": 1
    },
    {
     "cell_type": "code",
     "collapsed": false,
     "input": [
      "words"
     ],
     "language": "python",
     "metadata": {},
     "outputs": [
      {
       "metadata": {},
       "output_type": "pyout",
       "prompt_number": 2,
       "text": [
        "['foo', 'bar', 'zip', 'zap', 'ping', 'pong']"
       ]
      }
     ],
     "prompt_number": 2
    },
    {
     "cell_type": "code",
     "collapsed": false,
     "input": [
      "words[3]"
     ],
     "language": "python",
     "metadata": {},
     "outputs": [
      {
       "metadata": {},
       "output_type": "pyout",
       "prompt_number": 3,
       "text": [
        "'zap'"
       ]
      }
     ],
     "prompt_number": 3
    },
    {
     "cell_type": "code",
     "collapsed": false,
     "input": [
      "words[-1]"
     ],
     "language": "python",
     "metadata": {},
     "outputs": [
      {
       "metadata": {},
       "output_type": "pyout",
       "prompt_number": 4,
       "text": [
        "'pong'"
       ]
      }
     ],
     "prompt_number": 4
    },
    {
     "cell_type": "code",
     "collapsed": false,
     "input": [
      "words[5]"
     ],
     "language": "python",
     "metadata": {},
     "outputs": [
      {
       "metadata": {},
       "output_type": "pyout",
       "prompt_number": 5,
       "text": [
        "'pong'"
       ]
      }
     ],
     "prompt_number": 5
    },
    {
     "cell_type": "code",
     "collapsed": false,
     "input": [
      "words[10] # what is going to happen with this index?"
     ],
     "language": "python",
     "metadata": {},
     "outputs": [
      {
       "ename": "IndexError",
       "evalue": "list index out of range",
       "output_type": "pyerr",
       "traceback": [
        "\u001b[0;31m---------------------------------------------------------------------------\u001b[0m\n\u001b[0;31mIndexError\u001b[0m                                Traceback (most recent call last)",
        "\u001b[0;32m<ipython-input-6-9ffc748e089c>\u001b[0m in \u001b[0;36m<module>\u001b[0;34m()\u001b[0m\n\u001b[0;32m----> 1\u001b[0;31m \u001b[0mwords\u001b[0m\u001b[0;34m[\u001b[0m\u001b[0;36m10\u001b[0m\u001b[0;34m]\u001b[0m \u001b[0;31m# what is going to happen with this index?\u001b[0m\u001b[0;34m\u001b[0m\u001b[0m\n\u001b[0m",
        "\u001b[0;31mIndexError\u001b[0m: list index out of range"
       ]
      }
     ],
     "prompt_number": 6
    },
    {
     "cell_type": "code",
     "collapsed": false,
     "input": [
      "# Python raises an exception!\n",
      "index = 3\n",
      "try:\n",
      "    print(\"Getting word from index:\", index)\n",
      "    print(\"word:\", words[index])\n",
      "    print(\"Phew, loooks like it was OK\")\n",
      "    words.upper()\n",
      "    print(\"And now words:\", words)\n",
      "except (IndexError, AttributeError) as ex:\n",
      "    print(\"Oh dear, an exception occurred!\", ex)\n",
      "except TypeError as ex:\n",
      "    print(\"Looks like the index wasn't an int:\", ex)\n",
      "finally:\n",
      "    print(\"This ALWAYS gets invoked\")"
     ],
     "language": "python",
     "metadata": {},
     "outputs": [
      {
       "output_type": "stream",
       "stream": "stdout",
       "text": [
        "Getting word from index: 3\n",
        "word: zap\n",
        "Phew, loooks like it was OK\n",
        "Oh dear, an exception occurred! 'list' object has no attribute 'upper'\n",
        "This ALWAYS gets invoked\n"
       ]
      }
     ],
     "prompt_number": 20
    },
    {
     "cell_type": "code",
     "collapsed": false,
     "input": [
      "import string\n",
      "for attr in dir(__builtins__):\n",
      "    if attr[0] in string.ascii_uppercase:\n",
      "        print(attr)"
     ],
     "language": "python",
     "metadata": {},
     "outputs": [
      {
       "output_type": "stream",
       "stream": "stdout",
       "text": [
        "ArithmeticError\n",
        "AssertionError\n",
        "AttributeError\n",
        "BaseException\n",
        "BlockingIOError\n",
        "BrokenPipeError\n",
        "BufferError\n",
        "BytesWarning\n",
        "ChildProcessError\n",
        "ConnectionAbortedError\n",
        "ConnectionError\n",
        "ConnectionRefusedError\n",
        "ConnectionResetError\n",
        "DeprecationWarning\n",
        "EOFError\n",
        "Ellipsis\n",
        "EnvironmentError\n",
        "Exception\n",
        "False\n",
        "FileExistsError\n",
        "FileNotFoundError\n",
        "FloatingPointError\n",
        "FutureWarning\n",
        "GeneratorExit\n",
        "IOError\n",
        "ImportError\n",
        "ImportWarning\n",
        "IndentationError\n",
        "IndexError\n",
        "InterruptedError\n",
        "IsADirectoryError\n",
        "KeyError\n",
        "KeyboardInterrupt\n",
        "LookupError\n",
        "MemoryError\n",
        "NameError\n",
        "None\n",
        "NotADirectoryError\n",
        "NotImplemented\n",
        "NotImplementedError\n",
        "OSError\n",
        "OverflowError\n",
        "PendingDeprecationWarning\n",
        "PermissionError\n",
        "ProcessLookupError\n",
        "ReferenceError\n",
        "ResourceWarning\n",
        "RuntimeError\n",
        "RuntimeWarning\n",
        "StopIteration\n",
        "SyntaxError\n",
        "SyntaxWarning\n",
        "SystemError\n",
        "SystemExit\n",
        "TabError\n",
        "TimeoutError\n",
        "True\n",
        "TypeError\n",
        "UnboundLocalError\n",
        "UnicodeDecodeError\n",
        "UnicodeEncodeError\n",
        "UnicodeError\n",
        "UnicodeTranslateError\n",
        "UnicodeWarning\n",
        "UserWarning\n",
        "ValueError\n",
        "Warning\n",
        "ZeroDivisionError\n"
       ]
      }
     ],
     "prompt_number": 28
    },
    {
     "cell_type": "code",
     "collapsed": false,
     "input": [
      "# list comprehension version\n",
      "[attr for attr in dir(__builtins__) if attr[0] in string.ascii_uppercase]"
     ],
     "language": "python",
     "metadata": {},
     "outputs": [
      {
       "metadata": {},
       "output_type": "pyout",
       "prompt_number": 29,
       "text": [
        "['ArithmeticError',\n",
        " 'AssertionError',\n",
        " 'AttributeError',\n",
        " 'BaseException',\n",
        " 'BlockingIOError',\n",
        " 'BrokenPipeError',\n",
        " 'BufferError',\n",
        " 'BytesWarning',\n",
        " 'ChildProcessError',\n",
        " 'ConnectionAbortedError',\n",
        " 'ConnectionError',\n",
        " 'ConnectionRefusedError',\n",
        " 'ConnectionResetError',\n",
        " 'DeprecationWarning',\n",
        " 'EOFError',\n",
        " 'Ellipsis',\n",
        " 'EnvironmentError',\n",
        " 'Exception',\n",
        " 'False',\n",
        " 'FileExistsError',\n",
        " 'FileNotFoundError',\n",
        " 'FloatingPointError',\n",
        " 'FutureWarning',\n",
        " 'GeneratorExit',\n",
        " 'IOError',\n",
        " 'ImportError',\n",
        " 'ImportWarning',\n",
        " 'IndentationError',\n",
        " 'IndexError',\n",
        " 'InterruptedError',\n",
        " 'IsADirectoryError',\n",
        " 'KeyError',\n",
        " 'KeyboardInterrupt',\n",
        " 'LookupError',\n",
        " 'MemoryError',\n",
        " 'NameError',\n",
        " 'None',\n",
        " 'NotADirectoryError',\n",
        " 'NotImplemented',\n",
        " 'NotImplementedError',\n",
        " 'OSError',\n",
        " 'OverflowError',\n",
        " 'PendingDeprecationWarning',\n",
        " 'PermissionError',\n",
        " 'ProcessLookupError',\n",
        " 'ReferenceError',\n",
        " 'ResourceWarning',\n",
        " 'RuntimeError',\n",
        " 'RuntimeWarning',\n",
        " 'StopIteration',\n",
        " 'SyntaxError',\n",
        " 'SyntaxWarning',\n",
        " 'SystemError',\n",
        " 'SystemExit',\n",
        " 'TabError',\n",
        " 'TimeoutError',\n",
        " 'True',\n",
        " 'TypeError',\n",
        " 'UnboundLocalError',\n",
        " 'UnicodeDecodeError',\n",
        " 'UnicodeEncodeError',\n",
        " 'UnicodeError',\n",
        " 'UnicodeTranslateError',\n",
        " 'UnicodeWarning',\n",
        " 'UserWarning',\n",
        " 'ValueError',\n",
        " 'Warning',\n",
        " 'ZeroDivisionError']"
       ]
      }
     ],
     "prompt_number": 29
    },
    {
     "cell_type": "code",
     "collapsed": false,
     "input": [
      "name = 'Ian Stokes-Rees'"
     ],
     "language": "python",
     "metadata": {},
     "outputs": [],
     "prompt_number": 25
    },
    {
     "cell_type": "code",
     "collapsed": false,
     "input": [
      "name[5]"
     ],
     "language": "python",
     "metadata": {},
     "outputs": [
      {
       "metadata": {},
       "output_type": "pyout",
       "prompt_number": 26,
       "text": [
        "'t'"
       ]
      }
     ],
     "prompt_number": 26
    },
    {
     "cell_type": "code",
     "collapsed": false,
     "input": [
      "name[0]"
     ],
     "language": "python",
     "metadata": {},
     "outputs": [
      {
       "metadata": {},
       "output_type": "pyout",
       "prompt_number": 27,
       "text": [
        "'I'"
       ]
      }
     ],
     "prompt_number": 27
    },
    {
     "cell_type": "code",
     "collapsed": false,
     "input": [
      "def check_value(val):\n",
      "    if val < 0:\n",
      "        raise ValueError('Negative Value: ' + str(val))\n",
      "    elif val > 9:\n",
      "        raise NameError('Too big! Only 0-9 allowed: ' + str(val))\n",
      "    else:\n",
      "        print(\"Ah, just right: \" + str(val))\n",
      "        \n",
      "n = 15\n",
      "try:\n",
      "    check_value(n)\n",
      "except ValueError as ex:\n",
      "    print(\"Something is wrong with n:\", n, \"ex:\", ex)"
     ],
     "language": "python",
     "metadata": {},
     "outputs": [
      {
       "ename": "NameError",
       "evalue": "Too big! Only 0-9 allowed: 15",
       "output_type": "pyerr",
       "traceback": [
        "\u001b[0;31m---------------------------------------------------------------------------\u001b[0m\n\u001b[0;31mNameError\u001b[0m                                 Traceback (most recent call last)",
        "\u001b[0;32m<ipython-input-46-c26a4286de36>\u001b[0m in \u001b[0;36m<module>\u001b[0;34m()\u001b[0m\n\u001b[1;32m      9\u001b[0m \u001b[0mn\u001b[0m \u001b[0;34m=\u001b[0m \u001b[0;36m15\u001b[0m\u001b[0;34m\u001b[0m\u001b[0m\n\u001b[1;32m     10\u001b[0m \u001b[0;32mtry\u001b[0m\u001b[0;34m:\u001b[0m\u001b[0;34m\u001b[0m\u001b[0m\n\u001b[0;32m---> 11\u001b[0;31m     \u001b[0mcheck_value\u001b[0m\u001b[0;34m(\u001b[0m\u001b[0mn\u001b[0m\u001b[0;34m)\u001b[0m\u001b[0;34m\u001b[0m\u001b[0m\n\u001b[0m\u001b[1;32m     12\u001b[0m \u001b[0;32mexcept\u001b[0m \u001b[0mValueError\u001b[0m \u001b[0;32mas\u001b[0m \u001b[0mex\u001b[0m\u001b[0;34m:\u001b[0m\u001b[0;34m\u001b[0m\u001b[0m\n\u001b[1;32m     13\u001b[0m     \u001b[0mprint\u001b[0m\u001b[0;34m(\u001b[0m\u001b[0;34m\"Something is wrong with n:\"\u001b[0m\u001b[0;34m,\u001b[0m \u001b[0mn\u001b[0m\u001b[0;34m,\u001b[0m \u001b[0;34m\"ex:\"\u001b[0m\u001b[0;34m,\u001b[0m \u001b[0mex\u001b[0m\u001b[0;34m)\u001b[0m\u001b[0;34m\u001b[0m\u001b[0m\n",
        "\u001b[0;32m<ipython-input-46-c26a4286de36>\u001b[0m in \u001b[0;36mcheck_value\u001b[0;34m(val)\u001b[0m\n\u001b[1;32m      3\u001b[0m         \u001b[0;32mraise\u001b[0m \u001b[0mValueError\u001b[0m\u001b[0;34m(\u001b[0m\u001b[0;34m'Negative Value: '\u001b[0m \u001b[0;34m+\u001b[0m \u001b[0mstr\u001b[0m\u001b[0;34m(\u001b[0m\u001b[0mval\u001b[0m\u001b[0;34m)\u001b[0m\u001b[0;34m)\u001b[0m\u001b[0;34m\u001b[0m\u001b[0m\n\u001b[1;32m      4\u001b[0m     \u001b[0;32melif\u001b[0m \u001b[0mval\u001b[0m \u001b[0;34m>\u001b[0m \u001b[0;36m9\u001b[0m\u001b[0;34m:\u001b[0m\u001b[0;34m\u001b[0m\u001b[0m\n\u001b[0;32m----> 5\u001b[0;31m         \u001b[0;32mraise\u001b[0m \u001b[0mNameError\u001b[0m\u001b[0;34m(\u001b[0m\u001b[0;34m'Too big! Only 0-9 allowed: '\u001b[0m \u001b[0;34m+\u001b[0m \u001b[0mstr\u001b[0m\u001b[0;34m(\u001b[0m\u001b[0mval\u001b[0m\u001b[0;34m)\u001b[0m\u001b[0;34m)\u001b[0m\u001b[0;34m\u001b[0m\u001b[0m\n\u001b[0m\u001b[1;32m      6\u001b[0m     \u001b[0;32melse\u001b[0m\u001b[0;34m:\u001b[0m\u001b[0;34m\u001b[0m\u001b[0m\n\u001b[1;32m      7\u001b[0m         \u001b[0mprint\u001b[0m\u001b[0;34m(\u001b[0m\u001b[0;34m\"Ah, just right: \"\u001b[0m \u001b[0;34m+\u001b[0m \u001b[0mstr\u001b[0m\u001b[0;34m(\u001b[0m\u001b[0mval\u001b[0m\u001b[0;34m)\u001b[0m\u001b[0;34m)\u001b[0m\u001b[0;34m\u001b[0m\u001b[0m\n",
        "\u001b[0;31mNameError\u001b[0m: Too big! Only 0-9 allowed: 15"
       ]
      }
     ],
     "prompt_number": 46
    },
    {
     "cell_type": "code",
     "collapsed": false,
     "input": [],
     "language": "python",
     "metadata": {},
     "outputs": []
    },
    {
     "cell_type": "code",
     "collapsed": false,
     "input": [
      "if val < 0:\n",
      "    raise ValueError('Negative Value: ' + str(val))\n",
      "elif val > 9:\n",
      "    raise NameError('Too big! Only 0-9 allowed: ' + str(val))\n",
      "else:\n",
      "    print(\"Ah, just right: \" + str(val))"
     ],
     "language": "python",
     "metadata": {},
     "outputs": []
    }
   ],
   "metadata": {}
  }
 ]
}